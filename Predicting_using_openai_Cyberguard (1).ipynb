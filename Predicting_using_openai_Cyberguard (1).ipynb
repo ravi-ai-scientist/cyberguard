{
  "nbformat": 4,
  "nbformat_minor": 0,
  "metadata": {
    "colab": {
      "provenance": []
    },
    "kernelspec": {
      "name": "python3",
      "display_name": "Python 3"
    },
    "language_info": {
      "name": "python"
    }
  },
  "cells": [
    {
      "cell_type": "code",
      "source": [
        "pip install langchain_openai"
      ],
      "metadata": {
        "colab": {
          "base_uri": "https://localhost:8080/"
        },
        "id": "y0mVg2GxtYt1",
        "outputId": "7fffe0cc-67db-4c9e-d56c-bb68e848e3df"
      },
      "execution_count": 1,
      "outputs": [
        {
          "output_type": "stream",
          "name": "stdout",
          "text": [
            "Requirement already satisfied: langchain_openai in /usr/local/lib/python3.10/dist-packages (0.2.8)\n",
            "Requirement already satisfied: langchain-core<0.4.0,>=0.3.17 in /usr/local/lib/python3.10/dist-packages (from langchain_openai) (0.3.17)\n",
            "Requirement already satisfied: openai<2.0.0,>=1.54.0 in /usr/local/lib/python3.10/dist-packages (from langchain_openai) (1.54.3)\n",
            "Requirement already satisfied: tiktoken<1,>=0.7 in /usr/local/lib/python3.10/dist-packages (from langchain_openai) (0.8.0)\n",
            "Requirement already satisfied: PyYAML>=5.3 in /usr/local/lib/python3.10/dist-packages (from langchain-core<0.4.0,>=0.3.17->langchain_openai) (6.0.2)\n",
            "Requirement already satisfied: jsonpatch<2.0,>=1.33 in /usr/local/lib/python3.10/dist-packages (from langchain-core<0.4.0,>=0.3.17->langchain_openai) (1.33)\n",
            "Requirement already satisfied: langsmith<0.2.0,>=0.1.125 in /usr/local/lib/python3.10/dist-packages (from langchain-core<0.4.0,>=0.3.17->langchain_openai) (0.1.142)\n",
            "Requirement already satisfied: packaging<25,>=23.2 in /usr/local/lib/python3.10/dist-packages (from langchain-core<0.4.0,>=0.3.17->langchain_openai) (24.2)\n",
            "Requirement already satisfied: pydantic<3.0.0,>=2.5.2 in /usr/local/lib/python3.10/dist-packages (from langchain-core<0.4.0,>=0.3.17->langchain_openai) (2.9.2)\n",
            "Requirement already satisfied: tenacity!=8.4.0,<10.0.0,>=8.1.0 in /usr/local/lib/python3.10/dist-packages (from langchain-core<0.4.0,>=0.3.17->langchain_openai) (9.0.0)\n",
            "Requirement already satisfied: typing-extensions>=4.7 in /usr/local/lib/python3.10/dist-packages (from langchain-core<0.4.0,>=0.3.17->langchain_openai) (4.12.2)\n",
            "Requirement already satisfied: anyio<5,>=3.5.0 in /usr/local/lib/python3.10/dist-packages (from openai<2.0.0,>=1.54.0->langchain_openai) (3.7.1)\n",
            "Requirement already satisfied: distro<2,>=1.7.0 in /usr/local/lib/python3.10/dist-packages (from openai<2.0.0,>=1.54.0->langchain_openai) (1.9.0)\n",
            "Requirement already satisfied: httpx<1,>=0.23.0 in /usr/local/lib/python3.10/dist-packages (from openai<2.0.0,>=1.54.0->langchain_openai) (0.27.2)\n",
            "Requirement already satisfied: jiter<1,>=0.4.0 in /usr/local/lib/python3.10/dist-packages (from openai<2.0.0,>=1.54.0->langchain_openai) (0.7.0)\n",
            "Requirement already satisfied: sniffio in /usr/local/lib/python3.10/dist-packages (from openai<2.0.0,>=1.54.0->langchain_openai) (1.3.1)\n",
            "Requirement already satisfied: tqdm>4 in /usr/local/lib/python3.10/dist-packages (from openai<2.0.0,>=1.54.0->langchain_openai) (4.66.6)\n",
            "Requirement already satisfied: regex>=2022.1.18 in /usr/local/lib/python3.10/dist-packages (from tiktoken<1,>=0.7->langchain_openai) (2024.9.11)\n",
            "Requirement already satisfied: requests>=2.26.0 in /usr/local/lib/python3.10/dist-packages (from tiktoken<1,>=0.7->langchain_openai) (2.32.3)\n",
            "Requirement already satisfied: idna>=2.8 in /usr/local/lib/python3.10/dist-packages (from anyio<5,>=3.5.0->openai<2.0.0,>=1.54.0->langchain_openai) (3.10)\n",
            "Requirement already satisfied: exceptiongroup in /usr/local/lib/python3.10/dist-packages (from anyio<5,>=3.5.0->openai<2.0.0,>=1.54.0->langchain_openai) (1.2.2)\n",
            "Requirement already satisfied: certifi in /usr/local/lib/python3.10/dist-packages (from httpx<1,>=0.23.0->openai<2.0.0,>=1.54.0->langchain_openai) (2024.8.30)\n",
            "Requirement already satisfied: httpcore==1.* in /usr/local/lib/python3.10/dist-packages (from httpx<1,>=0.23.0->openai<2.0.0,>=1.54.0->langchain_openai) (1.0.6)\n",
            "Requirement already satisfied: h11<0.15,>=0.13 in /usr/local/lib/python3.10/dist-packages (from httpcore==1.*->httpx<1,>=0.23.0->openai<2.0.0,>=1.54.0->langchain_openai) (0.14.0)\n",
            "Requirement already satisfied: jsonpointer>=1.9 in /usr/local/lib/python3.10/dist-packages (from jsonpatch<2.0,>=1.33->langchain-core<0.4.0,>=0.3.17->langchain_openai) (3.0.0)\n",
            "Requirement already satisfied: orjson<4.0.0,>=3.9.14 in /usr/local/lib/python3.10/dist-packages (from langsmith<0.2.0,>=0.1.125->langchain-core<0.4.0,>=0.3.17->langchain_openai) (3.10.11)\n",
            "Requirement already satisfied: requests-toolbelt<2.0.0,>=1.0.0 in /usr/local/lib/python3.10/dist-packages (from langsmith<0.2.0,>=0.1.125->langchain-core<0.4.0,>=0.3.17->langchain_openai) (1.0.0)\n",
            "Requirement already satisfied: annotated-types>=0.6.0 in /usr/local/lib/python3.10/dist-packages (from pydantic<3.0.0,>=2.5.2->langchain-core<0.4.0,>=0.3.17->langchain_openai) (0.7.0)\n",
            "Requirement already satisfied: pydantic-core==2.23.4 in /usr/local/lib/python3.10/dist-packages (from pydantic<3.0.0,>=2.5.2->langchain-core<0.4.0,>=0.3.17->langchain_openai) (2.23.4)\n",
            "Requirement already satisfied: charset-normalizer<4,>=2 in /usr/local/lib/python3.10/dist-packages (from requests>=2.26.0->tiktoken<1,>=0.7->langchain_openai) (3.4.0)\n",
            "Requirement already satisfied: urllib3<3,>=1.21.1 in /usr/local/lib/python3.10/dist-packages (from requests>=2.26.0->tiktoken<1,>=0.7->langchain_openai) (2.2.3)\n"
          ]
        }
      ]
    },
    {
      "cell_type": "code",
      "source": [
        "pip install langchain_community"
      ],
      "metadata": {
        "colab": {
          "base_uri": "https://localhost:8080/"
        },
        "id": "b1PBKuhaAk1D",
        "outputId": "0a388f68-e93f-47f3-8d6d-dda88214bace"
      },
      "execution_count": 2,
      "outputs": [
        {
          "output_type": "stream",
          "name": "stdout",
          "text": [
            "Requirement already satisfied: langchain_community in /usr/local/lib/python3.10/dist-packages (0.3.7)\n",
            "Requirement already satisfied: PyYAML>=5.3 in /usr/local/lib/python3.10/dist-packages (from langchain_community) (6.0.2)\n",
            "Requirement already satisfied: SQLAlchemy<2.0.36,>=1.4 in /usr/local/lib/python3.10/dist-packages (from langchain_community) (2.0.35)\n",
            "Requirement already satisfied: aiohttp<4.0.0,>=3.8.3 in /usr/local/lib/python3.10/dist-packages (from langchain_community) (3.10.10)\n",
            "Requirement already satisfied: dataclasses-json<0.7,>=0.5.7 in /usr/local/lib/python3.10/dist-packages (from langchain_community) (0.6.7)\n",
            "Requirement already satisfied: httpx-sse<0.5.0,>=0.4.0 in /usr/local/lib/python3.10/dist-packages (from langchain_community) (0.4.0)\n",
            "Requirement already satisfied: langchain<0.4.0,>=0.3.7 in /usr/local/lib/python3.10/dist-packages (from langchain_community) (0.3.7)\n",
            "Requirement already satisfied: langchain-core<0.4.0,>=0.3.17 in /usr/local/lib/python3.10/dist-packages (from langchain_community) (0.3.17)\n",
            "Requirement already satisfied: langsmith<0.2.0,>=0.1.125 in /usr/local/lib/python3.10/dist-packages (from langchain_community) (0.1.142)\n",
            "Requirement already satisfied: numpy<2,>=1 in /usr/local/lib/python3.10/dist-packages (from langchain_community) (1.26.4)\n",
            "Requirement already satisfied: pydantic-settings<3.0.0,>=2.4.0 in /usr/local/lib/python3.10/dist-packages (from langchain_community) (2.6.1)\n",
            "Requirement already satisfied: requests<3,>=2 in /usr/local/lib/python3.10/dist-packages (from langchain_community) (2.32.3)\n",
            "Requirement already satisfied: tenacity!=8.4.0,<10,>=8.1.0 in /usr/local/lib/python3.10/dist-packages (from langchain_community) (9.0.0)\n",
            "Requirement already satisfied: aiohappyeyeballs>=2.3.0 in /usr/local/lib/python3.10/dist-packages (from aiohttp<4.0.0,>=3.8.3->langchain_community) (2.4.3)\n",
            "Requirement already satisfied: aiosignal>=1.1.2 in /usr/local/lib/python3.10/dist-packages (from aiohttp<4.0.0,>=3.8.3->langchain_community) (1.3.1)\n",
            "Requirement already satisfied: attrs>=17.3.0 in /usr/local/lib/python3.10/dist-packages (from aiohttp<4.0.0,>=3.8.3->langchain_community) (24.2.0)\n",
            "Requirement already satisfied: frozenlist>=1.1.1 in /usr/local/lib/python3.10/dist-packages (from aiohttp<4.0.0,>=3.8.3->langchain_community) (1.5.0)\n",
            "Requirement already satisfied: multidict<7.0,>=4.5 in /usr/local/lib/python3.10/dist-packages (from aiohttp<4.0.0,>=3.8.3->langchain_community) (6.1.0)\n",
            "Requirement already satisfied: yarl<2.0,>=1.12.0 in /usr/local/lib/python3.10/dist-packages (from aiohttp<4.0.0,>=3.8.3->langchain_community) (1.17.1)\n",
            "Requirement already satisfied: async-timeout<5.0,>=4.0 in /usr/local/lib/python3.10/dist-packages (from aiohttp<4.0.0,>=3.8.3->langchain_community) (4.0.3)\n",
            "Requirement already satisfied: marshmallow<4.0.0,>=3.18.0 in /usr/local/lib/python3.10/dist-packages (from dataclasses-json<0.7,>=0.5.7->langchain_community) (3.23.1)\n",
            "Requirement already satisfied: typing-inspect<1,>=0.4.0 in /usr/local/lib/python3.10/dist-packages (from dataclasses-json<0.7,>=0.5.7->langchain_community) (0.9.0)\n",
            "Requirement already satisfied: langchain-text-splitters<0.4.0,>=0.3.0 in /usr/local/lib/python3.10/dist-packages (from langchain<0.4.0,>=0.3.7->langchain_community) (0.3.2)\n",
            "Requirement already satisfied: pydantic<3.0.0,>=2.7.4 in /usr/local/lib/python3.10/dist-packages (from langchain<0.4.0,>=0.3.7->langchain_community) (2.9.2)\n",
            "Requirement already satisfied: jsonpatch<2.0,>=1.33 in /usr/local/lib/python3.10/dist-packages (from langchain-core<0.4.0,>=0.3.17->langchain_community) (1.33)\n",
            "Requirement already satisfied: packaging<25,>=23.2 in /usr/local/lib/python3.10/dist-packages (from langchain-core<0.4.0,>=0.3.17->langchain_community) (24.2)\n",
            "Requirement already satisfied: typing-extensions>=4.7 in /usr/local/lib/python3.10/dist-packages (from langchain-core<0.4.0,>=0.3.17->langchain_community) (4.12.2)\n",
            "Requirement already satisfied: httpx<1,>=0.23.0 in /usr/local/lib/python3.10/dist-packages (from langsmith<0.2.0,>=0.1.125->langchain_community) (0.27.2)\n",
            "Requirement already satisfied: orjson<4.0.0,>=3.9.14 in /usr/local/lib/python3.10/dist-packages (from langsmith<0.2.0,>=0.1.125->langchain_community) (3.10.11)\n",
            "Requirement already satisfied: requests-toolbelt<2.0.0,>=1.0.0 in /usr/local/lib/python3.10/dist-packages (from langsmith<0.2.0,>=0.1.125->langchain_community) (1.0.0)\n",
            "Requirement already satisfied: python-dotenv>=0.21.0 in /usr/local/lib/python3.10/dist-packages (from pydantic-settings<3.0.0,>=2.4.0->langchain_community) (1.0.1)\n",
            "Requirement already satisfied: charset-normalizer<4,>=2 in /usr/local/lib/python3.10/dist-packages (from requests<3,>=2->langchain_community) (3.4.0)\n",
            "Requirement already satisfied: idna<4,>=2.5 in /usr/local/lib/python3.10/dist-packages (from requests<3,>=2->langchain_community) (3.10)\n",
            "Requirement already satisfied: urllib3<3,>=1.21.1 in /usr/local/lib/python3.10/dist-packages (from requests<3,>=2->langchain_community) (2.2.3)\n",
            "Requirement already satisfied: certifi>=2017.4.17 in /usr/local/lib/python3.10/dist-packages (from requests<3,>=2->langchain_community) (2024.8.30)\n",
            "Requirement already satisfied: greenlet!=0.4.17 in /usr/local/lib/python3.10/dist-packages (from SQLAlchemy<2.0.36,>=1.4->langchain_community) (3.1.1)\n",
            "Requirement already satisfied: anyio in /usr/local/lib/python3.10/dist-packages (from httpx<1,>=0.23.0->langsmith<0.2.0,>=0.1.125->langchain_community) (3.7.1)\n",
            "Requirement already satisfied: httpcore==1.* in /usr/local/lib/python3.10/dist-packages (from httpx<1,>=0.23.0->langsmith<0.2.0,>=0.1.125->langchain_community) (1.0.6)\n",
            "Requirement already satisfied: sniffio in /usr/local/lib/python3.10/dist-packages (from httpx<1,>=0.23.0->langsmith<0.2.0,>=0.1.125->langchain_community) (1.3.1)\n",
            "Requirement already satisfied: h11<0.15,>=0.13 in /usr/local/lib/python3.10/dist-packages (from httpcore==1.*->httpx<1,>=0.23.0->langsmith<0.2.0,>=0.1.125->langchain_community) (0.14.0)\n",
            "Requirement already satisfied: jsonpointer>=1.9 in /usr/local/lib/python3.10/dist-packages (from jsonpatch<2.0,>=1.33->langchain-core<0.4.0,>=0.3.17->langchain_community) (3.0.0)\n",
            "Requirement already satisfied: annotated-types>=0.6.0 in /usr/local/lib/python3.10/dist-packages (from pydantic<3.0.0,>=2.7.4->langchain<0.4.0,>=0.3.7->langchain_community) (0.7.0)\n",
            "Requirement already satisfied: pydantic-core==2.23.4 in /usr/local/lib/python3.10/dist-packages (from pydantic<3.0.0,>=2.7.4->langchain<0.4.0,>=0.3.7->langchain_community) (2.23.4)\n",
            "Requirement already satisfied: mypy-extensions>=0.3.0 in /usr/local/lib/python3.10/dist-packages (from typing-inspect<1,>=0.4.0->dataclasses-json<0.7,>=0.5.7->langchain_community) (1.0.0)\n",
            "Requirement already satisfied: propcache>=0.2.0 in /usr/local/lib/python3.10/dist-packages (from yarl<2.0,>=1.12.0->aiohttp<4.0.0,>=3.8.3->langchain_community) (0.2.0)\n",
            "Requirement already satisfied: exceptiongroup in /usr/local/lib/python3.10/dist-packages (from anyio->httpx<1,>=0.23.0->langsmith<0.2.0,>=0.1.125->langchain_community) (1.2.2)\n"
          ]
        }
      ]
    },
    {
      "cell_type": "code",
      "source": [
        "pip install docarray"
      ],
      "metadata": {
        "colab": {
          "base_uri": "https://localhost:8080/"
        },
        "id": "a6TE0LumAmyS",
        "outputId": "2b639a29-8e0b-4693-db9c-aecccc30e54f"
      },
      "execution_count": 3,
      "outputs": [
        {
          "output_type": "stream",
          "name": "stdout",
          "text": [
            "Requirement already satisfied: docarray in /usr/local/lib/python3.10/dist-packages (0.40.0)\n",
            "Requirement already satisfied: numpy>=1.17.3 in /usr/local/lib/python3.10/dist-packages (from docarray) (1.26.4)\n",
            "Requirement already satisfied: orjson>=3.8.2 in /usr/local/lib/python3.10/dist-packages (from docarray) (3.10.11)\n",
            "Requirement already satisfied: pydantic>=1.10.8 in /usr/local/lib/python3.10/dist-packages (from docarray) (2.9.2)\n",
            "Requirement already satisfied: rich>=13.1.0 in /usr/local/lib/python3.10/dist-packages (from docarray) (13.9.4)\n",
            "Requirement already satisfied: types-requests>=2.28.11.6 in /usr/local/lib/python3.10/dist-packages (from docarray) (2.32.0.20241016)\n",
            "Requirement already satisfied: typing-inspect>=0.8.0 in /usr/local/lib/python3.10/dist-packages (from docarray) (0.9.0)\n",
            "Requirement already satisfied: annotated-types>=0.6.0 in /usr/local/lib/python3.10/dist-packages (from pydantic>=1.10.8->docarray) (0.7.0)\n",
            "Requirement already satisfied: pydantic-core==2.23.4 in /usr/local/lib/python3.10/dist-packages (from pydantic>=1.10.8->docarray) (2.23.4)\n",
            "Requirement already satisfied: typing-extensions>=4.6.1 in /usr/local/lib/python3.10/dist-packages (from pydantic>=1.10.8->docarray) (4.12.2)\n",
            "Requirement already satisfied: markdown-it-py>=2.2.0 in /usr/local/lib/python3.10/dist-packages (from rich>=13.1.0->docarray) (3.0.0)\n",
            "Requirement already satisfied: pygments<3.0.0,>=2.13.0 in /usr/local/lib/python3.10/dist-packages (from rich>=13.1.0->docarray) (2.18.0)\n",
            "Requirement already satisfied: urllib3>=2 in /usr/local/lib/python3.10/dist-packages (from types-requests>=2.28.11.6->docarray) (2.2.3)\n",
            "Requirement already satisfied: mypy-extensions>=0.3.0 in /usr/local/lib/python3.10/dist-packages (from typing-inspect>=0.8.0->docarray) (1.0.0)\n",
            "Requirement already satisfied: mdurl~=0.1 in /usr/local/lib/python3.10/dist-packages (from markdown-it-py>=2.2.0->rich>=13.1.0->docarray) (0.1.2)\n"
          ]
        }
      ]
    },
    {
      "cell_type": "code",
      "execution_count": 4,
      "metadata": {
        "id": "oVvALPwrtHN4"
      },
      "outputs": [],
      "source": [
        "from langchain_openai.chat_models import ChatOpenAI\n",
        "OPENAI_API_KEY = \"\"\n",
        "model = ChatOpenAI(openai_api_key=OPENAI_API_KEY, model=\"gpt-4o-mini\")"
      ]
    },
    {
      "cell_type": "code",
      "source": [
        "from langchain.prompts import ChatPromptTemplate\n",
        "\n",
        "template = \"\"\"\n",
        "Given the crime data and corresponding category and sub_category in the user context {context}, your task is to select the most relevant category from the provided {data} based on the crimedata. Provide only the selected category as the output. Context: {context}\n",
        "\n",
        "Question: {question}\n",
        "\"\"\"\n",
        "\n",
        "prompt = ChatPromptTemplate.from_template(template)"
      ],
      "metadata": {
        "id": "FC62MsE8tbFX"
      },
      "execution_count": 5,
      "outputs": []
    },
    {
      "cell_type": "code",
      "source": [
        "import pandas as pd\n",
        "df=pd.read_csv(\"/content/drive/MyDrive/cyberguard_hackathon/train.csv\")\n",
        "#df1=df[[\"title\",\"text\",\"Target_Title\"]]\n",
        "# df1=df.rename(columns={\"Target_Title\":\"Book Title\"})\n",
        "df.head()\n"
      ],
      "metadata": {
        "colab": {
          "base_uri": "https://localhost:8080/",
          "height": 206
        },
        "id": "GnjZgx2_twKV",
        "outputId": "7f72c459-a237-46be-d57d-b1e20309796b"
      },
      "execution_count": 6,
      "outputs": [
        {
          "output_type": "execute_result",
          "data": {
            "text/plain": [
              "                                category                       sub_category  \\\n",
              "0  Online and Social Media Related Crime  Cyber Bullying  Stalking  Sexting   \n",
              "1                 Online Financial Fraud                  Fraud CallVishing   \n",
              "2               Online Gambling  Betting           Online Gambling  Betting   \n",
              "3  Online and Social Media Related Crime                   Online Job Fraud   \n",
              "4                 Online Financial Fraud                  Fraud CallVishing   \n",
              "\n",
              "                                  crimeaditionalinfo  \n",
              "0  I had continue received random calls and abusi...  \n",
              "1  The above fraudster is continuously messaging ...  \n",
              "2  He is acting like a police and demanding for m...  \n",
              "3  In apna Job I have applied for job interview f...  \n",
              "4  I received a call from lady stating that she w...  "
            ],
            "text/html": [
              "\n",
              "  <div id=\"df-b89df219-5c6f-4db7-94c9-1f740e1c15b7\" class=\"colab-df-container\">\n",
              "    <div>\n",
              "<style scoped>\n",
              "    .dataframe tbody tr th:only-of-type {\n",
              "        vertical-align: middle;\n",
              "    }\n",
              "\n",
              "    .dataframe tbody tr th {\n",
              "        vertical-align: top;\n",
              "    }\n",
              "\n",
              "    .dataframe thead th {\n",
              "        text-align: right;\n",
              "    }\n",
              "</style>\n",
              "<table border=\"1\" class=\"dataframe\">\n",
              "  <thead>\n",
              "    <tr style=\"text-align: right;\">\n",
              "      <th></th>\n",
              "      <th>category</th>\n",
              "      <th>sub_category</th>\n",
              "      <th>crimeaditionalinfo</th>\n",
              "    </tr>\n",
              "  </thead>\n",
              "  <tbody>\n",
              "    <tr>\n",
              "      <th>0</th>\n",
              "      <td>Online and Social Media Related Crime</td>\n",
              "      <td>Cyber Bullying  Stalking  Sexting</td>\n",
              "      <td>I had continue received random calls and abusi...</td>\n",
              "    </tr>\n",
              "    <tr>\n",
              "      <th>1</th>\n",
              "      <td>Online Financial Fraud</td>\n",
              "      <td>Fraud CallVishing</td>\n",
              "      <td>The above fraudster is continuously messaging ...</td>\n",
              "    </tr>\n",
              "    <tr>\n",
              "      <th>2</th>\n",
              "      <td>Online Gambling  Betting</td>\n",
              "      <td>Online Gambling  Betting</td>\n",
              "      <td>He is acting like a police and demanding for m...</td>\n",
              "    </tr>\n",
              "    <tr>\n",
              "      <th>3</th>\n",
              "      <td>Online and Social Media Related Crime</td>\n",
              "      <td>Online Job Fraud</td>\n",
              "      <td>In apna Job I have applied for job interview f...</td>\n",
              "    </tr>\n",
              "    <tr>\n",
              "      <th>4</th>\n",
              "      <td>Online Financial Fraud</td>\n",
              "      <td>Fraud CallVishing</td>\n",
              "      <td>I received a call from lady stating that she w...</td>\n",
              "    </tr>\n",
              "  </tbody>\n",
              "</table>\n",
              "</div>\n",
              "    <div class=\"colab-df-buttons\">\n",
              "\n",
              "  <div class=\"colab-df-container\">\n",
              "    <button class=\"colab-df-convert\" onclick=\"convertToInteractive('df-b89df219-5c6f-4db7-94c9-1f740e1c15b7')\"\n",
              "            title=\"Convert this dataframe to an interactive table.\"\n",
              "            style=\"display:none;\">\n",
              "\n",
              "  <svg xmlns=\"http://www.w3.org/2000/svg\" height=\"24px\" viewBox=\"0 -960 960 960\">\n",
              "    <path d=\"M120-120v-720h720v720H120Zm60-500h600v-160H180v160Zm220 220h160v-160H400v160Zm0 220h160v-160H400v160ZM180-400h160v-160H180v160Zm440 0h160v-160H620v160ZM180-180h160v-160H180v160Zm440 0h160v-160H620v160Z\"/>\n",
              "  </svg>\n",
              "    </button>\n",
              "\n",
              "  <style>\n",
              "    .colab-df-container {\n",
              "      display:flex;\n",
              "      gap: 12px;\n",
              "    }\n",
              "\n",
              "    .colab-df-convert {\n",
              "      background-color: #E8F0FE;\n",
              "      border: none;\n",
              "      border-radius: 50%;\n",
              "      cursor: pointer;\n",
              "      display: none;\n",
              "      fill: #1967D2;\n",
              "      height: 32px;\n",
              "      padding: 0 0 0 0;\n",
              "      width: 32px;\n",
              "    }\n",
              "\n",
              "    .colab-df-convert:hover {\n",
              "      background-color: #E2EBFA;\n",
              "      box-shadow: 0px 1px 2px rgba(60, 64, 67, 0.3), 0px 1px 3px 1px rgba(60, 64, 67, 0.15);\n",
              "      fill: #174EA6;\n",
              "    }\n",
              "\n",
              "    .colab-df-buttons div {\n",
              "      margin-bottom: 4px;\n",
              "    }\n",
              "\n",
              "    [theme=dark] .colab-df-convert {\n",
              "      background-color: #3B4455;\n",
              "      fill: #D2E3FC;\n",
              "    }\n",
              "\n",
              "    [theme=dark] .colab-df-convert:hover {\n",
              "      background-color: #434B5C;\n",
              "      box-shadow: 0px 1px 3px 1px rgba(0, 0, 0, 0.15);\n",
              "      filter: drop-shadow(0px 1px 2px rgba(0, 0, 0, 0.3));\n",
              "      fill: #FFFFFF;\n",
              "    }\n",
              "  </style>\n",
              "\n",
              "    <script>\n",
              "      const buttonEl =\n",
              "        document.querySelector('#df-b89df219-5c6f-4db7-94c9-1f740e1c15b7 button.colab-df-convert');\n",
              "      buttonEl.style.display =\n",
              "        google.colab.kernel.accessAllowed ? 'block' : 'none';\n",
              "\n",
              "      async function convertToInteractive(key) {\n",
              "        const element = document.querySelector('#df-b89df219-5c6f-4db7-94c9-1f740e1c15b7');\n",
              "        const dataTable =\n",
              "          await google.colab.kernel.invokeFunction('convertToInteractive',\n",
              "                                                    [key], {});\n",
              "        if (!dataTable) return;\n",
              "\n",
              "        const docLinkHtml = 'Like what you see? Visit the ' +\n",
              "          '<a target=\"_blank\" href=https://colab.research.google.com/notebooks/data_table.ipynb>data table notebook</a>'\n",
              "          + ' to learn more about interactive tables.';\n",
              "        element.innerHTML = '';\n",
              "        dataTable['output_type'] = 'display_data';\n",
              "        await google.colab.output.renderOutput(dataTable, element);\n",
              "        const docLink = document.createElement('div');\n",
              "        docLink.innerHTML = docLinkHtml;\n",
              "        element.appendChild(docLink);\n",
              "      }\n",
              "    </script>\n",
              "  </div>\n",
              "\n",
              "\n",
              "<div id=\"df-bfec43c1-2dd4-436b-8b18-6bd92c403542\">\n",
              "  <button class=\"colab-df-quickchart\" onclick=\"quickchart('df-bfec43c1-2dd4-436b-8b18-6bd92c403542')\"\n",
              "            title=\"Suggest charts\"\n",
              "            style=\"display:none;\">\n",
              "\n",
              "<svg xmlns=\"http://www.w3.org/2000/svg\" height=\"24px\"viewBox=\"0 0 24 24\"\n",
              "     width=\"24px\">\n",
              "    <g>\n",
              "        <path d=\"M19 3H5c-1.1 0-2 .9-2 2v14c0 1.1.9 2 2 2h14c1.1 0 2-.9 2-2V5c0-1.1-.9-2-2-2zM9 17H7v-7h2v7zm4 0h-2V7h2v10zm4 0h-2v-4h2v4z\"/>\n",
              "    </g>\n",
              "</svg>\n",
              "  </button>\n",
              "\n",
              "<style>\n",
              "  .colab-df-quickchart {\n",
              "      --bg-color: #E8F0FE;\n",
              "      --fill-color: #1967D2;\n",
              "      --hover-bg-color: #E2EBFA;\n",
              "      --hover-fill-color: #174EA6;\n",
              "      --disabled-fill-color: #AAA;\n",
              "      --disabled-bg-color: #DDD;\n",
              "  }\n",
              "\n",
              "  [theme=dark] .colab-df-quickchart {\n",
              "      --bg-color: #3B4455;\n",
              "      --fill-color: #D2E3FC;\n",
              "      --hover-bg-color: #434B5C;\n",
              "      --hover-fill-color: #FFFFFF;\n",
              "      --disabled-bg-color: #3B4455;\n",
              "      --disabled-fill-color: #666;\n",
              "  }\n",
              "\n",
              "  .colab-df-quickchart {\n",
              "    background-color: var(--bg-color);\n",
              "    border: none;\n",
              "    border-radius: 50%;\n",
              "    cursor: pointer;\n",
              "    display: none;\n",
              "    fill: var(--fill-color);\n",
              "    height: 32px;\n",
              "    padding: 0;\n",
              "    width: 32px;\n",
              "  }\n",
              "\n",
              "  .colab-df-quickchart:hover {\n",
              "    background-color: var(--hover-bg-color);\n",
              "    box-shadow: 0 1px 2px rgba(60, 64, 67, 0.3), 0 1px 3px 1px rgba(60, 64, 67, 0.15);\n",
              "    fill: var(--button-hover-fill-color);\n",
              "  }\n",
              "\n",
              "  .colab-df-quickchart-complete:disabled,\n",
              "  .colab-df-quickchart-complete:disabled:hover {\n",
              "    background-color: var(--disabled-bg-color);\n",
              "    fill: var(--disabled-fill-color);\n",
              "    box-shadow: none;\n",
              "  }\n",
              "\n",
              "  .colab-df-spinner {\n",
              "    border: 2px solid var(--fill-color);\n",
              "    border-color: transparent;\n",
              "    border-bottom-color: var(--fill-color);\n",
              "    animation:\n",
              "      spin 1s steps(1) infinite;\n",
              "  }\n",
              "\n",
              "  @keyframes spin {\n",
              "    0% {\n",
              "      border-color: transparent;\n",
              "      border-bottom-color: var(--fill-color);\n",
              "      border-left-color: var(--fill-color);\n",
              "    }\n",
              "    20% {\n",
              "      border-color: transparent;\n",
              "      border-left-color: var(--fill-color);\n",
              "      border-top-color: var(--fill-color);\n",
              "    }\n",
              "    30% {\n",
              "      border-color: transparent;\n",
              "      border-left-color: var(--fill-color);\n",
              "      border-top-color: var(--fill-color);\n",
              "      border-right-color: var(--fill-color);\n",
              "    }\n",
              "    40% {\n",
              "      border-color: transparent;\n",
              "      border-right-color: var(--fill-color);\n",
              "      border-top-color: var(--fill-color);\n",
              "    }\n",
              "    60% {\n",
              "      border-color: transparent;\n",
              "      border-right-color: var(--fill-color);\n",
              "    }\n",
              "    80% {\n",
              "      border-color: transparent;\n",
              "      border-right-color: var(--fill-color);\n",
              "      border-bottom-color: var(--fill-color);\n",
              "    }\n",
              "    90% {\n",
              "      border-color: transparent;\n",
              "      border-bottom-color: var(--fill-color);\n",
              "    }\n",
              "  }\n",
              "</style>\n",
              "\n",
              "  <script>\n",
              "    async function quickchart(key) {\n",
              "      const quickchartButtonEl =\n",
              "        document.querySelector('#' + key + ' button');\n",
              "      quickchartButtonEl.disabled = true;  // To prevent multiple clicks.\n",
              "      quickchartButtonEl.classList.add('colab-df-spinner');\n",
              "      try {\n",
              "        const charts = await google.colab.kernel.invokeFunction(\n",
              "            'suggestCharts', [key], {});\n",
              "      } catch (error) {\n",
              "        console.error('Error during call to suggestCharts:', error);\n",
              "      }\n",
              "      quickchartButtonEl.classList.remove('colab-df-spinner');\n",
              "      quickchartButtonEl.classList.add('colab-df-quickchart-complete');\n",
              "    }\n",
              "    (() => {\n",
              "      let quickchartButtonEl =\n",
              "        document.querySelector('#df-bfec43c1-2dd4-436b-8b18-6bd92c403542 button');\n",
              "      quickchartButtonEl.style.display =\n",
              "        google.colab.kernel.accessAllowed ? 'block' : 'none';\n",
              "    })();\n",
              "  </script>\n",
              "</div>\n",
              "\n",
              "    </div>\n",
              "  </div>\n"
            ],
            "application/vnd.google.colaboratory.intrinsic+json": {
              "type": "dataframe",
              "variable_name": "df",
              "summary": "{\n  \"name\": \"df\",\n  \"rows\": 93686,\n  \"fields\": [\n    {\n      \"column\": \"category\",\n      \"properties\": {\n        \"dtype\": \"category\",\n        \"num_unique_values\": 15,\n        \"samples\": [\n          \"Hacking  Damage to computercomputer system etc\",\n          \"Child Pornography CPChild Sexual Abuse Material CSAM\",\n          \"Online and Social Media Related Crime\"\n        ],\n        \"semantic_type\": \"\",\n        \"description\": \"\"\n      }\n    },\n    {\n      \"column\": \"sub_category\",\n      \"properties\": {\n        \"dtype\": \"category\",\n        \"num_unique_values\": 35,\n        \"samples\": [\n          \"Online Trafficking\",\n          \"FakeImpersonating Profile\",\n          \"Tampering with computer source documents\"\n        ],\n        \"semantic_type\": \"\",\n        \"description\": \"\"\n      }\n    },\n    {\n      \"column\": \"crimeaditionalinfo\",\n      \"properties\": {\n        \"dtype\": \"string\",\n        \"num_unique_values\": 85013,\n        \"samples\": [\n          \"I got a call from this unknown number and the person was asking about GPAY and transfer  k to his friend I have disconnected the call and not paid any amount I have also called to  to report the same I have blocked the number as of now but i am sure it was fraudulent and malicious call\",\n          \"My friend mentioned something like this happened to them a few months ago, but I thought it was a one-off. Then, suddenly, I got this weird notification asking me to update my password, but the message didn\\u2019t look like the usual ones I receive from the app. It looked a bit off. It\\u2019s hard to explain, but it felt like someone was inside my account, doing things while I wasn\\u2019t even online. The more I tried to fix it, the more problems came up. My social media was notifiction, and then I got locked out of everything. The worst part is, I don\\u2019t even know who to trust anymore. Friends, family, everyone\\u2019s acting strange. It\\u2019s affecting my relationships and my mental health. Even my phone isn\\u2019t working right anymore. It\\u2019s so stange how everything just fell apart after that one email.\",\n          \"\\r\\nTHEY FRAUD ME IN THE NAME OF INDIAN ARMY OFFICERS VIA PHONEPE TRANSACTIONS FARUD CALLING FROM BELOW GIVEN NUMBER    FRAUD AMOUNT \\r\\n \\r\\n\"\n        ],\n        \"semantic_type\": \"\",\n        \"description\": \"\"\n      }\n    }\n  ]\n}"
            }
          },
          "metadata": {},
          "execution_count": 6
        }
      ]
    },
    {
      "cell_type": "code",
      "source": [
        "# Check for missing values in each column\n",
        "print(df.isnull().sum())"
      ],
      "metadata": {
        "colab": {
          "base_uri": "https://localhost:8080/"
        },
        "id": "ANfWHCtWtwRn",
        "outputId": "98c609b7-88b4-46fc-fa1b-415ca38f3513"
      },
      "execution_count": 7,
      "outputs": [
        {
          "output_type": "stream",
          "name": "stdout",
          "text": [
            "category                 0\n",
            "sub_category          6591\n",
            "crimeaditionalinfo      21\n",
            "dtype: int64\n"
          ]
        }
      ]
    },
    {
      "cell_type": "code",
      "source": [
        "# Drop rows with any missing values.\n",
        "df.dropna(inplace=True)"
      ],
      "metadata": {
        "id": "n7wrMaxVv594"
      },
      "execution_count": 8,
      "outputs": []
    },
    {
      "cell_type": "code",
      "source": [
        "# Check for missing values in each column\n",
        "print(df.isnull().sum())"
      ],
      "metadata": {
        "colab": {
          "base_uri": "https://localhost:8080/"
        },
        "id": "ShvmMSL6wX5E",
        "outputId": "7393f584-c448-4b99-a935-da40e4807861"
      },
      "execution_count": 9,
      "outputs": [
        {
          "output_type": "stream",
          "name": "stdout",
          "text": [
            "category              0\n",
            "sub_category          0\n",
            "crimeaditionalinfo    0\n",
            "dtype: int64\n"
          ]
        }
      ]
    },
    {
      "cell_type": "code",
      "source": [
        "# prompt: Using dataframe df: do the preprocess on the crimeaditionalinfo column\n",
        "\n",
        "import re\n",
        "\n",
        "# Function to preprocess the text\n",
        "def preprocess_text(text):\n",
        "    if not isinstance(text, str):\n",
        "        return \"\"  # Handle non-string values\n",
        "\n",
        "    # Convert to lowercase\n",
        "    text = text.lower()\n",
        "\n",
        "    # Remove special characters and numbers\n",
        "    text = re.sub(r'[^a-zA-Z\\s]', '', text)\n",
        "\n",
        "    # Remove extra whitespace\n",
        "    text = ' '.join(text.split())\n",
        "\n",
        "    return text\n",
        "\n",
        "# Apply the preprocessing function to the 'crimeaditionalinfo' column\n",
        "df['crimeaditionalinfo'] = df['crimeaditionalinfo'].apply(preprocess_text)"
      ],
      "metadata": {
        "id": "jm9pcAbAwY_s"
      },
      "execution_count": 10,
      "outputs": []
    },
    {
      "cell_type": "code",
      "source": [
        "df.columns"
      ],
      "metadata": {
        "colab": {
          "base_uri": "https://localhost:8080/"
        },
        "id": "AcTQ_eISwtij",
        "outputId": "c9b94b7b-637e-4a4e-aa91-561ea71326db"
      },
      "execution_count": 11,
      "outputs": [
        {
          "output_type": "execute_result",
          "data": {
            "text/plain": [
              "Index(['category', 'sub_category', 'crimeaditionalinfo'], dtype='object')"
            ]
          },
          "metadata": {},
          "execution_count": 11
        }
      ]
    },
    {
      "cell_type": "code",
      "source": [
        "pip install langchain_community"
      ],
      "metadata": {
        "colab": {
          "base_uri": "https://localhost:8080/"
        },
        "id": "ZaLyhQCOw5HT",
        "outputId": "1bdfb91b-caeb-4ba6-b662-3013840ca421"
      },
      "execution_count": 12,
      "outputs": [
        {
          "output_type": "stream",
          "name": "stdout",
          "text": [
            "Requirement already satisfied: langchain_community in /usr/local/lib/python3.10/dist-packages (0.3.7)\n",
            "Requirement already satisfied: PyYAML>=5.3 in /usr/local/lib/python3.10/dist-packages (from langchain_community) (6.0.2)\n",
            "Requirement already satisfied: SQLAlchemy<2.0.36,>=1.4 in /usr/local/lib/python3.10/dist-packages (from langchain_community) (2.0.35)\n",
            "Requirement already satisfied: aiohttp<4.0.0,>=3.8.3 in /usr/local/lib/python3.10/dist-packages (from langchain_community) (3.10.10)\n",
            "Requirement already satisfied: dataclasses-json<0.7,>=0.5.7 in /usr/local/lib/python3.10/dist-packages (from langchain_community) (0.6.7)\n",
            "Requirement already satisfied: httpx-sse<0.5.0,>=0.4.0 in /usr/local/lib/python3.10/dist-packages (from langchain_community) (0.4.0)\n",
            "Requirement already satisfied: langchain<0.4.0,>=0.3.7 in /usr/local/lib/python3.10/dist-packages (from langchain_community) (0.3.7)\n",
            "Requirement already satisfied: langchain-core<0.4.0,>=0.3.17 in /usr/local/lib/python3.10/dist-packages (from langchain_community) (0.3.17)\n",
            "Requirement already satisfied: langsmith<0.2.0,>=0.1.125 in /usr/local/lib/python3.10/dist-packages (from langchain_community) (0.1.142)\n",
            "Requirement already satisfied: numpy<2,>=1 in /usr/local/lib/python3.10/dist-packages (from langchain_community) (1.26.4)\n",
            "Requirement already satisfied: pydantic-settings<3.0.0,>=2.4.0 in /usr/local/lib/python3.10/dist-packages (from langchain_community) (2.6.1)\n",
            "Requirement already satisfied: requests<3,>=2 in /usr/local/lib/python3.10/dist-packages (from langchain_community) (2.32.3)\n",
            "Requirement already satisfied: tenacity!=8.4.0,<10,>=8.1.0 in /usr/local/lib/python3.10/dist-packages (from langchain_community) (9.0.0)\n",
            "Requirement already satisfied: aiohappyeyeballs>=2.3.0 in /usr/local/lib/python3.10/dist-packages (from aiohttp<4.0.0,>=3.8.3->langchain_community) (2.4.3)\n",
            "Requirement already satisfied: aiosignal>=1.1.2 in /usr/local/lib/python3.10/dist-packages (from aiohttp<4.0.0,>=3.8.3->langchain_community) (1.3.1)\n",
            "Requirement already satisfied: attrs>=17.3.0 in /usr/local/lib/python3.10/dist-packages (from aiohttp<4.0.0,>=3.8.3->langchain_community) (24.2.0)\n",
            "Requirement already satisfied: frozenlist>=1.1.1 in /usr/local/lib/python3.10/dist-packages (from aiohttp<4.0.0,>=3.8.3->langchain_community) (1.5.0)\n",
            "Requirement already satisfied: multidict<7.0,>=4.5 in /usr/local/lib/python3.10/dist-packages (from aiohttp<4.0.0,>=3.8.3->langchain_community) (6.1.0)\n",
            "Requirement already satisfied: yarl<2.0,>=1.12.0 in /usr/local/lib/python3.10/dist-packages (from aiohttp<4.0.0,>=3.8.3->langchain_community) (1.17.1)\n",
            "Requirement already satisfied: async-timeout<5.0,>=4.0 in /usr/local/lib/python3.10/dist-packages (from aiohttp<4.0.0,>=3.8.3->langchain_community) (4.0.3)\n",
            "Requirement already satisfied: marshmallow<4.0.0,>=3.18.0 in /usr/local/lib/python3.10/dist-packages (from dataclasses-json<0.7,>=0.5.7->langchain_community) (3.23.1)\n",
            "Requirement already satisfied: typing-inspect<1,>=0.4.0 in /usr/local/lib/python3.10/dist-packages (from dataclasses-json<0.7,>=0.5.7->langchain_community) (0.9.0)\n",
            "Requirement already satisfied: langchain-text-splitters<0.4.0,>=0.3.0 in /usr/local/lib/python3.10/dist-packages (from langchain<0.4.0,>=0.3.7->langchain_community) (0.3.2)\n",
            "Requirement already satisfied: pydantic<3.0.0,>=2.7.4 in /usr/local/lib/python3.10/dist-packages (from langchain<0.4.0,>=0.3.7->langchain_community) (2.9.2)\n",
            "Requirement already satisfied: jsonpatch<2.0,>=1.33 in /usr/local/lib/python3.10/dist-packages (from langchain-core<0.4.0,>=0.3.17->langchain_community) (1.33)\n",
            "Requirement already satisfied: packaging<25,>=23.2 in /usr/local/lib/python3.10/dist-packages (from langchain-core<0.4.0,>=0.3.17->langchain_community) (24.2)\n",
            "Requirement already satisfied: typing-extensions>=4.7 in /usr/local/lib/python3.10/dist-packages (from langchain-core<0.4.0,>=0.3.17->langchain_community) (4.12.2)\n",
            "Requirement already satisfied: httpx<1,>=0.23.0 in /usr/local/lib/python3.10/dist-packages (from langsmith<0.2.0,>=0.1.125->langchain_community) (0.27.2)\n",
            "Requirement already satisfied: orjson<4.0.0,>=3.9.14 in /usr/local/lib/python3.10/dist-packages (from langsmith<0.2.0,>=0.1.125->langchain_community) (3.10.11)\n",
            "Requirement already satisfied: requests-toolbelt<2.0.0,>=1.0.0 in /usr/local/lib/python3.10/dist-packages (from langsmith<0.2.0,>=0.1.125->langchain_community) (1.0.0)\n",
            "Requirement already satisfied: python-dotenv>=0.21.0 in /usr/local/lib/python3.10/dist-packages (from pydantic-settings<3.0.0,>=2.4.0->langchain_community) (1.0.1)\n",
            "Requirement already satisfied: charset-normalizer<4,>=2 in /usr/local/lib/python3.10/dist-packages (from requests<3,>=2->langchain_community) (3.4.0)\n",
            "Requirement already satisfied: idna<4,>=2.5 in /usr/local/lib/python3.10/dist-packages (from requests<3,>=2->langchain_community) (3.10)\n",
            "Requirement already satisfied: urllib3<3,>=1.21.1 in /usr/local/lib/python3.10/dist-packages (from requests<3,>=2->langchain_community) (2.2.3)\n",
            "Requirement already satisfied: certifi>=2017.4.17 in /usr/local/lib/python3.10/dist-packages (from requests<3,>=2->langchain_community) (2024.8.30)\n",
            "Requirement already satisfied: greenlet!=0.4.17 in /usr/local/lib/python3.10/dist-packages (from SQLAlchemy<2.0.36,>=1.4->langchain_community) (3.1.1)\n",
            "Requirement already satisfied: anyio in /usr/local/lib/python3.10/dist-packages (from httpx<1,>=0.23.0->langsmith<0.2.0,>=0.1.125->langchain_community) (3.7.1)\n",
            "Requirement already satisfied: httpcore==1.* in /usr/local/lib/python3.10/dist-packages (from httpx<1,>=0.23.0->langsmith<0.2.0,>=0.1.125->langchain_community) (1.0.6)\n",
            "Requirement already satisfied: sniffio in /usr/local/lib/python3.10/dist-packages (from httpx<1,>=0.23.0->langsmith<0.2.0,>=0.1.125->langchain_community) (1.3.1)\n",
            "Requirement already satisfied: h11<0.15,>=0.13 in /usr/local/lib/python3.10/dist-packages (from httpcore==1.*->httpx<1,>=0.23.0->langsmith<0.2.0,>=0.1.125->langchain_community) (0.14.0)\n",
            "Requirement already satisfied: jsonpointer>=1.9 in /usr/local/lib/python3.10/dist-packages (from jsonpatch<2.0,>=1.33->langchain-core<0.4.0,>=0.3.17->langchain_community) (3.0.0)\n",
            "Requirement already satisfied: annotated-types>=0.6.0 in /usr/local/lib/python3.10/dist-packages (from pydantic<3.0.0,>=2.7.4->langchain<0.4.0,>=0.3.7->langchain_community) (0.7.0)\n",
            "Requirement already satisfied: pydantic-core==2.23.4 in /usr/local/lib/python3.10/dist-packages (from pydantic<3.0.0,>=2.7.4->langchain<0.4.0,>=0.3.7->langchain_community) (2.23.4)\n",
            "Requirement already satisfied: mypy-extensions>=0.3.0 in /usr/local/lib/python3.10/dist-packages (from typing-inspect<1,>=0.4.0->dataclasses-json<0.7,>=0.5.7->langchain_community) (1.0.0)\n",
            "Requirement already satisfied: propcache>=0.2.0 in /usr/local/lib/python3.10/dist-packages (from yarl<2.0,>=1.12.0->aiohttp<4.0.0,>=3.8.3->langchain_community) (0.2.0)\n",
            "Requirement already satisfied: exceptiongroup in /usr/local/lib/python3.10/dist-packages (from anyio->httpx<1,>=0.23.0->langsmith<0.2.0,>=0.1.125->langchain_community) (1.2.2)\n"
          ]
        }
      ]
    },
    {
      "cell_type": "code",
      "source": [
        "from langchain_community.document_loaders.csv_loader import CSVLoader\n",
        "loader = CSVLoader(file_path=\"/content/drive/MyDrive/cyberguard_hackathon/train.csv\", csv_args={\n",
        "    'delimiter': ',',\n",
        "    'quotechar': '\"',\n",
        "    'fieldnames': ['category', 'sub_category', 'crimeaditionalinfo']\n",
        "})\n",
        "#loader = CSVLoader(\"/content/drive/MyDrive/Colab Notebooks/RAG/filtered_train\")\n",
        "text_documents = loader.load()\n",
        "text_documents[:10]"
      ],
      "metadata": {
        "colab": {
          "base_uri": "https://localhost:8080/"
        },
        "id": "k7C3NskZwdlk",
        "outputId": "aa414d7e-491a-40f1-8790-facd49d919fe"
      },
      "execution_count": 13,
      "outputs": [
        {
          "output_type": "execute_result",
          "data": {
            "text/plain": [
              "[Document(metadata={'source': '/content/drive/MyDrive/cyberguard_hackathon/train.csv', 'row': 0}, page_content='category: category\\nsub_category: sub_category\\ncrimeaditionalinfo: crimeaditionalinfo'),\n",
              " Document(metadata={'source': '/content/drive/MyDrive/cyberguard_hackathon/train.csv', 'row': 1}, page_content='category: Online and Social Media Related Crime\\nsub_category: Cyber Bullying  Stalking  Sexting\\ncrimeaditionalinfo: I had continue received random calls and abusive messages in my whatsapp Someone added my number in a unknown facebook group name with  Only Girls  and still getting calls from unknown numbers pls help me and sort out the issue  as soon as possible Thank you'),\n",
              " Document(metadata={'source': '/content/drive/MyDrive/cyberguard_hackathon/train.csv', 'row': 2}, page_content='category: Online Financial Fraud\\nsub_category: Fraud CallVishing\\ncrimeaditionalinfo: The above fraudster is continuously messaging me and Asking me to pay him money or he will send fake  cropped nude photos of me to my other contacts through WhatsApp\\r\\n\\r\\nI am unaware how he has recieved my contacts list from my phone\\r\\n\\r\\nPlease help'),\n",
              " Document(metadata={'source': '/content/drive/MyDrive/cyberguard_hackathon/train.csv', 'row': 3}, page_content='category: Online Gambling  Betting\\nsub_category: Online Gambling  Betting\\ncrimeaditionalinfo: He is acting like a police and demanding for money by adding sections in the text messages \\r\\nI request you to take an immediate action on him Frequently he is harassing with these messages For reference please find attached files'),\n",
              " Document(metadata={'source': '/content/drive/MyDrive/cyberguard_hackathon/train.csv', 'row': 4}, page_content='category: Online and Social Media Related Crime\\nsub_category: Online Job Fraud\\ncrimeaditionalinfo: In apna Job I have applied for job interview for telecalling and the resource management wrote that twelve hundred will be charged for security amount of laptop and work from home when I have given interview on the given address next day they charged twelve hundred and six hundred more money in the name of insurance after that they have referred me to the job calling there is no work of laptop neither a work from home kindly please take action against it as soon as possible and if possible please help me to recover my financial loss'),\n",
              " Document(metadata={'source': '/content/drive/MyDrive/cyberguard_hackathon/train.csv', 'row': 5}, page_content='category: Online Financial Fraud\\nsub_category: Fraud CallVishing\\ncrimeaditionalinfo: I received a call from lady stating that she will send new phone of vivo and I received that parcel through post on  th February to Kurnool head post office  where I have not received any mobile'),\n",
              " Document(metadata={'source': '/content/drive/MyDrive/cyberguard_hackathon/train.csv', 'row': 6}, page_content='category: Online Financial Fraud\\nsub_category: UPI Related Frauds\\ncrimeaditionalinfo: FRAUD \\t UPI PAYTM \\r\\nBANK \\tPunjab National Bank including Oriental Bank of Commerce and United Bank of India\\t\\r\\nACCOUNT NUMBER  \\r\\nTOTAL AMOUNT  \\r\\nPLEASE HOLD REVERSE TOTAL AMOUNT IN THE COMPLAINT ACCOUNT AND TAKE NECESSARY ACTION'),\n",
              " Document(metadata={'source': '/content/drive/MyDrive/cyberguard_hackathon/train.csv', 'row': 7}, page_content='category: Online Financial Fraud\\nsub_category: Fraud CallVishing\\ncrimeaditionalinfo: Sir I am Prabhat Singh jat  An app on playstore which name is rupeestarsago  I\\r\\nhave been never applied for a loan from this app  They copied my contact\\r\\nlist and asking for loan repayment they are calling my contacts and\\r\\nrelatives and abusing himher  They are mentally harrasing me Please\\r\\ntake strict action on this  They are defaming me infront of my contact and\\r\\nrelatives They are forced me to do suicide I am not able swith on my\\r\\nmobile phone they are calling continuously and abusing me  If this is not\\r\\nclosed i commit suiside'),\n",
              " Document(metadata={'source': '/content/drive/MyDrive/cyberguard_hackathon/train.csv', 'row': 8}, page_content='category: Online Financial Fraud\\nsub_category: Internet Banking Related Fraud\\ncrimeaditionalinfo: FINANCIAL FRAUD  RS'),\n",
              " Document(metadata={'source': '/content/drive/MyDrive/cyberguard_hackathon/train.csv', 'row': 9}, page_content='category: RapeGang Rape RGRSexually Abusive Content\\nsub_category: \\ncrimeaditionalinfo: I got the message on Whatsapp to my number The message contains very abusive words This message also includes my friend name and his number in that The same message was forwarded to all other friends also For more details please look into the file attached here Please take action ASAP')]"
            ]
          },
          "metadata": {},
          "execution_count": 13
        }
      ]
    },
    {
      "cell_type": "code",
      "source": [
        "from langchain.text_splitter import RecursiveCharacterTextSplitter\n",
        "text_splitter = RecursiveCharacterTextSplitter(chunk_size=1000, chunk_overlap=20)\n",
        "documents = text_splitter.split_documents(text_documents)"
      ],
      "metadata": {
        "id": "q49i8zQSw3DC"
      },
      "execution_count": 14,
      "outputs": []
    },
    {
      "cell_type": "code",
      "source": [
        "pip install docarray"
      ],
      "metadata": {
        "colab": {
          "base_uri": "https://localhost:8080/"
        },
        "id": "stymCN7jxGTt",
        "outputId": "d466a89b-3d54-41a0-c9c9-3d2ad599936c"
      },
      "execution_count": 15,
      "outputs": [
        {
          "output_type": "stream",
          "name": "stdout",
          "text": [
            "Requirement already satisfied: docarray in /usr/local/lib/python3.10/dist-packages (0.40.0)\n",
            "Requirement already satisfied: numpy>=1.17.3 in /usr/local/lib/python3.10/dist-packages (from docarray) (1.26.4)\n",
            "Requirement already satisfied: orjson>=3.8.2 in /usr/local/lib/python3.10/dist-packages (from docarray) (3.10.11)\n",
            "Requirement already satisfied: pydantic>=1.10.8 in /usr/local/lib/python3.10/dist-packages (from docarray) (2.9.2)\n",
            "Requirement already satisfied: rich>=13.1.0 in /usr/local/lib/python3.10/dist-packages (from docarray) (13.9.4)\n",
            "Requirement already satisfied: types-requests>=2.28.11.6 in /usr/local/lib/python3.10/dist-packages (from docarray) (2.32.0.20241016)\n",
            "Requirement already satisfied: typing-inspect>=0.8.0 in /usr/local/lib/python3.10/dist-packages (from docarray) (0.9.0)\n",
            "Requirement already satisfied: annotated-types>=0.6.0 in /usr/local/lib/python3.10/dist-packages (from pydantic>=1.10.8->docarray) (0.7.0)\n",
            "Requirement already satisfied: pydantic-core==2.23.4 in /usr/local/lib/python3.10/dist-packages (from pydantic>=1.10.8->docarray) (2.23.4)\n",
            "Requirement already satisfied: typing-extensions>=4.6.1 in /usr/local/lib/python3.10/dist-packages (from pydantic>=1.10.8->docarray) (4.12.2)\n",
            "Requirement already satisfied: markdown-it-py>=2.2.0 in /usr/local/lib/python3.10/dist-packages (from rich>=13.1.0->docarray) (3.0.0)\n",
            "Requirement already satisfied: pygments<3.0.0,>=2.13.0 in /usr/local/lib/python3.10/dist-packages (from rich>=13.1.0->docarray) (2.18.0)\n",
            "Requirement already satisfied: urllib3>=2 in /usr/local/lib/python3.10/dist-packages (from types-requests>=2.28.11.6->docarray) (2.2.3)\n",
            "Requirement already satisfied: mypy-extensions>=0.3.0 in /usr/local/lib/python3.10/dist-packages (from typing-inspect>=0.8.0->docarray) (1.0.0)\n",
            "Requirement already satisfied: mdurl~=0.1 in /usr/local/lib/python3.10/dist-packages (from markdown-it-py>=2.2.0->rich>=13.1.0->docarray) (0.1.2)\n"
          ]
        }
      ]
    },
    {
      "cell_type": "code",
      "source": [
        "from langchain_community.vectorstores import DocArrayInMemorySearch\n",
        "from langchain_openai.embeddings import OpenAIEmbeddings\n",
        "\n",
        "embeddings = OpenAIEmbeddings(openai_api_key=OPENAI_API_KEY)\n",
        "vectorstore2 = DocArrayInMemorySearch.from_documents(documents, embeddings)"
      ],
      "metadata": {
        "colab": {
          "base_uri": "https://localhost:8080/"
        },
        "id": "b7-86xUfw_gV",
        "outputId": "ebe34971-a9b0-48cc-e175-a28ae557e192"
      },
      "execution_count": 16,
      "outputs": [
        {
          "output_type": "stream",
          "name": "stderr",
          "text": [
            "/usr/local/lib/python3.10/dist-packages/pydantic/_migration.py:283: UserWarning: `pydantic.error_wrappers:ValidationError` has been moved to `pydantic:ValidationError`.\n",
            "  warnings.warn(f'`{import_path}` has been moved to `{new_location}`.')\n"
          ]
        }
      ]
    },
    {
      "cell_type": "markdown",
      "source": [
        "Test data"
      ],
      "metadata": {
        "id": "JoZ4mdDp-C8Q"
      }
    },
    {
      "cell_type": "code",
      "source": [
        "import pandas as pd\n",
        "df_test=pd.read_csv(\"/content/drive/MyDrive/cyberguard_hackathon/160_test_data.csv\")"
      ],
      "metadata": {
        "id": "OLLvsUa5xCu2"
      },
      "execution_count": 17,
      "outputs": []
    },
    {
      "cell_type": "code",
      "source": [
        "df_test1=df_test.drop(columns=[\"category\"])"
      ],
      "metadata": {
        "id": "5zgZG-IqxyHk"
      },
      "execution_count": 18,
      "outputs": []
    },
    {
      "cell_type": "code",
      "source": [
        "df_test1.head(20)"
      ],
      "metadata": {
        "colab": {
          "base_uri": "https://localhost:8080/",
          "height": 677
        },
        "id": "H9ryXEVIzmWf",
        "outputId": "9c4fb28a-083f-4a43-dc04-67b687196bec"
      },
      "execution_count": 19,
      "outputs": [
        {
          "output_type": "execute_result",
          "data": {
            "text/plain": [
              "                               sub_category  \\\n",
              "0                                       NaN   \n",
              "1      DebitCredit Card FraudSim Swap Fraud   \n",
              "2                             SQL Injection   \n",
              "3                         Fraud CallVishing   \n",
              "4                                     Other   \n",
              "5            Internet Banking Related Fraud   \n",
              "6            Unauthorised AccessData Breach   \n",
              "7                        UPI Related Frauds   \n",
              "8            Internet Banking Related Fraud   \n",
              "9      DebitCredit Card FraudSim Swap Fraud   \n",
              "10                                      NaN   \n",
              "11  Damage to computer computer systems etc   \n",
              "12                                      NaN   \n",
              "13                       UPI Related Frauds   \n",
              "14                       UPI Related Frauds   \n",
              "15                        Fraud CallVishing   \n",
              "16                Cheating by Impersonation   \n",
              "17                       UPI Related Frauds   \n",
              "18                                    Other   \n",
              "19     DebitCredit Card FraudSim Swap Fraud   \n",
              "\n",
              "                                   crimeaditionalinfo  \n",
              "0   Sir namaskar  mein Ranjit Kumar PatraPaise neh...  \n",
              "1             KOTAK MAHINDRA BANK FRAUD\\nFRAUD AMOUNT  \n",
              "2   The issue actually started when I got this ema...  \n",
              "3   I am amit kumar from karwi chitrakoot I am tot...  \n",
              "4   I have ordered  saree and  blouse from rinki s...  \n",
              "5   My salary of amount  has to be credited to my ...  \n",
              "6   Due to some financial crisis I have applied lo...  \n",
              "7   a person called and told that i won a gift car...  \n",
              "8   NameManik Varban SO Nirmal Varban \\nAddkhara r...  \n",
              "9   Dear Sir\\n             Please stop the fraudul...  \n",
              "10  Hello sir they are sending friend request and ...  \n",
              "11  PLEASE READ ABOVE ATTACHED COMPLAINT OVERVIEW\\...  \n",
              "12  He was called from Maharashtra and created fak...  \n",
              "13  Identity theft   Fake Customer Care Service Fr...  \n",
              "14  At first\\nI had received a WhatsApp from  and ...  \n",
              "15  spam message i recieve msg from unwanted numbe...  \n",
              "16          SO                                AGRI...  \n",
              "17  FRAUD THROUGH  UPI GOOGLEPAY\\nBANK \\tPunjab Na...  \n",
              "18  Missing UPI idvenkatasubbareddyybl this not my...  \n",
              "19   time  may be incoming call on pooja sharma as...  "
            ],
            "text/html": [
              "\n",
              "  <div id=\"df-ffd5845c-3503-4c82-bf04-519478834a65\" class=\"colab-df-container\">\n",
              "    <div>\n",
              "<style scoped>\n",
              "    .dataframe tbody tr th:only-of-type {\n",
              "        vertical-align: middle;\n",
              "    }\n",
              "\n",
              "    .dataframe tbody tr th {\n",
              "        vertical-align: top;\n",
              "    }\n",
              "\n",
              "    .dataframe thead th {\n",
              "        text-align: right;\n",
              "    }\n",
              "</style>\n",
              "<table border=\"1\" class=\"dataframe\">\n",
              "  <thead>\n",
              "    <tr style=\"text-align: right;\">\n",
              "      <th></th>\n",
              "      <th>sub_category</th>\n",
              "      <th>crimeaditionalinfo</th>\n",
              "    </tr>\n",
              "  </thead>\n",
              "  <tbody>\n",
              "    <tr>\n",
              "      <th>0</th>\n",
              "      <td>NaN</td>\n",
              "      <td>Sir namaskar  mein Ranjit Kumar PatraPaise neh...</td>\n",
              "    </tr>\n",
              "    <tr>\n",
              "      <th>1</th>\n",
              "      <td>DebitCredit Card FraudSim Swap Fraud</td>\n",
              "      <td>KOTAK MAHINDRA BANK FRAUD\\nFRAUD AMOUNT</td>\n",
              "    </tr>\n",
              "    <tr>\n",
              "      <th>2</th>\n",
              "      <td>SQL Injection</td>\n",
              "      <td>The issue actually started when I got this ema...</td>\n",
              "    </tr>\n",
              "    <tr>\n",
              "      <th>3</th>\n",
              "      <td>Fraud CallVishing</td>\n",
              "      <td>I am amit kumar from karwi chitrakoot I am tot...</td>\n",
              "    </tr>\n",
              "    <tr>\n",
              "      <th>4</th>\n",
              "      <td>Other</td>\n",
              "      <td>I have ordered  saree and  blouse from rinki s...</td>\n",
              "    </tr>\n",
              "    <tr>\n",
              "      <th>5</th>\n",
              "      <td>Internet Banking Related Fraud</td>\n",
              "      <td>My salary of amount  has to be credited to my ...</td>\n",
              "    </tr>\n",
              "    <tr>\n",
              "      <th>6</th>\n",
              "      <td>Unauthorised AccessData Breach</td>\n",
              "      <td>Due to some financial crisis I have applied lo...</td>\n",
              "    </tr>\n",
              "    <tr>\n",
              "      <th>7</th>\n",
              "      <td>UPI Related Frauds</td>\n",
              "      <td>a person called and told that i won a gift car...</td>\n",
              "    </tr>\n",
              "    <tr>\n",
              "      <th>8</th>\n",
              "      <td>Internet Banking Related Fraud</td>\n",
              "      <td>NameManik Varban SO Nirmal Varban \\nAddkhara r...</td>\n",
              "    </tr>\n",
              "    <tr>\n",
              "      <th>9</th>\n",
              "      <td>DebitCredit Card FraudSim Swap Fraud</td>\n",
              "      <td>Dear Sir\\n             Please stop the fraudul...</td>\n",
              "    </tr>\n",
              "    <tr>\n",
              "      <th>10</th>\n",
              "      <td>NaN</td>\n",
              "      <td>Hello sir they are sending friend request and ...</td>\n",
              "    </tr>\n",
              "    <tr>\n",
              "      <th>11</th>\n",
              "      <td>Damage to computer computer systems etc</td>\n",
              "      <td>PLEASE READ ABOVE ATTACHED COMPLAINT OVERVIEW\\...</td>\n",
              "    </tr>\n",
              "    <tr>\n",
              "      <th>12</th>\n",
              "      <td>NaN</td>\n",
              "      <td>He was called from Maharashtra and created fak...</td>\n",
              "    </tr>\n",
              "    <tr>\n",
              "      <th>13</th>\n",
              "      <td>UPI Related Frauds</td>\n",
              "      <td>Identity theft   Fake Customer Care Service Fr...</td>\n",
              "    </tr>\n",
              "    <tr>\n",
              "      <th>14</th>\n",
              "      <td>UPI Related Frauds</td>\n",
              "      <td>At first\\nI had received a WhatsApp from  and ...</td>\n",
              "    </tr>\n",
              "    <tr>\n",
              "      <th>15</th>\n",
              "      <td>Fraud CallVishing</td>\n",
              "      <td>spam message i recieve msg from unwanted numbe...</td>\n",
              "    </tr>\n",
              "    <tr>\n",
              "      <th>16</th>\n",
              "      <td>Cheating by Impersonation</td>\n",
              "      <td>SO                                AGRI...</td>\n",
              "    </tr>\n",
              "    <tr>\n",
              "      <th>17</th>\n",
              "      <td>UPI Related Frauds</td>\n",
              "      <td>FRAUD THROUGH  UPI GOOGLEPAY\\nBANK \\tPunjab Na...</td>\n",
              "    </tr>\n",
              "    <tr>\n",
              "      <th>18</th>\n",
              "      <td>Other</td>\n",
              "      <td>Missing UPI idvenkatasubbareddyybl this not my...</td>\n",
              "    </tr>\n",
              "    <tr>\n",
              "      <th>19</th>\n",
              "      <td>DebitCredit Card FraudSim Swap Fraud</td>\n",
              "      <td>time  may be incoming call on pooja sharma as...</td>\n",
              "    </tr>\n",
              "  </tbody>\n",
              "</table>\n",
              "</div>\n",
              "    <div class=\"colab-df-buttons\">\n",
              "\n",
              "  <div class=\"colab-df-container\">\n",
              "    <button class=\"colab-df-convert\" onclick=\"convertToInteractive('df-ffd5845c-3503-4c82-bf04-519478834a65')\"\n",
              "            title=\"Convert this dataframe to an interactive table.\"\n",
              "            style=\"display:none;\">\n",
              "\n",
              "  <svg xmlns=\"http://www.w3.org/2000/svg\" height=\"24px\" viewBox=\"0 -960 960 960\">\n",
              "    <path d=\"M120-120v-720h720v720H120Zm60-500h600v-160H180v160Zm220 220h160v-160H400v160Zm0 220h160v-160H400v160ZM180-400h160v-160H180v160Zm440 0h160v-160H620v160ZM180-180h160v-160H180v160Zm440 0h160v-160H620v160Z\"/>\n",
              "  </svg>\n",
              "    </button>\n",
              "\n",
              "  <style>\n",
              "    .colab-df-container {\n",
              "      display:flex;\n",
              "      gap: 12px;\n",
              "    }\n",
              "\n",
              "    .colab-df-convert {\n",
              "      background-color: #E8F0FE;\n",
              "      border: none;\n",
              "      border-radius: 50%;\n",
              "      cursor: pointer;\n",
              "      display: none;\n",
              "      fill: #1967D2;\n",
              "      height: 32px;\n",
              "      padding: 0 0 0 0;\n",
              "      width: 32px;\n",
              "    }\n",
              "\n",
              "    .colab-df-convert:hover {\n",
              "      background-color: #E2EBFA;\n",
              "      box-shadow: 0px 1px 2px rgba(60, 64, 67, 0.3), 0px 1px 3px 1px rgba(60, 64, 67, 0.15);\n",
              "      fill: #174EA6;\n",
              "    }\n",
              "\n",
              "    .colab-df-buttons div {\n",
              "      margin-bottom: 4px;\n",
              "    }\n",
              "\n",
              "    [theme=dark] .colab-df-convert {\n",
              "      background-color: #3B4455;\n",
              "      fill: #D2E3FC;\n",
              "    }\n",
              "\n",
              "    [theme=dark] .colab-df-convert:hover {\n",
              "      background-color: #434B5C;\n",
              "      box-shadow: 0px 1px 3px 1px rgba(0, 0, 0, 0.15);\n",
              "      filter: drop-shadow(0px 1px 2px rgba(0, 0, 0, 0.3));\n",
              "      fill: #FFFFFF;\n",
              "    }\n",
              "  </style>\n",
              "\n",
              "    <script>\n",
              "      const buttonEl =\n",
              "        document.querySelector('#df-ffd5845c-3503-4c82-bf04-519478834a65 button.colab-df-convert');\n",
              "      buttonEl.style.display =\n",
              "        google.colab.kernel.accessAllowed ? 'block' : 'none';\n",
              "\n",
              "      async function convertToInteractive(key) {\n",
              "        const element = document.querySelector('#df-ffd5845c-3503-4c82-bf04-519478834a65');\n",
              "        const dataTable =\n",
              "          await google.colab.kernel.invokeFunction('convertToInteractive',\n",
              "                                                    [key], {});\n",
              "        if (!dataTable) return;\n",
              "\n",
              "        const docLinkHtml = 'Like what you see? Visit the ' +\n",
              "          '<a target=\"_blank\" href=https://colab.research.google.com/notebooks/data_table.ipynb>data table notebook</a>'\n",
              "          + ' to learn more about interactive tables.';\n",
              "        element.innerHTML = '';\n",
              "        dataTable['output_type'] = 'display_data';\n",
              "        await google.colab.output.renderOutput(dataTable, element);\n",
              "        const docLink = document.createElement('div');\n",
              "        docLink.innerHTML = docLinkHtml;\n",
              "        element.appendChild(docLink);\n",
              "      }\n",
              "    </script>\n",
              "  </div>\n",
              "\n",
              "\n",
              "<div id=\"df-6fd35f7f-51a5-46f3-9f83-057f36c45865\">\n",
              "  <button class=\"colab-df-quickchart\" onclick=\"quickchart('df-6fd35f7f-51a5-46f3-9f83-057f36c45865')\"\n",
              "            title=\"Suggest charts\"\n",
              "            style=\"display:none;\">\n",
              "\n",
              "<svg xmlns=\"http://www.w3.org/2000/svg\" height=\"24px\"viewBox=\"0 0 24 24\"\n",
              "     width=\"24px\">\n",
              "    <g>\n",
              "        <path d=\"M19 3H5c-1.1 0-2 .9-2 2v14c0 1.1.9 2 2 2h14c1.1 0 2-.9 2-2V5c0-1.1-.9-2-2-2zM9 17H7v-7h2v7zm4 0h-2V7h2v10zm4 0h-2v-4h2v4z\"/>\n",
              "    </g>\n",
              "</svg>\n",
              "  </button>\n",
              "\n",
              "<style>\n",
              "  .colab-df-quickchart {\n",
              "      --bg-color: #E8F0FE;\n",
              "      --fill-color: #1967D2;\n",
              "      --hover-bg-color: #E2EBFA;\n",
              "      --hover-fill-color: #174EA6;\n",
              "      --disabled-fill-color: #AAA;\n",
              "      --disabled-bg-color: #DDD;\n",
              "  }\n",
              "\n",
              "  [theme=dark] .colab-df-quickchart {\n",
              "      --bg-color: #3B4455;\n",
              "      --fill-color: #D2E3FC;\n",
              "      --hover-bg-color: #434B5C;\n",
              "      --hover-fill-color: #FFFFFF;\n",
              "      --disabled-bg-color: #3B4455;\n",
              "      --disabled-fill-color: #666;\n",
              "  }\n",
              "\n",
              "  .colab-df-quickchart {\n",
              "    background-color: var(--bg-color);\n",
              "    border: none;\n",
              "    border-radius: 50%;\n",
              "    cursor: pointer;\n",
              "    display: none;\n",
              "    fill: var(--fill-color);\n",
              "    height: 32px;\n",
              "    padding: 0;\n",
              "    width: 32px;\n",
              "  }\n",
              "\n",
              "  .colab-df-quickchart:hover {\n",
              "    background-color: var(--hover-bg-color);\n",
              "    box-shadow: 0 1px 2px rgba(60, 64, 67, 0.3), 0 1px 3px 1px rgba(60, 64, 67, 0.15);\n",
              "    fill: var(--button-hover-fill-color);\n",
              "  }\n",
              "\n",
              "  .colab-df-quickchart-complete:disabled,\n",
              "  .colab-df-quickchart-complete:disabled:hover {\n",
              "    background-color: var(--disabled-bg-color);\n",
              "    fill: var(--disabled-fill-color);\n",
              "    box-shadow: none;\n",
              "  }\n",
              "\n",
              "  .colab-df-spinner {\n",
              "    border: 2px solid var(--fill-color);\n",
              "    border-color: transparent;\n",
              "    border-bottom-color: var(--fill-color);\n",
              "    animation:\n",
              "      spin 1s steps(1) infinite;\n",
              "  }\n",
              "\n",
              "  @keyframes spin {\n",
              "    0% {\n",
              "      border-color: transparent;\n",
              "      border-bottom-color: var(--fill-color);\n",
              "      border-left-color: var(--fill-color);\n",
              "    }\n",
              "    20% {\n",
              "      border-color: transparent;\n",
              "      border-left-color: var(--fill-color);\n",
              "      border-top-color: var(--fill-color);\n",
              "    }\n",
              "    30% {\n",
              "      border-color: transparent;\n",
              "      border-left-color: var(--fill-color);\n",
              "      border-top-color: var(--fill-color);\n",
              "      border-right-color: var(--fill-color);\n",
              "    }\n",
              "    40% {\n",
              "      border-color: transparent;\n",
              "      border-right-color: var(--fill-color);\n",
              "      border-top-color: var(--fill-color);\n",
              "    }\n",
              "    60% {\n",
              "      border-color: transparent;\n",
              "      border-right-color: var(--fill-color);\n",
              "    }\n",
              "    80% {\n",
              "      border-color: transparent;\n",
              "      border-right-color: var(--fill-color);\n",
              "      border-bottom-color: var(--fill-color);\n",
              "    }\n",
              "    90% {\n",
              "      border-color: transparent;\n",
              "      border-bottom-color: var(--fill-color);\n",
              "    }\n",
              "  }\n",
              "</style>\n",
              "\n",
              "  <script>\n",
              "    async function quickchart(key) {\n",
              "      const quickchartButtonEl =\n",
              "        document.querySelector('#' + key + ' button');\n",
              "      quickchartButtonEl.disabled = true;  // To prevent multiple clicks.\n",
              "      quickchartButtonEl.classList.add('colab-df-spinner');\n",
              "      try {\n",
              "        const charts = await google.colab.kernel.invokeFunction(\n",
              "            'suggestCharts', [key], {});\n",
              "      } catch (error) {\n",
              "        console.error('Error during call to suggestCharts:', error);\n",
              "      }\n",
              "      quickchartButtonEl.classList.remove('colab-df-spinner');\n",
              "      quickchartButtonEl.classList.add('colab-df-quickchart-complete');\n",
              "    }\n",
              "    (() => {\n",
              "      let quickchartButtonEl =\n",
              "        document.querySelector('#df-6fd35f7f-51a5-46f3-9f83-057f36c45865 button');\n",
              "      quickchartButtonEl.style.display =\n",
              "        google.colab.kernel.accessAllowed ? 'block' : 'none';\n",
              "    })();\n",
              "  </script>\n",
              "</div>\n",
              "\n",
              "    </div>\n",
              "  </div>\n"
            ],
            "application/vnd.google.colaboratory.intrinsic+json": {
              "type": "dataframe",
              "variable_name": "df_test1",
              "summary": "{\n  \"name\": \"df_test1\",\n  \"rows\": 164,\n  \"fields\": [\n    {\n      \"column\": \"sub_category\",\n      \"properties\": {\n        \"dtype\": \"category\",\n        \"num_unique_values\": 21,\n        \"samples\": [\n          \"DebitCredit Card FraudSim Swap Fraud\",\n          \"Cyber Bullying  Stalking  Sexting\",\n          \"Email Hacking\"\n        ],\n        \"semantic_type\": \"\",\n        \"description\": \"\"\n      }\n    },\n    {\n      \"column\": \"crimeaditionalinfo\",\n      \"properties\": {\n        \"dtype\": \"string\",\n        \"num_unique_values\": 161,\n        \"samples\": [\n          \"Sir An Unknown person has done a fraud transaction So please freeze account and Refunding money in source account\",\n          \"Respected Sir\\n\\nA very serious matter I want to inform you Few person running or involve in some very shamefull activities by using few women at many places of kolkata gariahat ballygunge RUBY HOSPITAL BEHIND area KASBA ANANDAPUR QUEST MALL metropolis mall area ACROPOLISMALL area park circus FORUM MALL ELGIN RD Parkstreet MAIDAN AREA esplanade Garia jadavpur BEHALA JOKA BANSDRONI  Rabindrasadanexide area  HARIDEVPUR triangular park lake mall area rashbehari area TOLLYGUNGE THAKURPUKUR BBD BAG DALHOUSIE AREA  and SALTLAKE\\n\\nTheir name \\nSUBHRO SAHA AMLAN DATTA \\nIZAZ AHMED Anirban\\n\\n\\nThey officially work in a insurance office hdfclife \\u00a0a hindustanpark ab gariahat shopping mall st floor beside of reliance trend building near gariahat more  but outside at several places  they involve in some shamefull activities last years\\n\\nSir a person SUBHRO SAHA forcefully involve few women employee ex FEMALE employee in such shamefull doing\\n\\nAt afternoon evening or after evening or night time they doing this shamefull activities\\n\\nMany innocent people are TRAPPED and suffering in such dirty issue for long time\\nThey are even  to lodge a complain against them because of  threatening and blackmailing ISSUE\\n\\n\\nFrom above  address PLACES and their mobile whatsapp no  you can easily trace and track their all activities You need to investigate Last years detail\\n\\n\\nPlease help\",\n          \"I am dealing in the Road Safety Furnisher Busniess and we get a order on Phone call of Plastic ABS Speed Breaker of  Lakh Rupees And after that he sent me the PAN Card Copy Aadhar Copy and Canteen ID Card for the trust purpose and for sureity of order He told us to send me the full bill amount of Rs  Lakh for safety purpose as I am in Indian Army and we cannot send directly money to anyone so first you send me the amount and i will revert you at the time of delivery of consignment The delivery location is also send by him ie Military Canteen Sitabuldi Nagpur  I sent the consignment by Ape Auto and gave the number to Autowala for safely delivery but Anand Kumar firstly did not take call after reaching at the delivery point and secondly when picked he said dont go to military canteen wait nearby VCA Ground Civil Lines and I will collect personally from there After that the Autowala wait there for  hours and Anands Phone is shows Switch off continuously Then I realise that i have frauded by Anand Kumar with Rs  Please help me and recover my fund sir I am a small businessman dealing with the road safety equipments\\nFeeling helpless after this fraud please sir recover this amount as soon as possible\\nLooking forward for your kind cooperation\\n\\nThanks and Regards\\nSubhash Khandare\\n\"\n        ],\n        \"semantic_type\": \"\",\n        \"description\": \"\"\n      }\n    }\n  ]\n}"
            }
          },
          "metadata": {},
          "execution_count": 19
        }
      ]
    },
    {
      "cell_type": "code",
      "source": [
        "data=list(df_test[\"category\"][:10])"
      ],
      "metadata": {
        "id": "DcvUT6EWzmZ-"
      },
      "execution_count": 20,
      "outputs": []
    },
    {
      "cell_type": "code",
      "source": [
        "data"
      ],
      "metadata": {
        "colab": {
          "base_uri": "https://localhost:8080/"
        },
        "id": "4gd67WXQzmdX",
        "outputId": "685c8c05-39d9-40d3-b877-8e5b39dbd0f3"
      },
      "execution_count": 21,
      "outputs": [
        {
          "output_type": "execute_result",
          "data": {
            "text/plain": [
              "['RapeGang Rape RGRSexually Abusive Content',\n",
              " 'Online Financial Fraud',\n",
              " 'Cyber Attack/ Dependent Crimes',\n",
              " 'Online Financial Fraud',\n",
              " 'Any Other Cyber Crime',\n",
              " 'Online Financial Fraud',\n",
              " 'Hacking  Damage to computercomputer system etc',\n",
              " 'Online Financial Fraud',\n",
              " 'Online Financial Fraud',\n",
              " 'Online Financial Fraud']"
            ]
          },
          "metadata": {},
          "execution_count": 21
        }
      ]
    },
    {
      "cell_type": "code",
      "source": [
        "str(df_test1.iloc[1])"
      ],
      "metadata": {
        "colab": {
          "base_uri": "https://localhost:8080/",
          "height": 53
        },
        "id": "7fSsSFxoz2Ix",
        "outputId": "84d36954-3728-4ed1-e013-fc0b87a0a649"
      },
      "execution_count": 22,
      "outputs": [
        {
          "output_type": "execute_result",
          "data": {
            "text/plain": [
              "'sub_category             DebitCredit Card FraudSim Swap Fraud\\ncrimeaditionalinfo    KOTAK MAHINDRA BANK FRAUD\\\\nFRAUD AMOUNT\\nName: 1, dtype: object'"
            ],
            "application/vnd.google.colaboratory.intrinsic+json": {
              "type": "string"
            }
          },
          "metadata": {},
          "execution_count": 22
        }
      ]
    },
    {
      "cell_type": "code",
      "source": [
        "from langchain_core.runnables import RunnableParallel, RunnablePassthrough\n",
        "from langchain_core.output_parsers import StrOutputParser\n",
        "from operator import itemgetter\n",
        "from langchain.schema.runnable import RunnableLambda\n",
        "\n",
        "parser = StrOutputParser()\n",
        "retriever=vectorstore2.as_retriever()\n",
        "import random\n",
        "\n",
        "def generate_label_subsets(labels, num_instances, num_incorrect_labels):\n",
        "    \"\"\"\n",
        "    Generate label subsets for each instance.\n",
        "\n",
        "    Args:\n",
        "    - labels (list): List of labels.\n",
        "    - num_instances (int): Number of instances.\n",
        "    - num_incorrect_labels (int): Number of incorrect labels per instance.\n",
        "\n",
        "    Returns:\n",
        "    - list: List of lists, each containing the correct label followed by a list of incorrect labels.\n",
        "    \"\"\"\n",
        "    label_subsets = []\n",
        "\n",
        "    for _ in range(num_instances):\n",
        "        correct_label = random.choice(labels)\n",
        "        incorrect_labels = random.sample([label for label in labels if label != correct_label], num_incorrect_labels)\n",
        "        subset = [correct_label] + incorrect_labels\n",
        "        random.shuffle(subset)  # Shuffle the subset\n",
        "        label_subsets.append(subset)\n",
        "\n",
        "    return label_subsets\n",
        "\n",
        "# Example usage\n",
        "labels =data\n",
        "num_instances = len(data)\n",
        "num_incorrect_labels = 3\n",
        "\n",
        "\n",
        "def create_list(*elements):\n",
        "    \"\"\"\n",
        "    Create a list from the given elements.\n",
        "\n",
        "    Args:\n",
        "        *elements: Variable number of elements to be added to the list.\n",
        "\n",
        "    Returns:\n",
        "        List containing the input elements.\n",
        "    \"\"\"\n",
        "    return list(elements)\n",
        "\n",
        "\n",
        "label_subsets = generate_label_subsets(labels, num_instances, num_incorrect_labels)\n",
        "for i in range(0,10):\n",
        "  chain = (\n",
        "    #{\"context\":retriever,\"data\":lambda x : [\"Paradoxical Commandments\",\"Creative Thoughts About A Challenging Life\",\"A Cozy Read filled with Wisdom\",\"Tap into Secret Wealth\"],\"question\": RunnablePassthrough() }\n",
        "     {\"context\":retriever,\"data\":lambda x :label_subsets[i],\"question\": RunnablePassthrough() }\n",
        "    # {\"context\":retriever,\"data\":{\"text1\":itemgetter(\"text1\"),\"text2\":itemgetter(\"text2\"),\"text3\":itemgetter(\"text3\"),\"text4\":itemgetter(\"text4\")}|RunnableLambda(create_list),\"question\": itemgetter(\"question\") }\n",
        "    #  {\"context\":retriever,\"data\":{\"text1\":\"Paradoxical Commandments\",\"text2\":\"Creative Thoughts About A Challenging Life\",\"text3\": \"A Cozy Read filled with Wisdom\",\"text4\":\"Tap into Secret Wealth\"}|RunnableLambda(create_list),\"question\": RunnablePassthrough() }\n",
        "    | prompt\n",
        "    | model\n",
        "    | parser )\n",
        "for i in range(10):\n",
        "  print (f\"Prediction{i}.{chain.invoke(str(df_test1.iloc[i]))}\")\n",
        "  print (f\" Actual{i}.{df_test['category'][i]}\")"
      ],
      "metadata": {
        "colab": {
          "base_uri": "https://localhost:8080/"
        },
        "id": "Nz18aUgLz6xY",
        "outputId": "0a80e60d-00a5-4851-86aa-59644601b5e9"
      },
      "execution_count": 23,
      "outputs": [
        {
          "output_type": "stream",
          "name": "stdout",
          "text": [
            "Prediction0.Online Financial Fraud\n",
            " Actual0.RapeGang Rape RGRSexually Abusive Content\n",
            "Prediction1.Online Financial Fraud\n",
            " Actual1.Online Financial Fraud\n",
            "Prediction2.Cyber Attack/ Dependent Crimes\n",
            " Actual2.Cyber Attack/ Dependent Crimes\n",
            "Prediction3.Online Financial Fraud\n",
            " Actual3.Online Financial Fraud\n",
            "Prediction4.Any Other Cyber Crime\n",
            " Actual4.Any Other Cyber Crime\n",
            "Prediction5.Online Financial Fraud\n",
            " Actual5.Online Financial Fraud\n",
            "Prediction6.Hacking  Damage to computercomputer system etc\n",
            " Actual6.Hacking  Damage to computercomputer system etc\n",
            "Prediction7.Online Financial Fraud\n",
            " Actual7.Online Financial Fraud\n",
            "Prediction8.Online Financial Fraud\n",
            " Actual8.Online Financial Fraud\n",
            "Prediction9.Online Financial Fraud\n",
            " Actual9.Online Financial Fraud\n"
          ]
        }
      ]
    },
    {
      "cell_type": "markdown",
      "source": [
        "Testing with single datapoint"
      ],
      "metadata": {
        "id": "QX6IR9_tA6Fn"
      }
    },
    {
      "cell_type": "code",
      "source": [
        "# Define a single test data point\n",
        "single_data_point = {\n",
        "    \"text\": \"my laptop is broken into pieces\",  # Replace this with the actual text you want to test\n",
        "    \"category\": \"fraud\"  # Replace this with the expected category, if available\n",
        "}\n",
        "\n",
        "# Create a subset of labels for this single data point\n",
        "single_label_subset = generate_label_subsets(labels, 1, num_incorrect_labels)[0]\n",
        "\n",
        "# Run the chain on this single data point\n",
        "single_chain = (\n",
        "    {\"context\": retriever, \"data\": lambda x: single_label_subset, \"question\": RunnablePassthrough()}\n",
        "    | prompt\n",
        "    | model\n",
        "    | parser\n",
        ")\n",
        "\n",
        "# Invoke the chain for the single data point\n",
        "prediction = single_chain.invoke(str(single_data_point[\"text\"]))\n",
        "print(f\"Prediction: {prediction}\")\n",
        "print(f\"Actual: {single_data_point['category']}\")"
      ],
      "metadata": {
        "id": "lNxna4uH0mHM",
        "colab": {
          "base_uri": "https://localhost:8080/"
        },
        "outputId": "4fbabf30-76f8-4407-b825-2e0d7028fa3b"
      },
      "execution_count": 28,
      "outputs": [
        {
          "output_type": "stream",
          "name": "stdout",
          "text": [
            "Prediction: Any Other Cyber Crime\n",
            "Actual: fraud\n"
          ]
        }
      ]
    },
    {
      "cell_type": "markdown",
      "source": [
        "Finding only the accuracy"
      ],
      "metadata": {
        "id": "3sLPTMMCBHPW"
      }
    },
    {
      "cell_type": "code",
      "source": [
        "import pandas as pd\n",
        "\n",
        "# Load the CSV file\n",
        "df_test = pd.read_csv(\"/content/10test.csv\")  # Replace \"test_data.csv\" with your actual CSV file path\n",
        "\n",
        "# Initialize a counter for correct predictions\n",
        "correct_predictions = 0\n",
        "\n",
        "# Define the number of incorrect labels for each instance\n",
        "num_incorrect_labels = 3\n",
        "\n",
        "# Loop through each row in the DataFrame\n",
        "for index, row in df_test.iterrows():\n",
        "    text = row[\"category\"]  # Replace with the actual text column name\n",
        "    actual_category = row[\"category\"]  # Replace with the actual category column name\n",
        "\n",
        "    # Generate a label subset for this instance\n",
        "    label_subset = generate_label_subsets(labels, 1, num_incorrect_labels)[0]\n",
        "\n",
        "    # Create and run the chain\n",
        "    single_chain = (\n",
        "        {\"context\": retriever, \"data\": lambda x: label_subset, \"question\": RunnablePassthrough()}\n",
        "        | prompt\n",
        "        | model\n",
        "        | parser\n",
        "    )\n",
        "\n",
        "    # Get the prediction\n",
        "    prediction = single_chain.invoke(str(text)).strip()\n",
        "\n",
        "    # Check if the prediction matches the actual category\n",
        "    if prediction.lower() == actual_category.strip().lower():\n",
        "        correct_predictions += 1  # Increment correct count if prediction matches\n",
        "\n",
        "    print(f\"Row {index+1} - Prediction: {prediction}, Actual: {actual_category}, Correct: {prediction.lower() == actual_category.strip().lower()}\")\n",
        "\n",
        "# Calculate accuracy\n",
        "total_predictions = len(df_test)\n",
        "accuracy = (correct_predictions / total_predictions) * 100\n",
        "print(f\"Accuracy: {accuracy}%\")\n"
      ],
      "metadata": {
        "colab": {
          "base_uri": "https://localhost:8080/"
        },
        "id": "k_OBw7V-BF7W",
        "outputId": "7d90ca46-4e0e-44da-ac18-66183054d032"
      },
      "execution_count": 25,
      "outputs": [
        {
          "output_type": "stream",
          "name": "stdout",
          "text": [
            "Row 1 - Prediction: RapeGang Rape RGRSexually Abusive Content, Actual: RapeGang Rape RGRSexually Abusive Content, Correct: True\n",
            "Row 2 - Prediction: Online Financial Fraud, Actual: Online Financial Fraud, Correct: True\n",
            "Row 3 - Prediction: Hacking  Damage to computercomputer system etc, Actual: Cyber Attack/ Dependent Crimes, Correct: False\n",
            "Row 4 - Prediction: Online Financial Fraud, Actual: Online Financial Fraud, Correct: True\n",
            "Row 5 - Prediction: Any Other Cyber Crime, Actual: Any Other Cyber Crime, Correct: True\n",
            "Row 6 - Prediction: Online Financial Fraud, Actual: Online Financial Fraud, Correct: True\n",
            "Row 7 - Prediction: Cyber Attack/ Dependent Crimes, Actual: Hacking  Damage to computercomputer system etc, Correct: False\n",
            "Row 8 - Prediction: Online Financial Fraud, Actual: Online Financial Fraud, Correct: True\n",
            "Row 9 - Prediction: Online Financial Fraud, Actual: Online Financial Fraud, Correct: True\n",
            "Row 10 - Prediction: Online Financial Fraud, Actual: Online Financial Fraud, Correct: True\n",
            "Row 11 - Prediction: RapeGang Rape RGRSexually Abusive Content, Actual: Sexually Explicit Act, Correct: False\n",
            "Row 12 - Prediction: Hacking  Damage to computercomputer system etc, Actual: Hacking  Damage to computercomputer system etc, Correct: True\n",
            "Row 13 - Prediction: RapeGang Rape RGRSexually Abusive Content, Actual: Sexually Obscene material, Correct: False\n",
            "Row 14 - Prediction: Online Financial Fraud, Actual: Online Financial Fraud, Correct: True\n",
            "Row 15 - Prediction: Online Financial Fraud, Actual: Online Financial Fraud, Correct: True\n",
            "Row 16 - Prediction: Online Financial Fraud, Actual: Online Financial Fraud, Correct: True\n",
            "Row 17 - Prediction: Online Financial Fraud, Actual: Online and Social Media Related Crime, Correct: False\n",
            "Row 18 - Prediction: Online Financial Fraud, Actual: Online Financial Fraud, Correct: True\n",
            "Row 19 - Prediction: Any Other Cyber Crime, Actual: Any Other Cyber Crime, Correct: True\n",
            "Row 20 - Prediction: Online Financial Fraud, Actual: Online Financial Fraud, Correct: True\n",
            "Row 21 - Prediction: Online Financial Fraud, Actual: Online Financial Fraud, Correct: True\n",
            "Row 22 - Prediction: Online Financial Fraud, Actual: Online Financial Fraud, Correct: True\n",
            "Row 23 - Prediction: Online Financial Fraud, Actual: Online Financial Fraud, Correct: True\n",
            "Row 24 - Prediction: Online Financial Fraud, Actual: Online Financial Fraud, Correct: True\n",
            "Row 25 - Prediction: Any Other Cyber Crime, Actual: Any Other Cyber Crime, Correct: True\n",
            "Row 26 - Prediction: RapeGang Rape RGRSexually Abusive Content, Actual: Child Pornography CPChild Sexual Abuse Material CSAM, Correct: False\n",
            "Row 27 - Prediction: Cyber Attack/ Dependent Crimes, Actual: Any Other Cyber Crime, Correct: False\n",
            "Row 28 - Prediction: Any Other Cyber Crime, Actual: Cyber Attack/ Dependent Crimes, Correct: False\n",
            "Row 29 - Prediction: Online Financial Fraud, Actual: Online Financial Fraud, Correct: True\n",
            "Row 30 - Prediction: Online Financial Fraud, Actual: Online Financial Fraud, Correct: True\n",
            "Row 31 - Prediction: Online Financial Fraud, Actual: Online Financial Fraud, Correct: True\n",
            "Row 32 - Prediction: Online Financial Fraud, Actual: Cyber Attack/ Dependent Crimes, Correct: False\n",
            "Row 33 - Prediction: Online Financial Fraud, Actual: Online Financial Fraud, Correct: True\n",
            "Row 34 - Prediction: Online Financial Fraud, Actual: Online and Social Media Related Crime, Correct: False\n",
            "Row 35 - Prediction: Online Financial Fraud, Actual: Online and Social Media Related Crime, Correct: False\n",
            "Row 36 - Prediction: Any Other Cyber Crime, Actual: Online and Social Media Related Crime, Correct: False\n",
            "Accuracy: 66.66666666666666%\n"
          ]
        }
      ]
    },
    {
      "cell_type": "markdown",
      "source": [
        "Finding the\n",
        "Accuracy,\n",
        "\n",
        "Precision,\n",
        "\n",
        "Recall,\n",
        "\n",
        "F1 score and\n",
        "\n",
        "Confusion matrix"
      ],
      "metadata": {
        "id": "ql_qGRvuBSui"
      }
    },
    {
      "cell_type": "code",
      "source": [
        "import pandas as pd\n",
        "from sklearn.metrics import accuracy_score, precision_score, recall_score, f1_score, confusion_matrix, roc_auc_score\n",
        "\n",
        "# Load the CSV file\n",
        "df_test = pd.read_csv(\"/content/10test.csv\")  # Replace \"/content/10test.csv\" with your actual CSV file path\n",
        "\n",
        "# List of possible labels (update this with your actual labels)\n",
        "# labels = [...]  # Populate with your actual labels\n",
        "labels = df['category'].values\n",
        "\n",
        "# Define the number of incorrect labels for each instance\n",
        "num_incorrect_labels = 3\n",
        "\n",
        "# Initialize lists to store true and predicted labels\n",
        "y_true = []\n",
        "y_pred = []\n",
        "\n",
        "# Loop through each row in the DataFrame\n",
        "for index, row in df_test.iterrows():\n",
        "    text = row[\"category\"]  # Replace with the actual text column name\n",
        "    actual_category = row[\"category\"]  # Replace with the actual category column name\n",
        "    y_true.append(actual_category)  # Append the actual category to y_true\n",
        "\n",
        "    # Generate a label subset for this instance\n",
        "    label_subset = generate_label_subsets(labels, 1, num_incorrect_labels)[0]\n",
        "\n",
        "    # Create and run the chain\n",
        "    single_chain = (\n",
        "        {\"context\": retriever, \"data\": lambda x: label_subset, \"question\": RunnablePassthrough()}\n",
        "        | prompt\n",
        "        | model\n",
        "        | parser\n",
        "    )\n",
        "\n",
        "    # Get the prediction\n",
        "    try:\n",
        "        prediction = single_chain.invoke(str(text)).strip()\n",
        "    except Exception as e:\n",
        "        print(f\"Error in prediction for row {index+1}: {e}\")\n",
        "        prediction = \"\"\n",
        "\n",
        "    y_pred.append(prediction)  # Append the prediction to y_pred\n",
        "\n",
        "# Calculate evaluation metrics\n",
        "accuracy = accuracy_score(y_true, y_pred)\n",
        "precision = precision_score(y_true, y_pred, average='weighted')  # Adjust `average` if needed\n",
        "recall = recall_score(y_true, y_pred, average='weighted')\n",
        "f1 = f1_score(y_true, y_pred, average='weighted')\n",
        "conf_matrix = confusion_matrix(y_true, y_pred)\n",
        "\n",
        "# Display results\n",
        "print(f\"Accuracy: {accuracy}\")\n",
        "print(f\"Precision: {precision}\")\n",
        "print(f\"Recall: {recall}\")\n",
        "print(f\"F1 Score: {f1}\")\n",
        "print(\"Confusion Matrix:\")\n",
        "print(conf_matrix)\n",
        "\n",
        "# For ROC-AUC (only for binary classification cases)\n",
        "if len(set(y_true)) == 2:\n",
        "    # y_pred_proba would need to be generated by the model, representing probability of each class\n",
        "    # Assuming y_pred_proba is available\n",
        "    roc_auc = roc_auc_score(y_true, y_pred_proba[:, 1])  # Assuming `y_pred_proba` is the probability of positive class\n",
        "    show(f\"ROC-AUC Score: {roc_auc}\")\n",
        "\n"
      ],
      "metadata": {
        "id": "IY461sbE5536",
        "colab": {
          "base_uri": "https://localhost:8080/"
        },
        "outputId": "039cf032-e0dc-4030-c18a-b6ec7aa06338"
      },
      "execution_count": 26,
      "outputs": [
        {
          "output_type": "stream",
          "name": "stdout",
          "text": [
            "Accuracy: 0.7222222222222222\n",
            "Precision: 0.6753246753246754\n",
            "Recall: 0.7222222222222222\n",
            "F1 Score: 0.6658068783068782\n",
            "Confusion Matrix:\n",
            "[[ 4  0  0  0  0  0  0  0  0]\n",
            " [ 1  0  0  0  0  0  0  0  0]\n",
            " [ 2  0  1  0  0  0  0  0  0]\n",
            " [ 1  0  0  0  1  0  0  0  0]\n",
            " [ 0  0  0  0 19  0  0  0  0]\n",
            " [ 1  0  0  0  1  2  0  0  0]\n",
            " [ 1  0  0  0  0  0  0  0  0]\n",
            " [ 0  0  0  0  0  1  0  0  0]\n",
            " [ 1  0  0  0  0  0  0  0  0]]\n"
          ]
        },
        {
          "output_type": "stream",
          "name": "stderr",
          "text": [
            "/usr/local/lib/python3.10/dist-packages/sklearn/metrics/_classification.py:1531: UndefinedMetricWarning: Precision is ill-defined and being set to 0.0 in labels with no predicted samples. Use `zero_division` parameter to control this behavior.\n",
            "  _warn_prf(average, modifier, f\"{metric.capitalize()} is\", len(result))\n"
          ]
        }
      ]
    },
    {
      "cell_type": "markdown",
      "source": [
        "## Building the model for Sub_category as targetted variable"
      ],
      "metadata": {
        "id": "FUIJjpXiGlog"
      }
    },
    {
      "cell_type": "code",
      "source": [
        "from langchain.prompts import ChatPromptTemplate\n",
        "\n",
        "template1 = \"\"\"\n",
        "Given the crime data and corresponding category and sub_category in the user context {context}, your task is to select the most relevant sub_category from the provided {data} based on the crimedata. Provide only the selected sub_category as the output. Context: {context}\n",
        "\n",
        "Question: {question}\n",
        "\"\"\"\n",
        "\n",
        "prompt1 = ChatPromptTemplate.from_template(template1)"
      ],
      "metadata": {
        "id": "Ubn6y7UmLoDE"
      },
      "execution_count": 29,
      "outputs": []
    },
    {
      "cell_type": "code",
      "source": [
        "import pandas as pd\n",
        "dfs=pd.read_csv(\"/content/drive/MyDrive/cyberguard_hackathon/train.csv\")\n",
        "#df1=df[[\"title\",\"text\",\"Target_Title\"]]\n",
        "# df1=df.rename(columns={\"Target_Title\":\"Book Title\"})\n",
        "dfs.head()"
      ],
      "metadata": {
        "colab": {
          "base_uri": "https://localhost:8080/",
          "height": 206
        },
        "id": "ACc0msZ_LqsL",
        "outputId": "ba0cc03e-5324-4452-c75c-0c2eca45c0ed"
      },
      "execution_count": 30,
      "outputs": [
        {
          "output_type": "execute_result",
          "data": {
            "text/plain": [
              "                                category                       sub_category  \\\n",
              "0  Online and Social Media Related Crime  Cyber Bullying  Stalking  Sexting   \n",
              "1                 Online Financial Fraud                  Fraud CallVishing   \n",
              "2               Online Gambling  Betting           Online Gambling  Betting   \n",
              "3  Online and Social Media Related Crime                   Online Job Fraud   \n",
              "4                 Online Financial Fraud                  Fraud CallVishing   \n",
              "\n",
              "                                  crimeaditionalinfo  \n",
              "0  I had continue received random calls and abusi...  \n",
              "1  The above fraudster is continuously messaging ...  \n",
              "2  He is acting like a police and demanding for m...  \n",
              "3  In apna Job I have applied for job interview f...  \n",
              "4  I received a call from lady stating that she w...  "
            ],
            "text/html": [
              "\n",
              "  <div id=\"df-d0d08e4d-36b7-4229-ac64-c635b4774bdf\" class=\"colab-df-container\">\n",
              "    <div>\n",
              "<style scoped>\n",
              "    .dataframe tbody tr th:only-of-type {\n",
              "        vertical-align: middle;\n",
              "    }\n",
              "\n",
              "    .dataframe tbody tr th {\n",
              "        vertical-align: top;\n",
              "    }\n",
              "\n",
              "    .dataframe thead th {\n",
              "        text-align: right;\n",
              "    }\n",
              "</style>\n",
              "<table border=\"1\" class=\"dataframe\">\n",
              "  <thead>\n",
              "    <tr style=\"text-align: right;\">\n",
              "      <th></th>\n",
              "      <th>category</th>\n",
              "      <th>sub_category</th>\n",
              "      <th>crimeaditionalinfo</th>\n",
              "    </tr>\n",
              "  </thead>\n",
              "  <tbody>\n",
              "    <tr>\n",
              "      <th>0</th>\n",
              "      <td>Online and Social Media Related Crime</td>\n",
              "      <td>Cyber Bullying  Stalking  Sexting</td>\n",
              "      <td>I had continue received random calls and abusi...</td>\n",
              "    </tr>\n",
              "    <tr>\n",
              "      <th>1</th>\n",
              "      <td>Online Financial Fraud</td>\n",
              "      <td>Fraud CallVishing</td>\n",
              "      <td>The above fraudster is continuously messaging ...</td>\n",
              "    </tr>\n",
              "    <tr>\n",
              "      <th>2</th>\n",
              "      <td>Online Gambling  Betting</td>\n",
              "      <td>Online Gambling  Betting</td>\n",
              "      <td>He is acting like a police and demanding for m...</td>\n",
              "    </tr>\n",
              "    <tr>\n",
              "      <th>3</th>\n",
              "      <td>Online and Social Media Related Crime</td>\n",
              "      <td>Online Job Fraud</td>\n",
              "      <td>In apna Job I have applied for job interview f...</td>\n",
              "    </tr>\n",
              "    <tr>\n",
              "      <th>4</th>\n",
              "      <td>Online Financial Fraud</td>\n",
              "      <td>Fraud CallVishing</td>\n",
              "      <td>I received a call from lady stating that she w...</td>\n",
              "    </tr>\n",
              "  </tbody>\n",
              "</table>\n",
              "</div>\n",
              "    <div class=\"colab-df-buttons\">\n",
              "\n",
              "  <div class=\"colab-df-container\">\n",
              "    <button class=\"colab-df-convert\" onclick=\"convertToInteractive('df-d0d08e4d-36b7-4229-ac64-c635b4774bdf')\"\n",
              "            title=\"Convert this dataframe to an interactive table.\"\n",
              "            style=\"display:none;\">\n",
              "\n",
              "  <svg xmlns=\"http://www.w3.org/2000/svg\" height=\"24px\" viewBox=\"0 -960 960 960\">\n",
              "    <path d=\"M120-120v-720h720v720H120Zm60-500h600v-160H180v160Zm220 220h160v-160H400v160Zm0 220h160v-160H400v160ZM180-400h160v-160H180v160Zm440 0h160v-160H620v160ZM180-180h160v-160H180v160Zm440 0h160v-160H620v160Z\"/>\n",
              "  </svg>\n",
              "    </button>\n",
              "\n",
              "  <style>\n",
              "    .colab-df-container {\n",
              "      display:flex;\n",
              "      gap: 12px;\n",
              "    }\n",
              "\n",
              "    .colab-df-convert {\n",
              "      background-color: #E8F0FE;\n",
              "      border: none;\n",
              "      border-radius: 50%;\n",
              "      cursor: pointer;\n",
              "      display: none;\n",
              "      fill: #1967D2;\n",
              "      height: 32px;\n",
              "      padding: 0 0 0 0;\n",
              "      width: 32px;\n",
              "    }\n",
              "\n",
              "    .colab-df-convert:hover {\n",
              "      background-color: #E2EBFA;\n",
              "      box-shadow: 0px 1px 2px rgba(60, 64, 67, 0.3), 0px 1px 3px 1px rgba(60, 64, 67, 0.15);\n",
              "      fill: #174EA6;\n",
              "    }\n",
              "\n",
              "    .colab-df-buttons div {\n",
              "      margin-bottom: 4px;\n",
              "    }\n",
              "\n",
              "    [theme=dark] .colab-df-convert {\n",
              "      background-color: #3B4455;\n",
              "      fill: #D2E3FC;\n",
              "    }\n",
              "\n",
              "    [theme=dark] .colab-df-convert:hover {\n",
              "      background-color: #434B5C;\n",
              "      box-shadow: 0px 1px 3px 1px rgba(0, 0, 0, 0.15);\n",
              "      filter: drop-shadow(0px 1px 2px rgba(0, 0, 0, 0.3));\n",
              "      fill: #FFFFFF;\n",
              "    }\n",
              "  </style>\n",
              "\n",
              "    <script>\n",
              "      const buttonEl =\n",
              "        document.querySelector('#df-d0d08e4d-36b7-4229-ac64-c635b4774bdf button.colab-df-convert');\n",
              "      buttonEl.style.display =\n",
              "        google.colab.kernel.accessAllowed ? 'block' : 'none';\n",
              "\n",
              "      async function convertToInteractive(key) {\n",
              "        const element = document.querySelector('#df-d0d08e4d-36b7-4229-ac64-c635b4774bdf');\n",
              "        const dataTable =\n",
              "          await google.colab.kernel.invokeFunction('convertToInteractive',\n",
              "                                                    [key], {});\n",
              "        if (!dataTable) return;\n",
              "\n",
              "        const docLinkHtml = 'Like what you see? Visit the ' +\n",
              "          '<a target=\"_blank\" href=https://colab.research.google.com/notebooks/data_table.ipynb>data table notebook</a>'\n",
              "          + ' to learn more about interactive tables.';\n",
              "        element.innerHTML = '';\n",
              "        dataTable['output_type'] = 'display_data';\n",
              "        await google.colab.output.renderOutput(dataTable, element);\n",
              "        const docLink = document.createElement('div');\n",
              "        docLink.innerHTML = docLinkHtml;\n",
              "        element.appendChild(docLink);\n",
              "      }\n",
              "    </script>\n",
              "  </div>\n",
              "\n",
              "\n",
              "<div id=\"df-53f8be8d-7207-4b84-9203-b86b83a0a999\">\n",
              "  <button class=\"colab-df-quickchart\" onclick=\"quickchart('df-53f8be8d-7207-4b84-9203-b86b83a0a999')\"\n",
              "            title=\"Suggest charts\"\n",
              "            style=\"display:none;\">\n",
              "\n",
              "<svg xmlns=\"http://www.w3.org/2000/svg\" height=\"24px\"viewBox=\"0 0 24 24\"\n",
              "     width=\"24px\">\n",
              "    <g>\n",
              "        <path d=\"M19 3H5c-1.1 0-2 .9-2 2v14c0 1.1.9 2 2 2h14c1.1 0 2-.9 2-2V5c0-1.1-.9-2-2-2zM9 17H7v-7h2v7zm4 0h-2V7h2v10zm4 0h-2v-4h2v4z\"/>\n",
              "    </g>\n",
              "</svg>\n",
              "  </button>\n",
              "\n",
              "<style>\n",
              "  .colab-df-quickchart {\n",
              "      --bg-color: #E8F0FE;\n",
              "      --fill-color: #1967D2;\n",
              "      --hover-bg-color: #E2EBFA;\n",
              "      --hover-fill-color: #174EA6;\n",
              "      --disabled-fill-color: #AAA;\n",
              "      --disabled-bg-color: #DDD;\n",
              "  }\n",
              "\n",
              "  [theme=dark] .colab-df-quickchart {\n",
              "      --bg-color: #3B4455;\n",
              "      --fill-color: #D2E3FC;\n",
              "      --hover-bg-color: #434B5C;\n",
              "      --hover-fill-color: #FFFFFF;\n",
              "      --disabled-bg-color: #3B4455;\n",
              "      --disabled-fill-color: #666;\n",
              "  }\n",
              "\n",
              "  .colab-df-quickchart {\n",
              "    background-color: var(--bg-color);\n",
              "    border: none;\n",
              "    border-radius: 50%;\n",
              "    cursor: pointer;\n",
              "    display: none;\n",
              "    fill: var(--fill-color);\n",
              "    height: 32px;\n",
              "    padding: 0;\n",
              "    width: 32px;\n",
              "  }\n",
              "\n",
              "  .colab-df-quickchart:hover {\n",
              "    background-color: var(--hover-bg-color);\n",
              "    box-shadow: 0 1px 2px rgba(60, 64, 67, 0.3), 0 1px 3px 1px rgba(60, 64, 67, 0.15);\n",
              "    fill: var(--button-hover-fill-color);\n",
              "  }\n",
              "\n",
              "  .colab-df-quickchart-complete:disabled,\n",
              "  .colab-df-quickchart-complete:disabled:hover {\n",
              "    background-color: var(--disabled-bg-color);\n",
              "    fill: var(--disabled-fill-color);\n",
              "    box-shadow: none;\n",
              "  }\n",
              "\n",
              "  .colab-df-spinner {\n",
              "    border: 2px solid var(--fill-color);\n",
              "    border-color: transparent;\n",
              "    border-bottom-color: var(--fill-color);\n",
              "    animation:\n",
              "      spin 1s steps(1) infinite;\n",
              "  }\n",
              "\n",
              "  @keyframes spin {\n",
              "    0% {\n",
              "      border-color: transparent;\n",
              "      border-bottom-color: var(--fill-color);\n",
              "      border-left-color: var(--fill-color);\n",
              "    }\n",
              "    20% {\n",
              "      border-color: transparent;\n",
              "      border-left-color: var(--fill-color);\n",
              "      border-top-color: var(--fill-color);\n",
              "    }\n",
              "    30% {\n",
              "      border-color: transparent;\n",
              "      border-left-color: var(--fill-color);\n",
              "      border-top-color: var(--fill-color);\n",
              "      border-right-color: var(--fill-color);\n",
              "    }\n",
              "    40% {\n",
              "      border-color: transparent;\n",
              "      border-right-color: var(--fill-color);\n",
              "      border-top-color: var(--fill-color);\n",
              "    }\n",
              "    60% {\n",
              "      border-color: transparent;\n",
              "      border-right-color: var(--fill-color);\n",
              "    }\n",
              "    80% {\n",
              "      border-color: transparent;\n",
              "      border-right-color: var(--fill-color);\n",
              "      border-bottom-color: var(--fill-color);\n",
              "    }\n",
              "    90% {\n",
              "      border-color: transparent;\n",
              "      border-bottom-color: var(--fill-color);\n",
              "    }\n",
              "  }\n",
              "</style>\n",
              "\n",
              "  <script>\n",
              "    async function quickchart(key) {\n",
              "      const quickchartButtonEl =\n",
              "        document.querySelector('#' + key + ' button');\n",
              "      quickchartButtonEl.disabled = true;  // To prevent multiple clicks.\n",
              "      quickchartButtonEl.classList.add('colab-df-spinner');\n",
              "      try {\n",
              "        const charts = await google.colab.kernel.invokeFunction(\n",
              "            'suggestCharts', [key], {});\n",
              "      } catch (error) {\n",
              "        console.error('Error during call to suggestCharts:', error);\n",
              "      }\n",
              "      quickchartButtonEl.classList.remove('colab-df-spinner');\n",
              "      quickchartButtonEl.classList.add('colab-df-quickchart-complete');\n",
              "    }\n",
              "    (() => {\n",
              "      let quickchartButtonEl =\n",
              "        document.querySelector('#df-53f8be8d-7207-4b84-9203-b86b83a0a999 button');\n",
              "      quickchartButtonEl.style.display =\n",
              "        google.colab.kernel.accessAllowed ? 'block' : 'none';\n",
              "    })();\n",
              "  </script>\n",
              "</div>\n",
              "\n",
              "    </div>\n",
              "  </div>\n"
            ],
            "application/vnd.google.colaboratory.intrinsic+json": {
              "type": "dataframe",
              "variable_name": "dfs",
              "summary": "{\n  \"name\": \"dfs\",\n  \"rows\": 93686,\n  \"fields\": [\n    {\n      \"column\": \"category\",\n      \"properties\": {\n        \"dtype\": \"category\",\n        \"num_unique_values\": 15,\n        \"samples\": [\n          \"Hacking  Damage to computercomputer system etc\",\n          \"Child Pornography CPChild Sexual Abuse Material CSAM\",\n          \"Online and Social Media Related Crime\"\n        ],\n        \"semantic_type\": \"\",\n        \"description\": \"\"\n      }\n    },\n    {\n      \"column\": \"sub_category\",\n      \"properties\": {\n        \"dtype\": \"category\",\n        \"num_unique_values\": 35,\n        \"samples\": [\n          \"Online Trafficking\",\n          \"FakeImpersonating Profile\",\n          \"Tampering with computer source documents\"\n        ],\n        \"semantic_type\": \"\",\n        \"description\": \"\"\n      }\n    },\n    {\n      \"column\": \"crimeaditionalinfo\",\n      \"properties\": {\n        \"dtype\": \"string\",\n        \"num_unique_values\": 85013,\n        \"samples\": [\n          \"I got a call from this unknown number and the person was asking about GPAY and transfer  k to his friend I have disconnected the call and not paid any amount I have also called to  to report the same I have blocked the number as of now but i am sure it was fraudulent and malicious call\",\n          \"My friend mentioned something like this happened to them a few months ago, but I thought it was a one-off. Then, suddenly, I got this weird notification asking me to update my password, but the message didn\\u2019t look like the usual ones I receive from the app. It looked a bit off. It\\u2019s hard to explain, but it felt like someone was inside my account, doing things while I wasn\\u2019t even online. The more I tried to fix it, the more problems came up. My social media was notifiction, and then I got locked out of everything. The worst part is, I don\\u2019t even know who to trust anymore. Friends, family, everyone\\u2019s acting strange. It\\u2019s affecting my relationships and my mental health. Even my phone isn\\u2019t working right anymore. It\\u2019s so stange how everything just fell apart after that one email.\",\n          \"\\r\\nTHEY FRAUD ME IN THE NAME OF INDIAN ARMY OFFICERS VIA PHONEPE TRANSACTIONS FARUD CALLING FROM BELOW GIVEN NUMBER    FRAUD AMOUNT \\r\\n \\r\\n\"\n        ],\n        \"semantic_type\": \"\",\n        \"description\": \"\"\n      }\n    }\n  ]\n}"
            }
          },
          "metadata": {},
          "execution_count": 30
        }
      ]
    },
    {
      "cell_type": "code",
      "source": [
        "# Check for missing values in each column\n",
        "print(dfs.isnull().sum())"
      ],
      "metadata": {
        "colab": {
          "base_uri": "https://localhost:8080/"
        },
        "id": "OEp2UsKzLsS_",
        "outputId": "45bc08a2-732b-4407-f4f9-004a0a2d213d"
      },
      "execution_count": 31,
      "outputs": [
        {
          "output_type": "stream",
          "name": "stdout",
          "text": [
            "category                 0\n",
            "sub_category          6591\n",
            "crimeaditionalinfo      21\n",
            "dtype: int64\n"
          ]
        }
      ]
    },
    {
      "cell_type": "code",
      "source": [
        "dfs.dropna(inplace=True)"
      ],
      "metadata": {
        "id": "8WcILddcLuLs"
      },
      "execution_count": 32,
      "outputs": []
    },
    {
      "cell_type": "code",
      "source": [
        "# Check for missing values in each column\n",
        "print(dfs.isnull().sum())"
      ],
      "metadata": {
        "colab": {
          "base_uri": "https://localhost:8080/"
        },
        "id": "7tu_fSQsLyTM",
        "outputId": "c55cae66-36d4-4192-c666-2b714470e635"
      },
      "execution_count": 33,
      "outputs": [
        {
          "output_type": "stream",
          "name": "stdout",
          "text": [
            "category              0\n",
            "sub_category          0\n",
            "crimeaditionalinfo    0\n",
            "dtype: int64\n"
          ]
        }
      ]
    },
    {
      "cell_type": "markdown",
      "source": [
        "Preprocessing the text column"
      ],
      "metadata": {
        "id": "jN3AS2wIL176"
      }
    },
    {
      "cell_type": "code",
      "source": [
        "# prompt: Using dataframe df: do the preprocess on the crimeaditionalinfo column\n",
        "\n",
        "import re\n",
        "\n",
        "# Function to preprocess the text\n",
        "def preprocess_text(text):\n",
        "    if not isinstance(text, str):\n",
        "        return \"\"  # Handle non-string values\n",
        "\n",
        "    # Convert to lowercase\n",
        "    text = text.lower()\n",
        "\n",
        "    # Remove special characters and numbers\n",
        "    text = re.sub(r'[^a-zA-Z\\s]', '', text)\n",
        "\n",
        "    # Remove extra whitespace\n",
        "    text = ' '.join(text.split())\n",
        "\n",
        "    return text\n",
        "\n",
        "# Apply the preprocessing function to the 'crimeaditionalinfo' column\n",
        "dfs['crimeaditionalinfo'] = dfs['crimeaditionalinfo'].apply(preprocess_text)\n"
      ],
      "metadata": {
        "id": "wUiqGy64L5XU"
      },
      "execution_count": 34,
      "outputs": []
    },
    {
      "cell_type": "code",
      "source": [
        "from langchain_community.document_loaders.csv_loader import CSVLoader\n",
        "loader = CSVLoader(file_path=\"/content/drive/MyDrive/cyberguard_hackathon/train.csv\", csv_args={\n",
        "    'delimiter': ',',\n",
        "    'quotechar': '\"',\n",
        "    'fieldnames': ['category', 'sub_category', 'crimeaditionalinfo']\n",
        "})\n",
        "#loader = CSVLoader(\"/content/drive/MyDrive/Colab Notebooks/RAG/filtered_train\")\n",
        "text_documents1 = loader.load()\n",
        "text_documents1[:10]"
      ],
      "metadata": {
        "colab": {
          "base_uri": "https://localhost:8080/"
        },
        "id": "O1BOTJFIL8b7",
        "outputId": "5daaab7b-7740-4010-8fd7-91e196eccbc7"
      },
      "execution_count": 35,
      "outputs": [
        {
          "output_type": "execute_result",
          "data": {
            "text/plain": [
              "[Document(metadata={'source': '/content/drive/MyDrive/cyberguard_hackathon/train.csv', 'row': 0}, page_content='category: category\\nsub_category: sub_category\\ncrimeaditionalinfo: crimeaditionalinfo'),\n",
              " Document(metadata={'source': '/content/drive/MyDrive/cyberguard_hackathon/train.csv', 'row': 1}, page_content='category: Online and Social Media Related Crime\\nsub_category: Cyber Bullying  Stalking  Sexting\\ncrimeaditionalinfo: I had continue received random calls and abusive messages in my whatsapp Someone added my number in a unknown facebook group name with  Only Girls  and still getting calls from unknown numbers pls help me and sort out the issue  as soon as possible Thank you'),\n",
              " Document(metadata={'source': '/content/drive/MyDrive/cyberguard_hackathon/train.csv', 'row': 2}, page_content='category: Online Financial Fraud\\nsub_category: Fraud CallVishing\\ncrimeaditionalinfo: The above fraudster is continuously messaging me and Asking me to pay him money or he will send fake  cropped nude photos of me to my other contacts through WhatsApp\\r\\n\\r\\nI am unaware how he has recieved my contacts list from my phone\\r\\n\\r\\nPlease help'),\n",
              " Document(metadata={'source': '/content/drive/MyDrive/cyberguard_hackathon/train.csv', 'row': 3}, page_content='category: Online Gambling  Betting\\nsub_category: Online Gambling  Betting\\ncrimeaditionalinfo: He is acting like a police and demanding for money by adding sections in the text messages \\r\\nI request you to take an immediate action on him Frequently he is harassing with these messages For reference please find attached files'),\n",
              " Document(metadata={'source': '/content/drive/MyDrive/cyberguard_hackathon/train.csv', 'row': 4}, page_content='category: Online and Social Media Related Crime\\nsub_category: Online Job Fraud\\ncrimeaditionalinfo: In apna Job I have applied for job interview for telecalling and the resource management wrote that twelve hundred will be charged for security amount of laptop and work from home when I have given interview on the given address next day they charged twelve hundred and six hundred more money in the name of insurance after that they have referred me to the job calling there is no work of laptop neither a work from home kindly please take action against it as soon as possible and if possible please help me to recover my financial loss'),\n",
              " Document(metadata={'source': '/content/drive/MyDrive/cyberguard_hackathon/train.csv', 'row': 5}, page_content='category: Online Financial Fraud\\nsub_category: Fraud CallVishing\\ncrimeaditionalinfo: I received a call from lady stating that she will send new phone of vivo and I received that parcel through post on  th February to Kurnool head post office  where I have not received any mobile'),\n",
              " Document(metadata={'source': '/content/drive/MyDrive/cyberguard_hackathon/train.csv', 'row': 6}, page_content='category: Online Financial Fraud\\nsub_category: UPI Related Frauds\\ncrimeaditionalinfo: FRAUD \\t UPI PAYTM \\r\\nBANK \\tPunjab National Bank including Oriental Bank of Commerce and United Bank of India\\t\\r\\nACCOUNT NUMBER  \\r\\nTOTAL AMOUNT  \\r\\nPLEASE HOLD REVERSE TOTAL AMOUNT IN THE COMPLAINT ACCOUNT AND TAKE NECESSARY ACTION'),\n",
              " Document(metadata={'source': '/content/drive/MyDrive/cyberguard_hackathon/train.csv', 'row': 7}, page_content='category: Online Financial Fraud\\nsub_category: Fraud CallVishing\\ncrimeaditionalinfo: Sir I am Prabhat Singh jat  An app on playstore which name is rupeestarsago  I\\r\\nhave been never applied for a loan from this app  They copied my contact\\r\\nlist and asking for loan repayment they are calling my contacts and\\r\\nrelatives and abusing himher  They are mentally harrasing me Please\\r\\ntake strict action on this  They are defaming me infront of my contact and\\r\\nrelatives They are forced me to do suicide I am not able swith on my\\r\\nmobile phone they are calling continuously and abusing me  If this is not\\r\\nclosed i commit suiside'),\n",
              " Document(metadata={'source': '/content/drive/MyDrive/cyberguard_hackathon/train.csv', 'row': 8}, page_content='category: Online Financial Fraud\\nsub_category: Internet Banking Related Fraud\\ncrimeaditionalinfo: FINANCIAL FRAUD  RS'),\n",
              " Document(metadata={'source': '/content/drive/MyDrive/cyberguard_hackathon/train.csv', 'row': 9}, page_content='category: RapeGang Rape RGRSexually Abusive Content\\nsub_category: \\ncrimeaditionalinfo: I got the message on Whatsapp to my number The message contains very abusive words This message also includes my friend name and his number in that The same message was forwarded to all other friends also For more details please look into the file attached here Please take action ASAP')]"
            ]
          },
          "metadata": {},
          "execution_count": 35
        }
      ]
    },
    {
      "cell_type": "code",
      "source": [
        "from langchain.text_splitter import RecursiveCharacterTextSplitter\n",
        "text_splitter1 = RecursiveCharacterTextSplitter(chunk_size=1000, chunk_overlap=20)\n",
        "documents1 = text_splitter1.split_documents(text_documents1)"
      ],
      "metadata": {
        "id": "pD4x_BTFL-Cd"
      },
      "execution_count": 36,
      "outputs": []
    },
    {
      "cell_type": "code",
      "source": [
        "from langchain_community.vectorstores import DocArrayInMemorySearch\n",
        "from langchain_openai.embeddings import OpenAIEmbeddings\n",
        "\n",
        "embeddings = OpenAIEmbeddings(openai_api_key=OPENAI_API_KEY)\n",
        "vectorstore1 = DocArrayInMemorySearch.from_documents(documents1, embeddings)"
      ],
      "metadata": {
        "id": "ivR9uz08MBAQ"
      },
      "execution_count": null,
      "outputs": []
    },
    {
      "cell_type": "code",
      "source": [
        "import pandas as pd\n",
        "dfs_test=pd.read_csv(\"/content/drive/MyDrive/cyberguard_hackathon/160_test_data.csv\")"
      ],
      "metadata": {
        "id": "XoVsr9h-MC5n"
      },
      "execution_count": null,
      "outputs": []
    },
    {
      "cell_type": "code",
      "source": [
        "dfs_test1=dfs_test.drop(columns=[\"sub_category\"])"
      ],
      "metadata": {
        "id": "bkq0TS57MExX"
      },
      "execution_count": null,
      "outputs": []
    },
    {
      "cell_type": "code",
      "source": [
        "dfs_test1.isnull().sum()"
      ],
      "metadata": {
        "id": "WPNxf36jMFzM"
      },
      "execution_count": null,
      "outputs": []
    },
    {
      "cell_type": "code",
      "source": [
        "dfs_test.dropna(inplace = True)"
      ],
      "metadata": {
        "id": "wauzr7LLMG0g"
      },
      "execution_count": null,
      "outputs": []
    },
    {
      "cell_type": "code",
      "source": [
        "datas=list(dfs_test[\"sub_category\"][:10])"
      ],
      "metadata": {
        "id": "boLwL0CyMIbe"
      },
      "execution_count": null,
      "outputs": []
    },
    {
      "cell_type": "code",
      "source": [
        "str(dfs_test1.iloc[1])"
      ],
      "metadata": {
        "id": "N_4cnzlRMJi0"
      },
      "execution_count": null,
      "outputs": []
    },
    {
      "cell_type": "code",
      "source": [
        "from langchain_core.runnables import RunnableParallel, RunnablePassthrough\n",
        "from langchain_core.output_parsers import StrOutputParser\n",
        "from operator import itemgetter\n",
        "from langchain.schema.runnable import RunnableLambda\n",
        "\n",
        "parser = StrOutputParser()\n",
        "retriever=vectorstore1.as_retriever()\n",
        "import random\n",
        "\n",
        "def generate_label_subsets(labels, num_instances, num_incorrect_labels):\n",
        "    \"\"\"\n",
        "    Generate label subsets for each instance.\n",
        "\n",
        "    Args:\n",
        "    - labels (list): List of labels.\n",
        "    - num_instances (int): Number of instances.\n",
        "    - num_incorrect_labels (int): Number of incorrect labels per instance.\n",
        "\n",
        "    Returns:\n",
        "    - list: List of lists, each containing the correct label followed by a list of incorrect labels.\n",
        "    \"\"\"\n",
        "    label_subsets = []\n",
        "\n",
        "    for _ in range(num_instances):\n",
        "        correct_label = random.choice(labels)\n",
        "        incorrect_labels = random.sample([label for label in labels if label != correct_label], num_incorrect_labels)\n",
        "        subset = [correct_label] + incorrect_labels\n",
        "        random.shuffle(subset)  # Shuffle the subset\n",
        "        label_subsets.append(subset)\n",
        "\n",
        "    return label_subsets\n",
        "\n",
        "# Example usage\n",
        "labels =datas\n",
        "num_instances = len(datas)\n",
        "num_incorrect_labels = 3\n",
        "\n",
        "\n",
        "def create_list(*elements):\n",
        "    \"\"\"\n",
        "    Create a list from the given elements.\n",
        "\n",
        "    Args:\n",
        "        *elements: Variable number of elements to be added to the list.\n",
        "\n",
        "    Returns:\n",
        "        List containing the input elements.\n",
        "    \"\"\"\n",
        "    return list(elements)\n",
        "\n",
        "\n",
        "label_subsets = generate_label_subsets(labels, num_instances, num_incorrect_labels)\n",
        "\n",
        "# for i in range(0,10):\n",
        "#   chain = (\n",
        "#     #{\"context\":retriever,\"data\":lambda x : [\"Paradoxical Commandments\",\"Creative Thoughts About A Challenging Life\",\"A Cozy Read filled with Wisdom\",\"Tap into Secret Wealth\"],\"question\": RunnablePassthrough() }\n",
        "#      {\"context\":retriever,\"data\":lambda x :label_subsets[i],\"question\": RunnablePassthrough() }\n",
        "#     # {\"context\":retriever,\"data\":{\"text1\":itemgetter(\"text1\"),\"text2\":itemgetter(\"text2\"),\"text3\":itemgetter(\"text3\"),\"text4\":itemgetter(\"text4\")}|RunnableLambda(create_list),\"question\": itemgetter(\"question\") }\n",
        "#     #  {\"context\":retriever,\"data\":{\"text1\":\"Paradoxical Commandments\",\"text2\":\"Creative Thoughts About A Challenging Life\",\"text3\": \"A Cozy Read filled with Wisdom\",\"text4\":\"Tap into Secret Wealth\"}|RunnableLambda(create_list),\"question\": RunnablePassthrough() }\n",
        "#     | prompt1\n",
        "#     | model\n",
        "#     | parser )\n",
        "# for i in range(10):\n",
        "#   print (f\"Prediction{i}.{chain.invoke(str(dfs_test1.iloc[i]))}\")\n",
        "#   print (f\" Actual{i}.{dfs_test['sub_category'][i]}\")\n",
        "\n",
        "\n",
        "for i in range(10):\n",
        "  # Get the text for prediction and actual category for the i-th row\n",
        "  input_text = dfs_test1.iloc[i]  # Access the i-th row for prediction input\n",
        "  actual_category = dfs_test.iloc[i]['sub_category']  # Access the category column for actual value\n",
        "\n",
        "  # Run the prediction chain\n",
        "  prediction = chain.invoke(str(input_text))\n",
        "\n",
        "  # Display the results\n",
        "  print(f\"Prediction {i}: {prediction}\")\n",
        "  print(f\"Actual {i}: {actual_category}\")\n"
      ],
      "metadata": {
        "id": "2v3vBXB3MM3n"
      },
      "execution_count": null,
      "outputs": []
    },
    {
      "cell_type": "markdown",
      "source": [
        "Calculating Accuracy, Precision, Recall, F1 score and confusion matrix"
      ],
      "metadata": {
        "id": "SzEmhGU6MP9J"
      }
    },
    {
      "cell_type": "code",
      "source": [
        "import pandas as pd\n",
        "from sklearn.metrics import accuracy_score, precision_score, recall_score, f1_score, confusion_matrix, roc_auc_score\n",
        "\n",
        "# Load the CSV file\n",
        "dfs_test = pd.read_csv(\"/content/10test.csv\")  # Replace with your actual CSV file path\n",
        "\n",
        "# List of possible labels (assuming they are in `dfs['sub_category']`)\n",
        "labels = dfs['sub_category'].values\n",
        "\n",
        "# Define the number of incorrect labels for each instance\n",
        "num_incorrect_labels = 3\n",
        "\n",
        "# Initialize lists to store true and predicted labels\n",
        "y_true = []\n",
        "y_pred = []\n",
        "\n",
        "# Loop through each row in the DataFrame\n",
        "for index, row in dfs_test.iterrows():\n",
        "    text = row[\"sub_category\"]  # Replace with the actual text column name\n",
        "    actual_category = row[\"sub_category\"]  # Replace with the actual category column name\n",
        "    y_true.append(actual_category)  # Append the actual category to y_true\n",
        "\n",
        "    # Generate a label subset for this instance\n",
        "    label_subset = generate_label_subsets(labels, 1, num_incorrect_labels)[0]\n",
        "\n",
        "    # Create and run the chain with the correct variable name for \"data\"\n",
        "    single_chain = (\n",
        "        {\"context\": retriever, \"data\": lambda x: label_subset, \"question\": RunnablePassthrough()}\n",
        "        | prompt1\n",
        "        | model\n",
        "        | parser\n",
        "    )\n",
        "\n",
        "    # Get the prediction\n",
        "    try:\n",
        "        prediction = single_chain.invoke(str(text)).strip()\n",
        "    except Exception as e:\n",
        "        print(f\"Error in prediction for row {index+1}: {e}\")\n",
        "        prediction = \"\"\n",
        "\n",
        "    y_pred.append(prediction)  # Append the prediction to y_pred\n",
        "\n",
        "# Calculate evaluation metrics\n",
        "accuracy = accuracy_score(y_true, y_pred)\n",
        "precision = precision_score(y_true, y_pred, average='weighted')  # Adjust `average` if needed\n",
        "recall = recall_score(y_true, y_pred, average='weighted')\n",
        "f1 = f1_score(y_true, y_pred, average='weighted')\n",
        "conf_matrix = confusion_matrix(y_true, y_pred)\n",
        "\n",
        "# Display results\n",
        "print(f\"Accuracy: {accuracy}\")\n",
        "print(f\"Precision: {precision}\")\n",
        "print(f\"Recall: {recall}\")\n",
        "print(f\"F1 Score: {f1}\")\n",
        "print(\"Confusion Matrix:\")\n",
        "print(conf_matrix)\n",
        "\n",
        "# For ROC-AUC (only for binary classification cases)\n",
        "if len(set(y_true)) == 2:\n",
        "    # Ensure `y_pred_proba` exists and represents probability of each class\n",
        "    # Assuming `y_pred_proba` contains probabilities of the positive class\n",
        "    roc_auc = roc_auc_score(y_true, y_pred_proba[:, 1])\n",
        "    print(f\"ROC-AUC Score: {roc_auc}\")\n"
      ],
      "metadata": {
        "id": "XnUUGgM-GTlM"
      },
      "execution_count": null,
      "outputs": []
    },
    {
      "cell_type": "code",
      "source": [],
      "metadata": {
        "id": "_3Px8voQGTpN"
      },
      "execution_count": null,
      "outputs": []
    },
    {
      "cell_type": "code",
      "source": [],
      "metadata": {
        "id": "ATkGk5XwGTtk"
      },
      "execution_count": null,
      "outputs": []
    },
    {
      "cell_type": "code",
      "source": [],
      "metadata": {
        "id": "mBxiMUidBK4x"
      },
      "execution_count": null,
      "outputs": []
    },
    {
      "cell_type": "code",
      "source": [],
      "metadata": {
        "id": "0_vCeN7Z5565"
      },
      "execution_count": null,
      "outputs": []
    },
    {
      "cell_type": "code",
      "source": [
        "import pandas as pd\n",
        "df1_test=pd.read_csv(\"/content/10test.csv\")"
      ],
      "metadata": {
        "id": "gFYb1qbr559h"
      },
      "execution_count": null,
      "outputs": []
    },
    {
      "cell_type": "code",
      "source": [
        "df1_test1=df1_test.drop(columns=[\"category\"])"
      ],
      "metadata": {
        "id": "yilV-cB95-rT"
      },
      "execution_count": null,
      "outputs": []
    },
    {
      "cell_type": "code",
      "source": [
        "df1_test['category'].value_counts()"
      ],
      "metadata": {
        "colab": {
          "base_uri": "https://localhost:8080/",
          "height": 398
        },
        "id": "Zw8a8DPi2na_",
        "outputId": "52ecf52f-bbc5-4039-f4c5-67ef6a23657f"
      },
      "execution_count": null,
      "outputs": [
        {
          "output_type": "execute_result",
          "data": {
            "text/plain": [
              "category\n",
              "Online Financial Fraud                                  19\n",
              "Any Other Cyber Crime                                    4\n",
              "Online and Social Media Related Crime                    4\n",
              "Cyber Attack/ Dependent Crimes                           3\n",
              "Hacking  Damage to computercomputer system etc           2\n",
              "RapeGang Rape RGRSexually Abusive Content                1\n",
              "Sexually Explicit Act                                    1\n",
              "Sexually Obscene material                                1\n",
              "Child Pornography CPChild Sexual Abuse Material CSAM     1\n",
              "Name: count, dtype: int64"
            ],
            "text/html": [
              "<div>\n",
              "<style scoped>\n",
              "    .dataframe tbody tr th:only-of-type {\n",
              "        vertical-align: middle;\n",
              "    }\n",
              "\n",
              "    .dataframe tbody tr th {\n",
              "        vertical-align: top;\n",
              "    }\n",
              "\n",
              "    .dataframe thead th {\n",
              "        text-align: right;\n",
              "    }\n",
              "</style>\n",
              "<table border=\"1\" class=\"dataframe\">\n",
              "  <thead>\n",
              "    <tr style=\"text-align: right;\">\n",
              "      <th></th>\n",
              "      <th>count</th>\n",
              "    </tr>\n",
              "    <tr>\n",
              "      <th>category</th>\n",
              "      <th></th>\n",
              "    </tr>\n",
              "  </thead>\n",
              "  <tbody>\n",
              "    <tr>\n",
              "      <th>Online Financial Fraud</th>\n",
              "      <td>19</td>\n",
              "    </tr>\n",
              "    <tr>\n",
              "      <th>Any Other Cyber Crime</th>\n",
              "      <td>4</td>\n",
              "    </tr>\n",
              "    <tr>\n",
              "      <th>Online and Social Media Related Crime</th>\n",
              "      <td>4</td>\n",
              "    </tr>\n",
              "    <tr>\n",
              "      <th>Cyber Attack/ Dependent Crimes</th>\n",
              "      <td>3</td>\n",
              "    </tr>\n",
              "    <tr>\n",
              "      <th>Hacking  Damage to computercomputer system etc</th>\n",
              "      <td>2</td>\n",
              "    </tr>\n",
              "    <tr>\n",
              "      <th>RapeGang Rape RGRSexually Abusive Content</th>\n",
              "      <td>1</td>\n",
              "    </tr>\n",
              "    <tr>\n",
              "      <th>Sexually Explicit Act</th>\n",
              "      <td>1</td>\n",
              "    </tr>\n",
              "    <tr>\n",
              "      <th>Sexually Obscene material</th>\n",
              "      <td>1</td>\n",
              "    </tr>\n",
              "    <tr>\n",
              "      <th>Child Pornography CPChild Sexual Abuse Material CSAM</th>\n",
              "      <td>1</td>\n",
              "    </tr>\n",
              "  </tbody>\n",
              "</table>\n",
              "</div><br><label><b>dtype:</b> int64</label>"
            ]
          },
          "metadata": {},
          "execution_count": 74
        }
      ]
    },
    {
      "cell_type": "code",
      "source": [
        "df1_test1.dropna(inplace = True)"
      ],
      "metadata": {
        "id": "A8eRCVb49AB1"
      },
      "execution_count": null,
      "outputs": []
    },
    {
      "cell_type": "code",
      "source": [
        "df1_test1.head(20)"
      ],
      "metadata": {
        "colab": {
          "base_uri": "https://localhost:8080/",
          "height": 677
        },
        "id": "ftCh9vbZ6Zg0",
        "outputId": "646c6a7c-2f69-461a-941b-6ed259e4fd0e"
      },
      "execution_count": null,
      "outputs": [
        {
          "output_type": "execute_result",
          "data": {
            "text/plain": [
              "                               sub_category  \\\n",
              "1      DebitCredit Card FraudSim Swap Fraud   \n",
              "2                             SQL Injection   \n",
              "3                         Fraud CallVishing   \n",
              "4                                     Other   \n",
              "5            Internet Banking Related Fraud   \n",
              "6            Unauthorised AccessData Breach   \n",
              "7                        UPI Related Frauds   \n",
              "8            Internet Banking Related Fraud   \n",
              "9      DebitCredit Card FraudSim Swap Fraud   \n",
              "11  Damage to computer computer systems etc   \n",
              "13                       UPI Related Frauds   \n",
              "14                       UPI Related Frauds   \n",
              "15                        Fraud CallVishing   \n",
              "16                Cheating by Impersonation   \n",
              "17                       UPI Related Frauds   \n",
              "18                                    Other   \n",
              "19     DebitCredit Card FraudSim Swap Fraud   \n",
              "20     DebitCredit Card FraudSim Swap Fraud   \n",
              "21                       UPI Related Frauds   \n",
              "22                       UPI Related Frauds   \n",
              "\n",
              "                                   crimeaditionalinfo  \n",
              "1    Sir namaskar  mein Ranjit Kumar PatraPaise ne...  \n",
              "2   The issue actually started when I got this ema...  \n",
              "3   I am amit kumar from karwi chitrakoot I am tot...  \n",
              "4   I have ordered  saree and  blouse from rinki s...  \n",
              "5   My salary of amount  has to be credited to my ...  \n",
              "6   Due to some financial crisis I have applied lo...  \n",
              "7   a person called and told that i won a gift car...  \n",
              "8   NameManik Varban SO Nirmal Varban \\nAddkhara r...  \n",
              "9   Dear Sir\\n             Please stop the fraudul...  \n",
              "11  PLEASE READ ABOVE ATTACHED COMPLAINT OVERVIEW\\...  \n",
              "13  Identity theft   Fake Customer Care Service Fr...  \n",
              "14  At first\\nI had received a WhatsApp from  and ...  \n",
              "15  spam message i recieve msg from unwanted numbe...  \n",
              "16          SO                                AGRI...  \n",
              "17  FRAUD THROUGH  UPI GOOGLEPAY\\nBANK \\tPunjab Na...  \n",
              "18  Missing UPI idvenkatasubbareddyybl this not my...  \n",
              "19   time  may be incoming call on pooja sharma as...  \n",
              "20  I am Rohit Pandharkar from Mumbai Someone has ...  \n",
              "21                                   financial fraud   \n",
              "22                                                     "
            ],
            "text/html": [
              "\n",
              "  <div id=\"df-ed5d50dc-36e4-4ec0-a2af-f0f557aa9949\" class=\"colab-df-container\">\n",
              "    <div>\n",
              "<style scoped>\n",
              "    .dataframe tbody tr th:only-of-type {\n",
              "        vertical-align: middle;\n",
              "    }\n",
              "\n",
              "    .dataframe tbody tr th {\n",
              "        vertical-align: top;\n",
              "    }\n",
              "\n",
              "    .dataframe thead th {\n",
              "        text-align: right;\n",
              "    }\n",
              "</style>\n",
              "<table border=\"1\" class=\"dataframe\">\n",
              "  <thead>\n",
              "    <tr style=\"text-align: right;\">\n",
              "      <th></th>\n",
              "      <th>sub_category</th>\n",
              "      <th>crimeaditionalinfo</th>\n",
              "    </tr>\n",
              "  </thead>\n",
              "  <tbody>\n",
              "    <tr>\n",
              "      <th>1</th>\n",
              "      <td>DebitCredit Card FraudSim Swap Fraud</td>\n",
              "      <td>Sir namaskar  mein Ranjit Kumar PatraPaise ne...</td>\n",
              "    </tr>\n",
              "    <tr>\n",
              "      <th>2</th>\n",
              "      <td>SQL Injection</td>\n",
              "      <td>The issue actually started when I got this ema...</td>\n",
              "    </tr>\n",
              "    <tr>\n",
              "      <th>3</th>\n",
              "      <td>Fraud CallVishing</td>\n",
              "      <td>I am amit kumar from karwi chitrakoot I am tot...</td>\n",
              "    </tr>\n",
              "    <tr>\n",
              "      <th>4</th>\n",
              "      <td>Other</td>\n",
              "      <td>I have ordered  saree and  blouse from rinki s...</td>\n",
              "    </tr>\n",
              "    <tr>\n",
              "      <th>5</th>\n",
              "      <td>Internet Banking Related Fraud</td>\n",
              "      <td>My salary of amount  has to be credited to my ...</td>\n",
              "    </tr>\n",
              "    <tr>\n",
              "      <th>6</th>\n",
              "      <td>Unauthorised AccessData Breach</td>\n",
              "      <td>Due to some financial crisis I have applied lo...</td>\n",
              "    </tr>\n",
              "    <tr>\n",
              "      <th>7</th>\n",
              "      <td>UPI Related Frauds</td>\n",
              "      <td>a person called and told that i won a gift car...</td>\n",
              "    </tr>\n",
              "    <tr>\n",
              "      <th>8</th>\n",
              "      <td>Internet Banking Related Fraud</td>\n",
              "      <td>NameManik Varban SO Nirmal Varban \\nAddkhara r...</td>\n",
              "    </tr>\n",
              "    <tr>\n",
              "      <th>9</th>\n",
              "      <td>DebitCredit Card FraudSim Swap Fraud</td>\n",
              "      <td>Dear Sir\\n             Please stop the fraudul...</td>\n",
              "    </tr>\n",
              "    <tr>\n",
              "      <th>11</th>\n",
              "      <td>Damage to computer computer systems etc</td>\n",
              "      <td>PLEASE READ ABOVE ATTACHED COMPLAINT OVERVIEW\\...</td>\n",
              "    </tr>\n",
              "    <tr>\n",
              "      <th>13</th>\n",
              "      <td>UPI Related Frauds</td>\n",
              "      <td>Identity theft   Fake Customer Care Service Fr...</td>\n",
              "    </tr>\n",
              "    <tr>\n",
              "      <th>14</th>\n",
              "      <td>UPI Related Frauds</td>\n",
              "      <td>At first\\nI had received a WhatsApp from  and ...</td>\n",
              "    </tr>\n",
              "    <tr>\n",
              "      <th>15</th>\n",
              "      <td>Fraud CallVishing</td>\n",
              "      <td>spam message i recieve msg from unwanted numbe...</td>\n",
              "    </tr>\n",
              "    <tr>\n",
              "      <th>16</th>\n",
              "      <td>Cheating by Impersonation</td>\n",
              "      <td>SO                                AGRI...</td>\n",
              "    </tr>\n",
              "    <tr>\n",
              "      <th>17</th>\n",
              "      <td>UPI Related Frauds</td>\n",
              "      <td>FRAUD THROUGH  UPI GOOGLEPAY\\nBANK \\tPunjab Na...</td>\n",
              "    </tr>\n",
              "    <tr>\n",
              "      <th>18</th>\n",
              "      <td>Other</td>\n",
              "      <td>Missing UPI idvenkatasubbareddyybl this not my...</td>\n",
              "    </tr>\n",
              "    <tr>\n",
              "      <th>19</th>\n",
              "      <td>DebitCredit Card FraudSim Swap Fraud</td>\n",
              "      <td>time  may be incoming call on pooja sharma as...</td>\n",
              "    </tr>\n",
              "    <tr>\n",
              "      <th>20</th>\n",
              "      <td>DebitCredit Card FraudSim Swap Fraud</td>\n",
              "      <td>I am Rohit Pandharkar from Mumbai Someone has ...</td>\n",
              "    </tr>\n",
              "    <tr>\n",
              "      <th>21</th>\n",
              "      <td>UPI Related Frauds</td>\n",
              "      <td>financial fraud</td>\n",
              "    </tr>\n",
              "    <tr>\n",
              "      <th>22</th>\n",
              "      <td>UPI Related Frauds</td>\n",
              "      <td></td>\n",
              "    </tr>\n",
              "  </tbody>\n",
              "</table>\n",
              "</div>\n",
              "    <div class=\"colab-df-buttons\">\n",
              "\n",
              "  <div class=\"colab-df-container\">\n",
              "    <button class=\"colab-df-convert\" onclick=\"convertToInteractive('df-ed5d50dc-36e4-4ec0-a2af-f0f557aa9949')\"\n",
              "            title=\"Convert this dataframe to an interactive table.\"\n",
              "            style=\"display:none;\">\n",
              "\n",
              "  <svg xmlns=\"http://www.w3.org/2000/svg\" height=\"24px\" viewBox=\"0 -960 960 960\">\n",
              "    <path d=\"M120-120v-720h720v720H120Zm60-500h600v-160H180v160Zm220 220h160v-160H400v160Zm0 220h160v-160H400v160ZM180-400h160v-160H180v160Zm440 0h160v-160H620v160ZM180-180h160v-160H180v160Zm440 0h160v-160H620v160Z\"/>\n",
              "  </svg>\n",
              "    </button>\n",
              "\n",
              "  <style>\n",
              "    .colab-df-container {\n",
              "      display:flex;\n",
              "      gap: 12px;\n",
              "    }\n",
              "\n",
              "    .colab-df-convert {\n",
              "      background-color: #E8F0FE;\n",
              "      border: none;\n",
              "      border-radius: 50%;\n",
              "      cursor: pointer;\n",
              "      display: none;\n",
              "      fill: #1967D2;\n",
              "      height: 32px;\n",
              "      padding: 0 0 0 0;\n",
              "      width: 32px;\n",
              "    }\n",
              "\n",
              "    .colab-df-convert:hover {\n",
              "      background-color: #E2EBFA;\n",
              "      box-shadow: 0px 1px 2px rgba(60, 64, 67, 0.3), 0px 1px 3px 1px rgba(60, 64, 67, 0.15);\n",
              "      fill: #174EA6;\n",
              "    }\n",
              "\n",
              "    .colab-df-buttons div {\n",
              "      margin-bottom: 4px;\n",
              "    }\n",
              "\n",
              "    [theme=dark] .colab-df-convert {\n",
              "      background-color: #3B4455;\n",
              "      fill: #D2E3FC;\n",
              "    }\n",
              "\n",
              "    [theme=dark] .colab-df-convert:hover {\n",
              "      background-color: #434B5C;\n",
              "      box-shadow: 0px 1px 3px 1px rgba(0, 0, 0, 0.15);\n",
              "      filter: drop-shadow(0px 1px 2px rgba(0, 0, 0, 0.3));\n",
              "      fill: #FFFFFF;\n",
              "    }\n",
              "  </style>\n",
              "\n",
              "    <script>\n",
              "      const buttonEl =\n",
              "        document.querySelector('#df-ed5d50dc-36e4-4ec0-a2af-f0f557aa9949 button.colab-df-convert');\n",
              "      buttonEl.style.display =\n",
              "        google.colab.kernel.accessAllowed ? 'block' : 'none';\n",
              "\n",
              "      async function convertToInteractive(key) {\n",
              "        const element = document.querySelector('#df-ed5d50dc-36e4-4ec0-a2af-f0f557aa9949');\n",
              "        const dataTable =\n",
              "          await google.colab.kernel.invokeFunction('convertToInteractive',\n",
              "                                                    [key], {});\n",
              "        if (!dataTable) return;\n",
              "\n",
              "        const docLinkHtml = 'Like what you see? Visit the ' +\n",
              "          '<a target=\"_blank\" href=https://colab.research.google.com/notebooks/data_table.ipynb>data table notebook</a>'\n",
              "          + ' to learn more about interactive tables.';\n",
              "        element.innerHTML = '';\n",
              "        dataTable['output_type'] = 'display_data';\n",
              "        await google.colab.output.renderOutput(dataTable, element);\n",
              "        const docLink = document.createElement('div');\n",
              "        docLink.innerHTML = docLinkHtml;\n",
              "        element.appendChild(docLink);\n",
              "      }\n",
              "    </script>\n",
              "  </div>\n",
              "\n",
              "\n",
              "<div id=\"df-76b4f3a5-e0a2-4c75-9cad-cc6a59d71d08\">\n",
              "  <button class=\"colab-df-quickchart\" onclick=\"quickchart('df-76b4f3a5-e0a2-4c75-9cad-cc6a59d71d08')\"\n",
              "            title=\"Suggest charts\"\n",
              "            style=\"display:none;\">\n",
              "\n",
              "<svg xmlns=\"http://www.w3.org/2000/svg\" height=\"24px\"viewBox=\"0 0 24 24\"\n",
              "     width=\"24px\">\n",
              "    <g>\n",
              "        <path d=\"M19 3H5c-1.1 0-2 .9-2 2v14c0 1.1.9 2 2 2h14c1.1 0 2-.9 2-2V5c0-1.1-.9-2-2-2zM9 17H7v-7h2v7zm4 0h-2V7h2v10zm4 0h-2v-4h2v4z\"/>\n",
              "    </g>\n",
              "</svg>\n",
              "  </button>\n",
              "\n",
              "<style>\n",
              "  .colab-df-quickchart {\n",
              "      --bg-color: #E8F0FE;\n",
              "      --fill-color: #1967D2;\n",
              "      --hover-bg-color: #E2EBFA;\n",
              "      --hover-fill-color: #174EA6;\n",
              "      --disabled-fill-color: #AAA;\n",
              "      --disabled-bg-color: #DDD;\n",
              "  }\n",
              "\n",
              "  [theme=dark] .colab-df-quickchart {\n",
              "      --bg-color: #3B4455;\n",
              "      --fill-color: #D2E3FC;\n",
              "      --hover-bg-color: #434B5C;\n",
              "      --hover-fill-color: #FFFFFF;\n",
              "      --disabled-bg-color: #3B4455;\n",
              "      --disabled-fill-color: #666;\n",
              "  }\n",
              "\n",
              "  .colab-df-quickchart {\n",
              "    background-color: var(--bg-color);\n",
              "    border: none;\n",
              "    border-radius: 50%;\n",
              "    cursor: pointer;\n",
              "    display: none;\n",
              "    fill: var(--fill-color);\n",
              "    height: 32px;\n",
              "    padding: 0;\n",
              "    width: 32px;\n",
              "  }\n",
              "\n",
              "  .colab-df-quickchart:hover {\n",
              "    background-color: var(--hover-bg-color);\n",
              "    box-shadow: 0 1px 2px rgba(60, 64, 67, 0.3), 0 1px 3px 1px rgba(60, 64, 67, 0.15);\n",
              "    fill: var(--button-hover-fill-color);\n",
              "  }\n",
              "\n",
              "  .colab-df-quickchart-complete:disabled,\n",
              "  .colab-df-quickchart-complete:disabled:hover {\n",
              "    background-color: var(--disabled-bg-color);\n",
              "    fill: var(--disabled-fill-color);\n",
              "    box-shadow: none;\n",
              "  }\n",
              "\n",
              "  .colab-df-spinner {\n",
              "    border: 2px solid var(--fill-color);\n",
              "    border-color: transparent;\n",
              "    border-bottom-color: var(--fill-color);\n",
              "    animation:\n",
              "      spin 1s steps(1) infinite;\n",
              "  }\n",
              "\n",
              "  @keyframes spin {\n",
              "    0% {\n",
              "      border-color: transparent;\n",
              "      border-bottom-color: var(--fill-color);\n",
              "      border-left-color: var(--fill-color);\n",
              "    }\n",
              "    20% {\n",
              "      border-color: transparent;\n",
              "      border-left-color: var(--fill-color);\n",
              "      border-top-color: var(--fill-color);\n",
              "    }\n",
              "    30% {\n",
              "      border-color: transparent;\n",
              "      border-left-color: var(--fill-color);\n",
              "      border-top-color: var(--fill-color);\n",
              "      border-right-color: var(--fill-color);\n",
              "    }\n",
              "    40% {\n",
              "      border-color: transparent;\n",
              "      border-right-color: var(--fill-color);\n",
              "      border-top-color: var(--fill-color);\n",
              "    }\n",
              "    60% {\n",
              "      border-color: transparent;\n",
              "      border-right-color: var(--fill-color);\n",
              "    }\n",
              "    80% {\n",
              "      border-color: transparent;\n",
              "      border-right-color: var(--fill-color);\n",
              "      border-bottom-color: var(--fill-color);\n",
              "    }\n",
              "    90% {\n",
              "      border-color: transparent;\n",
              "      border-bottom-color: var(--fill-color);\n",
              "    }\n",
              "  }\n",
              "</style>\n",
              "\n",
              "  <script>\n",
              "    async function quickchart(key) {\n",
              "      const quickchartButtonEl =\n",
              "        document.querySelector('#' + key + ' button');\n",
              "      quickchartButtonEl.disabled = true;  // To prevent multiple clicks.\n",
              "      quickchartButtonEl.classList.add('colab-df-spinner');\n",
              "      try {\n",
              "        const charts = await google.colab.kernel.invokeFunction(\n",
              "            'suggestCharts', [key], {});\n",
              "      } catch (error) {\n",
              "        console.error('Error during call to suggestCharts:', error);\n",
              "      }\n",
              "      quickchartButtonEl.classList.remove('colab-df-spinner');\n",
              "      quickchartButtonEl.classList.add('colab-df-quickchart-complete');\n",
              "    }\n",
              "    (() => {\n",
              "      let quickchartButtonEl =\n",
              "        document.querySelector('#df-76b4f3a5-e0a2-4c75-9cad-cc6a59d71d08 button');\n",
              "      quickchartButtonEl.style.display =\n",
              "        google.colab.kernel.accessAllowed ? 'block' : 'none';\n",
              "    })();\n",
              "  </script>\n",
              "</div>\n",
              "\n",
              "    </div>\n",
              "  </div>\n"
            ],
            "application/vnd.google.colaboratory.intrinsic+json": {
              "type": "dataframe",
              "variable_name": "df1_test1",
              "summary": "{\n  \"name\": \"df1_test1\",\n  \"rows\": 32,\n  \"fields\": [\n    {\n      \"column\": \"sub_category\",\n      \"properties\": {\n        \"dtype\": \"category\",\n        \"num_unique_values\": 13,\n        \"samples\": [\n          \"EMail Phishing\",\n          \"Malware Attack\",\n          \"DebitCredit Card FraudSim Swap Fraud\"\n        ],\n        \"semantic_type\": \"\",\n        \"description\": \"\"\n      }\n    },\n    {\n      \"column\": \"crimeaditionalinfo\",\n      \"properties\": {\n        \"dtype\": \"string\",\n        \"num_unique_values\": 32,\n        \"samples\": [\n          \"Dear sir\\nMera name simarjeet pannu h meri Gmail pr  Id simarpannugmailcom simarpannugmailcom\\nYe dono Id  trik ko muje pta chla ki hack ho gyi h aur in dono Id PE mera personal photos attech h \\nAur mere ph pr ye dono me se koi bhi Id open nhi ho rhi maine  ko sp office kurukshetra me  compain kiya tha aaj  ko complain ke regarding muje call aaya aur unhone bola ki iske bare me online complain kro \\nPlz help me  because Mera personal data kisi aur ke pass h h \\nPlz action imidate \\nCall me at \",\n          \"Missing UPI idvenkatasubbareddyybl this not my UPI id Please help me for return my money i am send this UPI id to  rupees my UPI id is venkatasubareedyybl i am added extra b in the UPI id Please help mr\",\n          \"FRAUD THROUGH  Phone Pe\\t\\t\\nBANK  BANK OF BARODA \\nACCOUNT NUMBER  \\nTOTAL AMOUNT  \\nPLEASE HOLD REVERSE TOTAL AMOUNT IN THE COMPLAINT ACCOUNT AND TAKE NECESSARY ACTION\\n\\n\"\n        ],\n        \"semantic_type\": \"\",\n        \"description\": \"\"\n      }\n    }\n  ]\n}"
            }
          },
          "metadata": {},
          "execution_count": 57
        }
      ]
    },
    {
      "cell_type": "code",
      "source": [
        "df1_test1.crimeaditionalinfo[2]"
      ],
      "metadata": {
        "colab": {
          "base_uri": "https://localhost:8080/",
          "height": 140
        },
        "id": "1ef7P-kE6y4s",
        "outputId": "c4e9c319-240d-4773-bfbe-ee7e9cfe8740"
      },
      "execution_count": null,
      "outputs": [
        {
          "output_type": "execute_result",
          "data": {
            "text/plain": [
              "\"The issue actually started when I got this email, which at first glance seemed like spam. I usually ignore such things, but for some reason, I opened it this time. Afterward, my phone started freezing, and it wasn’t normal. I thought it was a technical glitch, but now I’m not so sure. I don't know how, but it’s like they knew everything I was doing, even though I was trying to be careful. It’s terrifying to think about. The more I tried to fix it, the more problems came up. My work account was hackd, and then I got locked out of everything. This has really left me anxious and frustrated, I can’t sleep knowing my information is out there. I’ve even considered deleting all my accounts, but that’s not a solution. Even my phone isn’t working right anymore. It’s so stange how everything just fell apart after that one email.\""
            ],
            "application/vnd.google.colaboratory.intrinsic+json": {
              "type": "string"
            }
          },
          "metadata": {},
          "execution_count": 58
        }
      ]
    },
    {
      "cell_type": "code",
      "source": [
        "data1=list(df1_test[\"category\"][:10])"
      ],
      "metadata": {
        "id": "F23kZzb06dFt"
      },
      "execution_count": null,
      "outputs": []
    },
    {
      "cell_type": "code",
      "source": [
        "from langchain_core.runnables import RunnableParallel, RunnablePassthrough\n",
        "from langchain_core.output_parsers import StrOutputParser\n",
        "from operator import itemgetter\n",
        "from langchain.schema.runnable import RunnableLambda\n",
        "\n",
        "parser = StrOutputParser()\n",
        "retriever=vectorstore2.as_retriever()\n",
        "import random\n",
        "\n",
        "def generate_label_subsets(labels, num_instances, num_incorrect_labels):\n",
        "    \"\"\"\n",
        "    Generate label subsets for each instance.\n",
        "\n",
        "    Args:\n",
        "    - labels (list): List of labels.\n",
        "    - num_instances (int): Number of instances.\n",
        "    - num_incorrect_labels (int): Number of incorrect labels per instance.\n",
        "\n",
        "    Returns:\n",
        "    - list: List of lists, each containing the correct label followed by a list of incorrect labels.\n",
        "    \"\"\"\n",
        "    label_subsets = []\n",
        "\n",
        "    for _ in range(num_instances):\n",
        "        correct_label = random.choice(labels)\n",
        "        incorrect_labels = random.sample([label for label in labels if label != correct_label], num_incorrect_labels)\n",
        "        subset = [correct_label] + incorrect_labels\n",
        "        random.shuffle(subset)  # Shuffle the subset\n",
        "        label_subsets.append(subset)\n",
        "\n",
        "    return label_subsets\n",
        "\n",
        "# Example usage\n",
        "labels =data1\n",
        "num_instances = len(data1)\n",
        "num_incorrect_labels = 3\n",
        "\n",
        "\n",
        "def create_list(*elements):\n",
        "    \"\"\"\n",
        "    Create a list from the given elements.\n",
        "\n",
        "    Args:\n",
        "        *elements: Variable number of elements to be added to the list.\n",
        "\n",
        "    Returns:\n",
        "        List containing the input elements.\n",
        "    \"\"\"\n",
        "    return list(elements)\n",
        "\n",
        "\n",
        "label_subsets = generate_label_subsets(labels, num_instances, num_incorrect_labels)\n",
        "for i in range(0,10):\n",
        "  chain = (\n",
        "    #{\"context\":retriever,\"data\":lambda x : [\"Paradoxical Commandments\",\"Creative Thoughts About A Challenging Life\",\"A Cozy Read filled with Wisdom\",\"Tap into Secret Wealth\"],\"question\": RunnablePassthrough() }\n",
        "     {\"context\":retriever,\"data\":lambda x :label_subsets[i],\"question\": RunnablePassthrough() }\n",
        "    # {\"context\":retriever,\"data\":{\"text1\":itemgetter(\"text1\"),\"text2\":itemgetter(\"text2\"),\"text3\":itemgetter(\"text3\"),\"text4\":itemgetter(\"text4\")}|RunnableLambda(create_list),\"question\": itemgetter(\"question\") }\n",
        "    #  {\"context\":retriever,\"data\":{\"text1\":\"Paradoxical Commandments\",\"text2\":\"Creative Thoughts About A Challenging Life\",\"text3\": \"A Cozy Read filled with Wisdom\",\"text4\":\"Tap into Secret Wealth\"}|RunnableLambda(create_list),\"question\": RunnablePassthrough() }\n",
        "    | prompt\n",
        "    | model\n",
        "    | parser )\n",
        "for i in range(10):\n",
        "  print (f\"Prediction{i}.{chain.invoke(str(df1_test1.iloc[i]))}\")\n",
        "  print (f\" Actual{i}.{df1_test['category'][i]}\")"
      ],
      "metadata": {
        "colab": {
          "base_uri": "https://localhost:8080/"
        },
        "id": "WtVGQSWs6g4z",
        "outputId": "a386aaae-97bd-4f8b-9656-14641a7040b6"
      },
      "execution_count": null,
      "outputs": [
        {
          "output_type": "stream",
          "name": "stdout",
          "text": [
            "Prediction0.Online Financial Fraud\n",
            " Actual0.RapeGang Rape RGRSexually Abusive Content\n",
            "Prediction1.Cyber Attack/ Dependent Crimes\n",
            " Actual1.Online Financial Fraud\n",
            "Prediction2.Online Financial Fraud\n",
            " Actual2.Cyber Attack/ Dependent Crimes\n",
            "Prediction3.Any Other Cyber Crime\n",
            " Actual3.Online Financial Fraud\n",
            "Prediction4.Online Financial Fraud\n",
            " Actual4.Any Other Cyber Crime\n",
            "Prediction5.Hacking  Damage to computercomputer system etc\n",
            " Actual5.Online Financial Fraud\n",
            "Prediction6.Online Financial Fraud\n",
            " Actual6.Hacking  Damage to computercomputer system etc\n",
            "Prediction7.Online Financial Fraud\n",
            " Actual7.Online Financial Fraud\n",
            "Prediction8.Online Financial Fraud\n",
            " Actual8.Online Financial Fraud\n",
            "Prediction9.Hacking  Damage to computercomputer system etc\n",
            " Actual9.Online Financial Fraud\n"
          ]
        }
      ]
    },
    {
      "cell_type": "code",
      "source": [
        "df['category'].value_counts()"
      ],
      "metadata": {
        "colab": {
          "base_uri": "https://localhost:8080/",
          "height": 460
        },
        "id": "qN7wg3fX3lmI",
        "outputId": "ef32486d-5a1a-4631-b490-5cf1ae595bad"
      },
      "execution_count": null,
      "outputs": [
        {
          "output_type": "execute_result",
          "data": {
            "text/plain": [
              "category\n",
              "Online Financial Fraud                            57416\n",
              "Online and Social Media Related Crime             12138\n",
              "Any Other Cyber Crime                             10877\n",
              "Cyber Attack/ Dependent Crimes                     3608\n",
              "Hacking  Damage to computercomputer system etc     1710\n",
              "Cryptocurrency Crime                                480\n",
              "Online Gambling  Betting                            444\n",
              "Online Cyber Trafficking                            183\n",
              "Cyber Terrorism                                     161\n",
              "Ransomware                                           56\n",
              "Report Unlawful Content                               1\n",
              "Name: count, dtype: int64"
            ],
            "text/html": [
              "<div>\n",
              "<style scoped>\n",
              "    .dataframe tbody tr th:only-of-type {\n",
              "        vertical-align: middle;\n",
              "    }\n",
              "\n",
              "    .dataframe tbody tr th {\n",
              "        vertical-align: top;\n",
              "    }\n",
              "\n",
              "    .dataframe thead th {\n",
              "        text-align: right;\n",
              "    }\n",
              "</style>\n",
              "<table border=\"1\" class=\"dataframe\">\n",
              "  <thead>\n",
              "    <tr style=\"text-align: right;\">\n",
              "      <th></th>\n",
              "      <th>count</th>\n",
              "    </tr>\n",
              "    <tr>\n",
              "      <th>category</th>\n",
              "      <th></th>\n",
              "    </tr>\n",
              "  </thead>\n",
              "  <tbody>\n",
              "    <tr>\n",
              "      <th>Online Financial Fraud</th>\n",
              "      <td>57416</td>\n",
              "    </tr>\n",
              "    <tr>\n",
              "      <th>Online and Social Media Related Crime</th>\n",
              "      <td>12138</td>\n",
              "    </tr>\n",
              "    <tr>\n",
              "      <th>Any Other Cyber Crime</th>\n",
              "      <td>10877</td>\n",
              "    </tr>\n",
              "    <tr>\n",
              "      <th>Cyber Attack/ Dependent Crimes</th>\n",
              "      <td>3608</td>\n",
              "    </tr>\n",
              "    <tr>\n",
              "      <th>Hacking  Damage to computercomputer system etc</th>\n",
              "      <td>1710</td>\n",
              "    </tr>\n",
              "    <tr>\n",
              "      <th>Cryptocurrency Crime</th>\n",
              "      <td>480</td>\n",
              "    </tr>\n",
              "    <tr>\n",
              "      <th>Online Gambling  Betting</th>\n",
              "      <td>444</td>\n",
              "    </tr>\n",
              "    <tr>\n",
              "      <th>Online Cyber Trafficking</th>\n",
              "      <td>183</td>\n",
              "    </tr>\n",
              "    <tr>\n",
              "      <th>Cyber Terrorism</th>\n",
              "      <td>161</td>\n",
              "    </tr>\n",
              "    <tr>\n",
              "      <th>Ransomware</th>\n",
              "      <td>56</td>\n",
              "    </tr>\n",
              "    <tr>\n",
              "      <th>Report Unlawful Content</th>\n",
              "      <td>1</td>\n",
              "    </tr>\n",
              "  </tbody>\n",
              "</table>\n",
              "</div><br><label><b>dtype:</b> int64</label>"
            ]
          },
          "metadata": {},
          "execution_count": 76
        }
      ]
    },
    {
      "cell_type": "markdown",
      "source": [
        "Testing with Single Datapoint"
      ],
      "metadata": {
        "id": "dCdMAuaqxXVX"
      }
    },
    {
      "cell_type": "code",
      "source": [
        "\n"
      ],
      "metadata": {
        "id": "A9ZVdyaT6oyD",
        "colab": {
          "base_uri": "https://localhost:8080/"
        },
        "outputId": "f27e838b-eef5-4b41-c26b-93b1aedf2898"
      },
      "execution_count": null,
      "outputs": [
        {
          "output_type": "stream",
          "name": "stdout",
          "text": [
            "Prediction: Any Other Cyber Crime\n",
            "Actual: fraud\n"
          ]
        }
      ]
    },
    {
      "cell_type": "markdown",
      "source": [
        "Testing with single datapoint"
      ],
      "metadata": {
        "id": "MObPg9YY2Ooe"
      }
    },
    {
      "cell_type": "code",
      "source": [
        "# Define the test data points and their actual categories\n",
        "test_data_points = [\n",
        "    {\"text\": \"Sample text 1\", \"category\": \"Expected category 1\"},\n",
        "    {\"text\": \"Sample text 2\", \"category\": \"Expected category 2\"},\n",
        "    # Add more test data points as needed\n",
        "]\n",
        "\n",
        "# Initialize a counter for correct predictions\n",
        "correct_predictions = 0\n",
        "\n",
        "# Iterate over each test data point\n",
        "for i, data_point in enumerate(test_data_points):\n",
        "    # Generate label subset for the current data point\n",
        "    label_subset = generate_label_subsets(labels, 1, num_incorrect_labels)[0]\n",
        "\n",
        "    # Create a chain for the current data point\n",
        "    single_chain = (\n",
        "        {\"context\": retriever, \"data\": lambda x: label_subset, \"question\": RunnablePassthrough()}\n",
        "        | prompt\n",
        "        | model\n",
        "        | parser\n",
        "    )\n",
        "\n",
        "    # Run the chain and get the prediction\n",
        "    prediction = single_chain.invoke(str(data_point[\"text\"]))\n",
        "\n",
        "    # Compare prediction with the actual category\n",
        "    is_correct = prediction.strip().lower() == data_point[\"category\"].strip().lower()\n",
        "    if is_correct:\n",
        "        correct_predictions += 1  # Increment if prediction is correct\n",
        "\n",
        "    print(f\"Test Data {i+1} - Prediction: {prediction}, Actual: {data_point['category']}, Correct: {is_correct}\")\n",
        "\n",
        "# Calculate accuracy\n",
        "total_predictions = len(df_test)\n",
        "accuracy = (correct_predictions / total_predictions) * 100\n",
        "print(f\"Accuracy: {accuracy}%\")\n"
      ],
      "metadata": {
        "id": "R0eyQPYqv0y7"
      },
      "execution_count": null,
      "outputs": []
    },
    {
      "cell_type": "markdown",
      "source": [
        "Finding the **accuracy**"
      ],
      "metadata": {
        "id": "J37L4gYxxwj3"
      }
    },
    {
      "cell_type": "code",
      "source": [
        "import pandas as pd\n",
        "\n",
        "# Load the CSV file\n",
        "df_test = pd.read_csv(\"/content/10test.csv\")  # Replace \"test_data.csv\" with your actual CSV file path\n",
        "\n",
        "# Initialize a counter for correct predictions\n",
        "correct_predictions = 0\n",
        "\n",
        "# Define the number of incorrect labels for each instance\n",
        "num_incorrect_labels = 3\n",
        "\n",
        "# Loop through each row in the DataFrame\n",
        "for index, row in df_test.iterrows():\n",
        "    text = row[\"category\"]  # Replace with the actual text column name\n",
        "    actual_category = row[\"category\"]  # Replace with the actual category column name\n",
        "\n",
        "    # Generate a label subset for this instance\n",
        "    label_subset = generate_label_subsets(labels, 1, num_incorrect_labels)[0]\n",
        "\n",
        "    # Create and run the chain\n",
        "    single_chain = (\n",
        "        {\"context\": retriever, \"data\": lambda x: label_subset, \"question\": RunnablePassthrough()}\n",
        "        | prompt\n",
        "        | model\n",
        "        | parser\n",
        "    )\n",
        "\n",
        "    # Get the prediction\n",
        "    prediction = single_chain.invoke(str(text)).strip()\n",
        "\n",
        "    # Check if the prediction matches the actual category\n",
        "    if prediction.lower() == actual_category.strip().lower():\n",
        "        correct_predictions += 1  # Increment correct count if prediction matches\n",
        "\n",
        "    print(f\"Row {index+1} - Prediction: {prediction}, Actual: {actual_category}, Correct: {prediction.lower() == actual_category.strip().lower()}\")\n",
        "\n",
        "# Calculate accuracy\n",
        "total_predictions = len(df_test)\n",
        "accuracy = (correct_predictions / total_predictions) * 100\n",
        "print(f\"Accuracy: {accuracy}%\")\n"
      ],
      "metadata": {
        "colab": {
          "base_uri": "https://localhost:8080/"
        },
        "id": "Ee9eRwhXx9LQ",
        "outputId": "f0adfd35-1feb-49b3-b7be-ef07302849e6"
      },
      "execution_count": null,
      "outputs": [
        {
          "output_type": "stream",
          "name": "stdout",
          "text": [
            "Row 1 - Prediction: None, Actual: RapeGang Rape RGRSexually Abusive Content, Correct: False\n",
            "Row 2 - Prediction: Online Financial Fraud, Actual: Online Financial Fraud, Correct: True\n",
            "Row 3 - Prediction: Cyber Attack/ Dependent Crimes, Actual: Cyber Attack/ Dependent Crimes, Correct: True\n",
            "Row 4 - Prediction: Online Financial Fraud, Actual: Online Financial Fraud, Correct: True\n",
            "Row 5 - Prediction: Any Other Cyber Crime, Actual: Any Other Cyber Crime, Correct: True\n",
            "Row 6 - Prediction: Online Financial Fraud, Actual: Online Financial Fraud, Correct: True\n",
            "Row 7 - Prediction: Hacking  Damage to computercomputer system etc, Actual: Hacking  Damage to computercomputer system etc, Correct: True\n",
            "Row 8 - Prediction: Online Financial Fraud, Actual: Online Financial Fraud, Correct: True\n",
            "Row 9 - Prediction: Online Financial Fraud, Actual: Online Financial Fraud, Correct: True\n",
            "Row 10 - Prediction: Online Financial Fraud, Actual: Online Financial Fraud, Correct: True\n",
            "Row 11 - Prediction: RapeGang Rape RGRSexually Abusive Content, Actual: Sexually Explicit Act, Correct: False\n",
            "Row 12 - Prediction: Cyber Attack/ Dependent Crimes, Actual: Hacking  Damage to computercomputer system etc, Correct: False\n",
            "Row 13 - Prediction: RapeGang Rape RGRSexually Abusive Content, Actual: Sexually Obscene material, Correct: False\n",
            "Row 14 - Prediction: Online Financial Fraud, Actual: Online Financial Fraud, Correct: True\n",
            "Row 15 - Prediction: Online Financial Fraud, Actual: Online Financial Fraud, Correct: True\n",
            "Row 16 - Prediction: Online Financial Fraud, Actual: Online Financial Fraud, Correct: True\n",
            "Row 17 - Prediction: Online Financial Fraud, Actual: Online and Social Media Related Crime, Correct: False\n",
            "Row 18 - Prediction: Online Financial Fraud, Actual: Online Financial Fraud, Correct: True\n",
            "Row 19 - Prediction: Any Other Cyber Crime, Actual: Any Other Cyber Crime, Correct: True\n",
            "Row 20 - Prediction: Online Financial Fraud, Actual: Online Financial Fraud, Correct: True\n",
            "Row 21 - Prediction: Online Financial Fraud, Actual: Online Financial Fraud, Correct: True\n",
            "Row 22 - Prediction: Online Financial Fraud, Actual: Online Financial Fraud, Correct: True\n",
            "Row 23 - Prediction: Online Financial Fraud, Actual: Online Financial Fraud, Correct: True\n",
            "Row 24 - Prediction: Online Financial Fraud, Actual: Online Financial Fraud, Correct: True\n",
            "Row 25 - Prediction: Any Other Cyber Crime, Actual: Any Other Cyber Crime, Correct: True\n",
            "Row 26 - Prediction: RapeGang Rape RGRSexually Abusive Content, Actual: Child Pornography CPChild Sexual Abuse Material CSAM, Correct: False\n",
            "Row 27 - Prediction: Any Other Cyber Crime, Actual: Any Other Cyber Crime, Correct: True\n",
            "Row 28 - Prediction: Any Other Cyber Crime, Actual: Cyber Attack/ Dependent Crimes, Correct: False\n",
            "Row 29 - Prediction: Online Financial Fraud, Actual: Online Financial Fraud, Correct: True\n",
            "Row 30 - Prediction: Online Financial Fraud, Actual: Online Financial Fraud, Correct: True\n",
            "Row 31 - Prediction: Online Financial Fraud, Actual: Online Financial Fraud, Correct: True\n",
            "Row 32 - Prediction: Cyber Attack/ Dependent Crimes, Actual: Cyber Attack/ Dependent Crimes, Correct: True\n",
            "Row 33 - Prediction: Online Financial Fraud, Actual: Online Financial Fraud, Correct: True\n",
            "Row 34 - Prediction: Online Financial Fraud, Actual: Online and Social Media Related Crime, Correct: False\n",
            "Row 35 - Prediction: Online Financial Fraud, Actual: Online and Social Media Related Crime, Correct: False\n",
            "Row 36 - Prediction: Online Financial Fraud, Actual: Online and Social Media Related Crime, Correct: False\n",
            "Accuracy: 72.22222222222221%\n"
          ]
        }
      ]
    },
    {
      "cell_type": "code",
      "source": [
        "labels = df['category'].values"
      ],
      "metadata": {
        "id": "Aso9qOEc4mPI"
      },
      "execution_count": null,
      "outputs": []
    },
    {
      "cell_type": "markdown",
      "source": [
        "calculating accuracy, precision, recall, confusion matrix,classification report"
      ],
      "metadata": {
        "id": "CJSJ_7G07adT"
      }
    },
    {
      "cell_type": "code",
      "source": [
        "import pandas as pd\n",
        "from sklearn.metrics import accuracy_score, precision_score, recall_score, f1_score, confusion_matrix, roc_auc_score\n",
        "\n",
        "# Load the CSV file\n",
        "df_test = pd.read_csv(\"/content/10test.csv\")  # Replace \"/content/10test.csv\" with your actual CSV file path\n",
        "\n",
        "# List of possible labels (update this with your actual labels)\n",
        "# labels = [...]  # Populate with your actual labels\n",
        "labels = df['category'].values\n",
        "\n",
        "# Define the number of incorrect labels for each instance\n",
        "num_incorrect_labels = 3\n",
        "\n",
        "# Initialize lists to store true and predicted labels\n",
        "y_true = []\n",
        "y_pred = []\n",
        "\n",
        "# Loop through each row in the DataFrame\n",
        "for index, row in df_test.iterrows():\n",
        "    text = row[\"category\"]  # Replace with the actual text column name\n",
        "    actual_category = row[\"category\"]  # Replace with the actual category column name\n",
        "    y_true.append(actual_category)  # Append the actual category to y_true\n",
        "\n",
        "    # Generate a label subset for this instance\n",
        "    label_subset = generate_label_subsets(labels, 1, num_incorrect_labels)[0]\n",
        "\n",
        "    # Create and run the chain\n",
        "    single_chain = (\n",
        "        {\"context\": retriever, \"data\": lambda x: label_subset, \"question\": RunnablePassthrough()}\n",
        "        | prompt\n",
        "        | model\n",
        "        | parser\n",
        "    )\n",
        "\n",
        "    # Get the prediction\n",
        "    try:\n",
        "        prediction = single_chain.invoke(str(text)).strip()\n",
        "    except Exception as e:\n",
        "        print(f\"Error in prediction for row {index+1}: {e}\")\n",
        "        prediction = \"\"\n",
        "\n",
        "    y_pred.append(prediction)  # Append the prediction to y_pred\n",
        "\n",
        "# Calculate evaluation metrics\n",
        "accuracy = accuracy_score(y_true, y_pred)\n",
        "precision = precision_score(y_true, y_pred, average='weighted')  # Adjust `average` if needed\n",
        "recall = recall_score(y_true, y_pred, average='weighted')\n",
        "f1 = f1_score(y_true, y_pred, average='weighted')\n",
        "conf_matrix = confusion_matrix(y_true, y_pred)\n",
        "\n",
        "# Display results\n",
        "print(f\"Accuracy: {accuracy}\")\n",
        "print(f\"Precision: {precision}\")\n",
        "print(f\"Recall: {recall}\")\n",
        "print(f\"F1 Score: {f1}\")\n",
        "print(\"Confusion Matrix:\")\n",
        "print(conf_matrix)\n",
        "\n",
        "# For ROC-AUC (only for binary classification cases)\n",
        "if len(set(y_true)) == 2:\n",
        "    # y_pred_proba would need to be generated by the model, representing probability of each class\n",
        "    # Assuming y_pred_proba is available\n",
        "    roc_auc = roc_auc_score(y_true, y_pred_proba[:, 1])  # Assuming `y_pred_proba` is the probability of positive class\n",
        "    show(f\"ROC-AUC Score: {roc_auc}\")\n",
        "\n"
      ],
      "metadata": {
        "colab": {
          "base_uri": "https://localhost:8080/"
        },
        "id": "LizqQ9m1ytDr",
        "outputId": "ea0c8e93-f81e-4241-e28b-b17e00e71669"
      },
      "execution_count": null,
      "outputs": [
        {
          "output_type": "stream",
          "name": "stdout",
          "text": [
            "Accuracy: 0.7222222222222222\n",
            "Precision: 0.6087962962962963\n",
            "Recall: 0.7222222222222222\n",
            "F1 Score: 0.6507529507529507\n",
            "Confusion Matrix:\n",
            "[[ 3  0  0  0  1  0  0  0  0]\n",
            " [ 0  0  0  0  0  1  0  0  0]\n",
            " [ 3  0  0  0  0  0  0  0  0]\n",
            " [ 2  0  0  0  0  0  0  0  0]\n",
            " [ 0  0  0  0 19  0  0  0  0]\n",
            " [ 0  0  0  0  0  4  0  0  0]\n",
            " [ 1  0  0  0  0  0  0  0  0]\n",
            " [ 1  0  0  0  0  0  0  0  0]\n",
            " [ 0  0  0  0  0  1  0  0  0]]\n"
          ]
        },
        {
          "output_type": "stream",
          "name": "stderr",
          "text": [
            "/usr/local/lib/python3.10/dist-packages/sklearn/metrics/_classification.py:1531: UndefinedMetricWarning: Precision is ill-defined and being set to 0.0 in labels with no predicted samples. Use `zero_division` parameter to control this behavior.\n",
            "  _warn_prf(average, modifier, f\"{metric.capitalize()} is\", len(result))\n"
          ]
        }
      ]
    },
    {
      "cell_type": "markdown",
      "source": [
        "# Predicting the sub-category"
      ],
      "metadata": {
        "id": "anOBt1BG8mi1"
      }
    },
    {
      "cell_type": "code",
      "source": [
        "from langchain.prompts import ChatPromptTemplate\n",
        "\n",
        "template1 = \"\"\"\n",
        "Given the crime data and corresponding category and sub_category in the user context {context}, your task is to select the most relevant sub_category from the provided {data} based on the crimedata. Provide only the selected sub_category as the output. Context: {context}\n",
        "\n",
        "Question: {question}\n",
        "\"\"\"\n",
        "\n",
        "prompt1 = ChatPromptTemplate.from_template(template1)"
      ],
      "metadata": {
        "id": "n51WlGiW5hk_"
      },
      "execution_count": 5,
      "outputs": []
    },
    {
      "cell_type": "code",
      "source": [
        "import pandas as pd\n",
        "dfs=pd.read_csv(\"/content/drive/MyDrive/cyberguard_hackathon/train.csv\")\n",
        "#df1=df[[\"title\",\"text\",\"Target_Title\"]]\n",
        "# df1=df.rename(columns={\"Target_Title\":\"Book Title\"})\n",
        "dfs.head()"
      ],
      "metadata": {
        "colab": {
          "base_uri": "https://localhost:8080/",
          "height": 206
        },
        "id": "qbwZbPLB8-Be",
        "outputId": "8095843e-70fc-4a82-caa8-263a3178dc14"
      },
      "execution_count": 6,
      "outputs": [
        {
          "output_type": "execute_result",
          "data": {
            "text/plain": [
              "                                category                       sub_category  \\\n",
              "0  Online and Social Media Related Crime  Cyber Bullying  Stalking  Sexting   \n",
              "1                 Online Financial Fraud                  Fraud CallVishing   \n",
              "2               Online Gambling  Betting           Online Gambling  Betting   \n",
              "3  Online and Social Media Related Crime                   Online Job Fraud   \n",
              "4                 Online Financial Fraud                  Fraud CallVishing   \n",
              "\n",
              "                                  crimeaditionalinfo  \n",
              "0  I had continue received random calls and abusi...  \n",
              "1  The above fraudster is continuously messaging ...  \n",
              "2  He is acting like a police and demanding for m...  \n",
              "3  In apna Job I have applied for job interview f...  \n",
              "4  I received a call from lady stating that she w...  "
            ],
            "text/html": [
              "\n",
              "  <div id=\"df-30077d7f-67ca-4866-9a47-43009e622cff\" class=\"colab-df-container\">\n",
              "    <div>\n",
              "<style scoped>\n",
              "    .dataframe tbody tr th:only-of-type {\n",
              "        vertical-align: middle;\n",
              "    }\n",
              "\n",
              "    .dataframe tbody tr th {\n",
              "        vertical-align: top;\n",
              "    }\n",
              "\n",
              "    .dataframe thead th {\n",
              "        text-align: right;\n",
              "    }\n",
              "</style>\n",
              "<table border=\"1\" class=\"dataframe\">\n",
              "  <thead>\n",
              "    <tr style=\"text-align: right;\">\n",
              "      <th></th>\n",
              "      <th>category</th>\n",
              "      <th>sub_category</th>\n",
              "      <th>crimeaditionalinfo</th>\n",
              "    </tr>\n",
              "  </thead>\n",
              "  <tbody>\n",
              "    <tr>\n",
              "      <th>0</th>\n",
              "      <td>Online and Social Media Related Crime</td>\n",
              "      <td>Cyber Bullying  Stalking  Sexting</td>\n",
              "      <td>I had continue received random calls and abusi...</td>\n",
              "    </tr>\n",
              "    <tr>\n",
              "      <th>1</th>\n",
              "      <td>Online Financial Fraud</td>\n",
              "      <td>Fraud CallVishing</td>\n",
              "      <td>The above fraudster is continuously messaging ...</td>\n",
              "    </tr>\n",
              "    <tr>\n",
              "      <th>2</th>\n",
              "      <td>Online Gambling  Betting</td>\n",
              "      <td>Online Gambling  Betting</td>\n",
              "      <td>He is acting like a police and demanding for m...</td>\n",
              "    </tr>\n",
              "    <tr>\n",
              "      <th>3</th>\n",
              "      <td>Online and Social Media Related Crime</td>\n",
              "      <td>Online Job Fraud</td>\n",
              "      <td>In apna Job I have applied for job interview f...</td>\n",
              "    </tr>\n",
              "    <tr>\n",
              "      <th>4</th>\n",
              "      <td>Online Financial Fraud</td>\n",
              "      <td>Fraud CallVishing</td>\n",
              "      <td>I received a call from lady stating that she w...</td>\n",
              "    </tr>\n",
              "  </tbody>\n",
              "</table>\n",
              "</div>\n",
              "    <div class=\"colab-df-buttons\">\n",
              "\n",
              "  <div class=\"colab-df-container\">\n",
              "    <button class=\"colab-df-convert\" onclick=\"convertToInteractive('df-30077d7f-67ca-4866-9a47-43009e622cff')\"\n",
              "            title=\"Convert this dataframe to an interactive table.\"\n",
              "            style=\"display:none;\">\n",
              "\n",
              "  <svg xmlns=\"http://www.w3.org/2000/svg\" height=\"24px\" viewBox=\"0 -960 960 960\">\n",
              "    <path d=\"M120-120v-720h720v720H120Zm60-500h600v-160H180v160Zm220 220h160v-160H400v160Zm0 220h160v-160H400v160ZM180-400h160v-160H180v160Zm440 0h160v-160H620v160ZM180-180h160v-160H180v160Zm440 0h160v-160H620v160Z\"/>\n",
              "  </svg>\n",
              "    </button>\n",
              "\n",
              "  <style>\n",
              "    .colab-df-container {\n",
              "      display:flex;\n",
              "      gap: 12px;\n",
              "    }\n",
              "\n",
              "    .colab-df-convert {\n",
              "      background-color: #E8F0FE;\n",
              "      border: none;\n",
              "      border-radius: 50%;\n",
              "      cursor: pointer;\n",
              "      display: none;\n",
              "      fill: #1967D2;\n",
              "      height: 32px;\n",
              "      padding: 0 0 0 0;\n",
              "      width: 32px;\n",
              "    }\n",
              "\n",
              "    .colab-df-convert:hover {\n",
              "      background-color: #E2EBFA;\n",
              "      box-shadow: 0px 1px 2px rgba(60, 64, 67, 0.3), 0px 1px 3px 1px rgba(60, 64, 67, 0.15);\n",
              "      fill: #174EA6;\n",
              "    }\n",
              "\n",
              "    .colab-df-buttons div {\n",
              "      margin-bottom: 4px;\n",
              "    }\n",
              "\n",
              "    [theme=dark] .colab-df-convert {\n",
              "      background-color: #3B4455;\n",
              "      fill: #D2E3FC;\n",
              "    }\n",
              "\n",
              "    [theme=dark] .colab-df-convert:hover {\n",
              "      background-color: #434B5C;\n",
              "      box-shadow: 0px 1px 3px 1px rgba(0, 0, 0, 0.15);\n",
              "      filter: drop-shadow(0px 1px 2px rgba(0, 0, 0, 0.3));\n",
              "      fill: #FFFFFF;\n",
              "    }\n",
              "  </style>\n",
              "\n",
              "    <script>\n",
              "      const buttonEl =\n",
              "        document.querySelector('#df-30077d7f-67ca-4866-9a47-43009e622cff button.colab-df-convert');\n",
              "      buttonEl.style.display =\n",
              "        google.colab.kernel.accessAllowed ? 'block' : 'none';\n",
              "\n",
              "      async function convertToInteractive(key) {\n",
              "        const element = document.querySelector('#df-30077d7f-67ca-4866-9a47-43009e622cff');\n",
              "        const dataTable =\n",
              "          await google.colab.kernel.invokeFunction('convertToInteractive',\n",
              "                                                    [key], {});\n",
              "        if (!dataTable) return;\n",
              "\n",
              "        const docLinkHtml = 'Like what you see? Visit the ' +\n",
              "          '<a target=\"_blank\" href=https://colab.research.google.com/notebooks/data_table.ipynb>data table notebook</a>'\n",
              "          + ' to learn more about interactive tables.';\n",
              "        element.innerHTML = '';\n",
              "        dataTable['output_type'] = 'display_data';\n",
              "        await google.colab.output.renderOutput(dataTable, element);\n",
              "        const docLink = document.createElement('div');\n",
              "        docLink.innerHTML = docLinkHtml;\n",
              "        element.appendChild(docLink);\n",
              "      }\n",
              "    </script>\n",
              "  </div>\n",
              "\n",
              "\n",
              "<div id=\"df-defe14c6-cd42-46b5-971f-9f8edb430624\">\n",
              "  <button class=\"colab-df-quickchart\" onclick=\"quickchart('df-defe14c6-cd42-46b5-971f-9f8edb430624')\"\n",
              "            title=\"Suggest charts\"\n",
              "            style=\"display:none;\">\n",
              "\n",
              "<svg xmlns=\"http://www.w3.org/2000/svg\" height=\"24px\"viewBox=\"0 0 24 24\"\n",
              "     width=\"24px\">\n",
              "    <g>\n",
              "        <path d=\"M19 3H5c-1.1 0-2 .9-2 2v14c0 1.1.9 2 2 2h14c1.1 0 2-.9 2-2V5c0-1.1-.9-2-2-2zM9 17H7v-7h2v7zm4 0h-2V7h2v10zm4 0h-2v-4h2v4z\"/>\n",
              "    </g>\n",
              "</svg>\n",
              "  </button>\n",
              "\n",
              "<style>\n",
              "  .colab-df-quickchart {\n",
              "      --bg-color: #E8F0FE;\n",
              "      --fill-color: #1967D2;\n",
              "      --hover-bg-color: #E2EBFA;\n",
              "      --hover-fill-color: #174EA6;\n",
              "      --disabled-fill-color: #AAA;\n",
              "      --disabled-bg-color: #DDD;\n",
              "  }\n",
              "\n",
              "  [theme=dark] .colab-df-quickchart {\n",
              "      --bg-color: #3B4455;\n",
              "      --fill-color: #D2E3FC;\n",
              "      --hover-bg-color: #434B5C;\n",
              "      --hover-fill-color: #FFFFFF;\n",
              "      --disabled-bg-color: #3B4455;\n",
              "      --disabled-fill-color: #666;\n",
              "  }\n",
              "\n",
              "  .colab-df-quickchart {\n",
              "    background-color: var(--bg-color);\n",
              "    border: none;\n",
              "    border-radius: 50%;\n",
              "    cursor: pointer;\n",
              "    display: none;\n",
              "    fill: var(--fill-color);\n",
              "    height: 32px;\n",
              "    padding: 0;\n",
              "    width: 32px;\n",
              "  }\n",
              "\n",
              "  .colab-df-quickchart:hover {\n",
              "    background-color: var(--hover-bg-color);\n",
              "    box-shadow: 0 1px 2px rgba(60, 64, 67, 0.3), 0 1px 3px 1px rgba(60, 64, 67, 0.15);\n",
              "    fill: var(--button-hover-fill-color);\n",
              "  }\n",
              "\n",
              "  .colab-df-quickchart-complete:disabled,\n",
              "  .colab-df-quickchart-complete:disabled:hover {\n",
              "    background-color: var(--disabled-bg-color);\n",
              "    fill: var(--disabled-fill-color);\n",
              "    box-shadow: none;\n",
              "  }\n",
              "\n",
              "  .colab-df-spinner {\n",
              "    border: 2px solid var(--fill-color);\n",
              "    border-color: transparent;\n",
              "    border-bottom-color: var(--fill-color);\n",
              "    animation:\n",
              "      spin 1s steps(1) infinite;\n",
              "  }\n",
              "\n",
              "  @keyframes spin {\n",
              "    0% {\n",
              "      border-color: transparent;\n",
              "      border-bottom-color: var(--fill-color);\n",
              "      border-left-color: var(--fill-color);\n",
              "    }\n",
              "    20% {\n",
              "      border-color: transparent;\n",
              "      border-left-color: var(--fill-color);\n",
              "      border-top-color: var(--fill-color);\n",
              "    }\n",
              "    30% {\n",
              "      border-color: transparent;\n",
              "      border-left-color: var(--fill-color);\n",
              "      border-top-color: var(--fill-color);\n",
              "      border-right-color: var(--fill-color);\n",
              "    }\n",
              "    40% {\n",
              "      border-color: transparent;\n",
              "      border-right-color: var(--fill-color);\n",
              "      border-top-color: var(--fill-color);\n",
              "    }\n",
              "    60% {\n",
              "      border-color: transparent;\n",
              "      border-right-color: var(--fill-color);\n",
              "    }\n",
              "    80% {\n",
              "      border-color: transparent;\n",
              "      border-right-color: var(--fill-color);\n",
              "      border-bottom-color: var(--fill-color);\n",
              "    }\n",
              "    90% {\n",
              "      border-color: transparent;\n",
              "      border-bottom-color: var(--fill-color);\n",
              "    }\n",
              "  }\n",
              "</style>\n",
              "\n",
              "  <script>\n",
              "    async function quickchart(key) {\n",
              "      const quickchartButtonEl =\n",
              "        document.querySelector('#' + key + ' button');\n",
              "      quickchartButtonEl.disabled = true;  // To prevent multiple clicks.\n",
              "      quickchartButtonEl.classList.add('colab-df-spinner');\n",
              "      try {\n",
              "        const charts = await google.colab.kernel.invokeFunction(\n",
              "            'suggestCharts', [key], {});\n",
              "      } catch (error) {\n",
              "        console.error('Error during call to suggestCharts:', error);\n",
              "      }\n",
              "      quickchartButtonEl.classList.remove('colab-df-spinner');\n",
              "      quickchartButtonEl.classList.add('colab-df-quickchart-complete');\n",
              "    }\n",
              "    (() => {\n",
              "      let quickchartButtonEl =\n",
              "        document.querySelector('#df-defe14c6-cd42-46b5-971f-9f8edb430624 button');\n",
              "      quickchartButtonEl.style.display =\n",
              "        google.colab.kernel.accessAllowed ? 'block' : 'none';\n",
              "    })();\n",
              "  </script>\n",
              "</div>\n",
              "\n",
              "    </div>\n",
              "  </div>\n"
            ],
            "application/vnd.google.colaboratory.intrinsic+json": {
              "type": "dataframe",
              "variable_name": "dfs",
              "summary": "{\n  \"name\": \"dfs\",\n  \"rows\": 93686,\n  \"fields\": [\n    {\n      \"column\": \"category\",\n      \"properties\": {\n        \"dtype\": \"category\",\n        \"num_unique_values\": 15,\n        \"samples\": [\n          \"Hacking  Damage to computercomputer system etc\",\n          \"Child Pornography CPChild Sexual Abuse Material CSAM\",\n          \"Online and Social Media Related Crime\"\n        ],\n        \"semantic_type\": \"\",\n        \"description\": \"\"\n      }\n    },\n    {\n      \"column\": \"sub_category\",\n      \"properties\": {\n        \"dtype\": \"category\",\n        \"num_unique_values\": 35,\n        \"samples\": [\n          \"Online Trafficking\",\n          \"FakeImpersonating Profile\",\n          \"Tampering with computer source documents\"\n        ],\n        \"semantic_type\": \"\",\n        \"description\": \"\"\n      }\n    },\n    {\n      \"column\": \"crimeaditionalinfo\",\n      \"properties\": {\n        \"dtype\": \"string\",\n        \"num_unique_values\": 85013,\n        \"samples\": [\n          \"I got a call from this unknown number and the person was asking about GPAY and transfer  k to his friend I have disconnected the call and not paid any amount I have also called to  to report the same I have blocked the number as of now but i am sure it was fraudulent and malicious call\",\n          \"My friend mentioned something like this happened to them a few months ago, but I thought it was a one-off. Then, suddenly, I got this weird notification asking me to update my password, but the message didn\\u2019t look like the usual ones I receive from the app. It looked a bit off. It\\u2019s hard to explain, but it felt like someone was inside my account, doing things while I wasn\\u2019t even online. The more I tried to fix it, the more problems came up. My social media was notifiction, and then I got locked out of everything. The worst part is, I don\\u2019t even know who to trust anymore. Friends, family, everyone\\u2019s acting strange. It\\u2019s affecting my relationships and my mental health. Even my phone isn\\u2019t working right anymore. It\\u2019s so stange how everything just fell apart after that one email.\",\n          \"\\r\\nTHEY FRAUD ME IN THE NAME OF INDIAN ARMY OFFICERS VIA PHONEPE TRANSACTIONS FARUD CALLING FROM BELOW GIVEN NUMBER    FRAUD AMOUNT \\r\\n \\r\\n\"\n        ],\n        \"semantic_type\": \"\",\n        \"description\": \"\"\n      }\n    }\n  ]\n}"
            }
          },
          "metadata": {},
          "execution_count": 6
        }
      ]
    },
    {
      "cell_type": "code",
      "source": [
        "# Check for missing values in each column\n",
        "print(dfs.isnull().sum())"
      ],
      "metadata": {
        "colab": {
          "base_uri": "https://localhost:8080/"
        },
        "id": "hR6PR7ZG9Ip2",
        "outputId": "10c26b70-366b-41ea-9730-7987e0a06a30"
      },
      "execution_count": 7,
      "outputs": [
        {
          "output_type": "stream",
          "name": "stdout",
          "text": [
            "category                 0\n",
            "sub_category          6591\n",
            "crimeaditionalinfo      21\n",
            "dtype: int64\n"
          ]
        }
      ]
    },
    {
      "cell_type": "code",
      "source": [
        "dfs.dropna(inplace=True)"
      ],
      "metadata": {
        "id": "HXGo7qcZ9NXO"
      },
      "execution_count": 8,
      "outputs": []
    },
    {
      "cell_type": "code",
      "source": [
        "# Check for missing values in each column\n",
        "print(dfs.isnull().sum())"
      ],
      "metadata": {
        "colab": {
          "base_uri": "https://localhost:8080/"
        },
        "id": "3SVr_CEW9SC1",
        "outputId": "97a15724-6f16-45d8-e382-d47b4e6a967a"
      },
      "execution_count": 9,
      "outputs": [
        {
          "output_type": "stream",
          "name": "stdout",
          "text": [
            "category              0\n",
            "sub_category          0\n",
            "crimeaditionalinfo    0\n",
            "dtype: int64\n"
          ]
        }
      ]
    },
    {
      "cell_type": "markdown",
      "source": [
        "Preprocessing the text column"
      ],
      "metadata": {
        "id": "OYFFI-NU9YNI"
      }
    },
    {
      "cell_type": "code",
      "source": [
        "# prompt: Using dataframe df: do the preprocess on the crimeaditionalinfo column\n",
        "\n",
        "import re\n",
        "\n",
        "# Function to preprocess the text\n",
        "def preprocess_text(text):\n",
        "    if not isinstance(text, str):\n",
        "        return \"\"  # Handle non-string values\n",
        "\n",
        "    # Convert to lowercase\n",
        "    text = text.lower()\n",
        "\n",
        "    # Remove special characters and numbers\n",
        "    text = re.sub(r'[^a-zA-Z\\s]', '', text)\n",
        "\n",
        "    # Remove extra whitespace\n",
        "    text = ' '.join(text.split())\n",
        "\n",
        "    return text\n",
        "\n",
        "# Apply the preprocessing function to the 'crimeaditionalinfo' column\n",
        "dfs['crimeaditionalinfo'] = dfs['crimeaditionalinfo'].apply(preprocess_text)"
      ],
      "metadata": {
        "id": "ckGm6xvz9SbF"
      },
      "execution_count": 10,
      "outputs": []
    },
    {
      "cell_type": "code",
      "source": [
        "from langchain_community.document_loaders.csv_loader import CSVLoader\n",
        "loader = CSVLoader(file_path=\"/content/drive/MyDrive/cyberguard_hackathon/train.csv\", csv_args={\n",
        "    'delimiter': ',',\n",
        "    'quotechar': '\"',\n",
        "    'fieldnames': ['category', 'sub_category', 'crimeaditionalinfo']\n",
        "})\n",
        "#loader = CSVLoader(\"/content/drive/MyDrive/Colab Notebooks/RAG/filtered_train\")\n",
        "text_documents1 = loader.load()\n",
        "text_documents1[:10]"
      ],
      "metadata": {
        "colab": {
          "base_uri": "https://localhost:8080/"
        },
        "id": "9x-X5me59c2l",
        "outputId": "2979e639-81f6-4218-8633-3fddb64f61e7"
      },
      "execution_count": 11,
      "outputs": [
        {
          "output_type": "execute_result",
          "data": {
            "text/plain": [
              "[Document(metadata={'source': '/content/drive/MyDrive/cyberguard_hackathon/train.csv', 'row': 0}, page_content='category: category\\nsub_category: sub_category\\ncrimeaditionalinfo: crimeaditionalinfo'),\n",
              " Document(metadata={'source': '/content/drive/MyDrive/cyberguard_hackathon/train.csv', 'row': 1}, page_content='category: Online and Social Media Related Crime\\nsub_category: Cyber Bullying  Stalking  Sexting\\ncrimeaditionalinfo: I had continue received random calls and abusive messages in my whatsapp Someone added my number in a unknown facebook group name with  Only Girls  and still getting calls from unknown numbers pls help me and sort out the issue  as soon as possible Thank you'),\n",
              " Document(metadata={'source': '/content/drive/MyDrive/cyberguard_hackathon/train.csv', 'row': 2}, page_content='category: Online Financial Fraud\\nsub_category: Fraud CallVishing\\ncrimeaditionalinfo: The above fraudster is continuously messaging me and Asking me to pay him money or he will send fake  cropped nude photos of me to my other contacts through WhatsApp\\r\\n\\r\\nI am unaware how he has recieved my contacts list from my phone\\r\\n\\r\\nPlease help'),\n",
              " Document(metadata={'source': '/content/drive/MyDrive/cyberguard_hackathon/train.csv', 'row': 3}, page_content='category: Online Gambling  Betting\\nsub_category: Online Gambling  Betting\\ncrimeaditionalinfo: He is acting like a police and demanding for money by adding sections in the text messages \\r\\nI request you to take an immediate action on him Frequently he is harassing with these messages For reference please find attached files'),\n",
              " Document(metadata={'source': '/content/drive/MyDrive/cyberguard_hackathon/train.csv', 'row': 4}, page_content='category: Online and Social Media Related Crime\\nsub_category: Online Job Fraud\\ncrimeaditionalinfo: In apna Job I have applied for job interview for telecalling and the resource management wrote that twelve hundred will be charged for security amount of laptop and work from home when I have given interview on the given address next day they charged twelve hundred and six hundred more money in the name of insurance after that they have referred me to the job calling there is no work of laptop neither a work from home kindly please take action against it as soon as possible and if possible please help me to recover my financial loss'),\n",
              " Document(metadata={'source': '/content/drive/MyDrive/cyberguard_hackathon/train.csv', 'row': 5}, page_content='category: Online Financial Fraud\\nsub_category: Fraud CallVishing\\ncrimeaditionalinfo: I received a call from lady stating that she will send new phone of vivo and I received that parcel through post on  th February to Kurnool head post office  where I have not received any mobile'),\n",
              " Document(metadata={'source': '/content/drive/MyDrive/cyberguard_hackathon/train.csv', 'row': 6}, page_content='category: Online Financial Fraud\\nsub_category: UPI Related Frauds\\ncrimeaditionalinfo: FRAUD \\t UPI PAYTM \\r\\nBANK \\tPunjab National Bank including Oriental Bank of Commerce and United Bank of India\\t\\r\\nACCOUNT NUMBER  \\r\\nTOTAL AMOUNT  \\r\\nPLEASE HOLD REVERSE TOTAL AMOUNT IN THE COMPLAINT ACCOUNT AND TAKE NECESSARY ACTION'),\n",
              " Document(metadata={'source': '/content/drive/MyDrive/cyberguard_hackathon/train.csv', 'row': 7}, page_content='category: Online Financial Fraud\\nsub_category: Fraud CallVishing\\ncrimeaditionalinfo: Sir I am Prabhat Singh jat  An app on playstore which name is rupeestarsago  I\\r\\nhave been never applied for a loan from this app  They copied my contact\\r\\nlist and asking for loan repayment they are calling my contacts and\\r\\nrelatives and abusing himher  They are mentally harrasing me Please\\r\\ntake strict action on this  They are defaming me infront of my contact and\\r\\nrelatives They are forced me to do suicide I am not able swith on my\\r\\nmobile phone they are calling continuously and abusing me  If this is not\\r\\nclosed i commit suiside'),\n",
              " Document(metadata={'source': '/content/drive/MyDrive/cyberguard_hackathon/train.csv', 'row': 8}, page_content='category: Online Financial Fraud\\nsub_category: Internet Banking Related Fraud\\ncrimeaditionalinfo: FINANCIAL FRAUD  RS'),\n",
              " Document(metadata={'source': '/content/drive/MyDrive/cyberguard_hackathon/train.csv', 'row': 9}, page_content='category: RapeGang Rape RGRSexually Abusive Content\\nsub_category: \\ncrimeaditionalinfo: I got the message on Whatsapp to my number The message contains very abusive words This message also includes my friend name and his number in that The same message was forwarded to all other friends also For more details please look into the file attached here Please take action ASAP')]"
            ]
          },
          "metadata": {},
          "execution_count": 11
        }
      ]
    },
    {
      "cell_type": "code",
      "source": [
        "from langchain.text_splitter import RecursiveCharacterTextSplitter\n",
        "text_splitter1 = RecursiveCharacterTextSplitter(chunk_size=1000, chunk_overlap=20)\n",
        "documents1 = text_splitter1.split_documents(text_documents1)"
      ],
      "metadata": {
        "id": "GUbN91mZ9kP1"
      },
      "execution_count": 12,
      "outputs": []
    },
    {
      "cell_type": "code",
      "source": [
        "from langchain_community.vectorstores import DocArrayInMemorySearch\n",
        "from langchain_openai.embeddings import OpenAIEmbeddings\n",
        "\n",
        "embeddings = OpenAIEmbeddings(openai_api_key=OPENAI_API_KEY)\n",
        "vectorstore1 = DocArrayInMemorySearch.from_documents(documents1, embeddings)"
      ],
      "metadata": {
        "colab": {
          "base_uri": "https://localhost:8080/"
        },
        "id": "6W_H5VBl9t_G",
        "outputId": "fa1f68ef-53be-41b1-fc7b-2dd4e2f9b096"
      },
      "execution_count": 13,
      "outputs": [
        {
          "output_type": "stream",
          "name": "stderr",
          "text": [
            "/usr/local/lib/python3.10/dist-packages/pydantic/_migration.py:283: UserWarning: `pydantic.error_wrappers:ValidationError` has been moved to `pydantic:ValidationError`.\n",
            "  warnings.warn(f'`{import_path}` has been moved to `{new_location}`.')\n"
          ]
        }
      ]
    },
    {
      "cell_type": "code",
      "source": [
        "import pandas as pd\n",
        "dfs_test=pd.read_csv(\"/content/drive/MyDrive/cyberguard_hackathon/160_test_data.csv\")"
      ],
      "metadata": {
        "id": "uE4-w2zQ92ll"
      },
      "execution_count": 14,
      "outputs": []
    },
    {
      "cell_type": "code",
      "source": [
        "dfs_test1=dfs_test.drop(columns=[\"sub_category\"])"
      ],
      "metadata": {
        "id": "l5S9LVgW-E8_"
      },
      "execution_count": 15,
      "outputs": []
    },
    {
      "cell_type": "code",
      "source": [
        "dfs_test1.isnull().sum()"
      ],
      "metadata": {
        "colab": {
          "base_uri": "https://localhost:8080/",
          "height": 147
        },
        "id": "bRN5KDGn_ACA",
        "outputId": "a4b90055-52a2-4487-b031-057cfbe1d0bf"
      },
      "execution_count": 16,
      "outputs": [
        {
          "output_type": "execute_result",
          "data": {
            "text/plain": [
              "category              0\n",
              "crimeaditionalinfo    0\n",
              "dtype: int64"
            ],
            "text/html": [
              "<div>\n",
              "<style scoped>\n",
              "    .dataframe tbody tr th:only-of-type {\n",
              "        vertical-align: middle;\n",
              "    }\n",
              "\n",
              "    .dataframe tbody tr th {\n",
              "        vertical-align: top;\n",
              "    }\n",
              "\n",
              "    .dataframe thead th {\n",
              "        text-align: right;\n",
              "    }\n",
              "</style>\n",
              "<table border=\"1\" class=\"dataframe\">\n",
              "  <thead>\n",
              "    <tr style=\"text-align: right;\">\n",
              "      <th></th>\n",
              "      <th>0</th>\n",
              "    </tr>\n",
              "  </thead>\n",
              "  <tbody>\n",
              "    <tr>\n",
              "      <th>category</th>\n",
              "      <td>0</td>\n",
              "    </tr>\n",
              "    <tr>\n",
              "      <th>crimeaditionalinfo</th>\n",
              "      <td>0</td>\n",
              "    </tr>\n",
              "  </tbody>\n",
              "</table>\n",
              "</div><br><label><b>dtype:</b> int64</label>"
            ]
          },
          "metadata": {},
          "execution_count": 16
        }
      ]
    },
    {
      "cell_type": "code",
      "source": [
        "dfs_test.dropna(inplace = True)"
      ],
      "metadata": {
        "id": "2xQ_kd8z_DpI"
      },
      "execution_count": 17,
      "outputs": []
    },
    {
      "cell_type": "code",
      "source": [
        "datas=list(dfs_test[\"sub_category\"][:10])"
      ],
      "metadata": {
        "id": "p5am-N_d-KZ-"
      },
      "execution_count": 18,
      "outputs": []
    },
    {
      "cell_type": "code",
      "source": [
        "str(dfs_test1.iloc[1])"
      ],
      "metadata": {
        "colab": {
          "base_uri": "https://localhost:8080/",
          "height": 53
        },
        "id": "cG3ze_3p-zkw",
        "outputId": "cc0afea1-d7dc-490e-a1bf-5cd68707b1df"
      },
      "execution_count": 19,
      "outputs": [
        {
          "output_type": "execute_result",
          "data": {
            "text/plain": [
              "'category                               Online Financial Fraud\\ncrimeaditionalinfo    KOTAK MAHINDRA BANK FRAUD\\\\nFRAUD AMOUNT\\nName: 1, dtype: object'"
            ],
            "application/vnd.google.colaboratory.intrinsic+json": {
              "type": "string"
            }
          },
          "metadata": {},
          "execution_count": 19
        }
      ]
    },
    {
      "cell_type": "code",
      "source": [
        "from langchain_core.runnables import RunnableParallel, RunnablePassthrough\n",
        "from langchain_core.output_parsers import StrOutputParser\n",
        "from operator import itemgetter\n",
        "from langchain.schema.runnable import RunnableLambda\n",
        "\n",
        "parser = StrOutputParser()\n",
        "retriever=vectorstore1.as_retriever()\n",
        "import random\n",
        "\n",
        "def generate_label_subsets(labels, num_instances, num_incorrect_labels):\n",
        "    \"\"\"\n",
        "    Generate label subsets for each instance.\n",
        "\n",
        "    Args:\n",
        "    - labels (list): List of labels.\n",
        "    - num_instances (int): Number of instances.\n",
        "    - num_incorrect_labels (int): Number of incorrect labels per instance.\n",
        "\n",
        "    Returns:\n",
        "    - list: List of lists, each containing the correct label followed by a list of incorrect labels.\n",
        "    \"\"\"\n",
        "    label_subsets = []\n",
        "\n",
        "    for _ in range(num_instances):\n",
        "        correct_label = random.choice(labels)\n",
        "        incorrect_labels = random.sample([label for label in labels if label != correct_label], num_incorrect_labels)\n",
        "        subset = [correct_label] + incorrect_labels\n",
        "        random.shuffle(subset)  # Shuffle the subset\n",
        "        label_subsets.append(subset)\n",
        "\n",
        "    return label_subsets\n",
        "\n",
        "# Example usage\n",
        "labels =datas\n",
        "num_instances = len(datas)\n",
        "num_incorrect_labels = 3\n",
        "\n",
        "\n",
        "def create_list(*elements):\n",
        "    \"\"\"\n",
        "    Create a list from the given elements.\n",
        "\n",
        "    Args:\n",
        "        *elements: Variable number of elements to be added to the list.\n",
        "\n",
        "    Returns:\n",
        "        List containing the input elements.\n",
        "    \"\"\"\n",
        "    return list(elements)\n",
        "\n",
        "\n",
        "label_subsets = generate_label_subsets(labels, num_instances, num_incorrect_labels)\n",
        "\n",
        "# for i in range(0,10):\n",
        "#   chain = (\n",
        "#     #{\"context\":retriever,\"data\":lambda x : [\"Paradoxical Commandments\",\"Creative Thoughts About A Challenging Life\",\"A Cozy Read filled with Wisdom\",\"Tap into Secret Wealth\"],\"question\": RunnablePassthrough() }\n",
        "#      {\"context\":retriever,\"data\":lambda x :label_subsets[i],\"question\": RunnablePassthrough() }\n",
        "#     # {\"context\":retriever,\"data\":{\"text1\":itemgetter(\"text1\"),\"text2\":itemgetter(\"text2\"),\"text3\":itemgetter(\"text3\"),\"text4\":itemgetter(\"text4\")}|RunnableLambda(create_list),\"question\": itemgetter(\"question\") }\n",
        "#     #  {\"context\":retriever,\"data\":{\"text1\":\"Paradoxical Commandments\",\"text2\":\"Creative Thoughts About A Challenging Life\",\"text3\": \"A Cozy Read filled with Wisdom\",\"text4\":\"Tap into Secret Wealth\"}|RunnableLambda(create_list),\"question\": RunnablePassthrough() }\n",
        "#     | prompt1\n",
        "#     | model\n",
        "#     | parser )\n",
        "# for i in range(10):\n",
        "#   print (f\"Prediction{i}.{chain.invoke(str(dfs_test1.iloc[i]))}\")\n",
        "#   print (f\" Actual{i}.{dfs_test['sub_category'][i]}\")\n",
        "\n",
        "\n",
        "# Corrected loop where 'chain' is defined inside\n",
        "for i in range(10):\n",
        "    # Create a new chain for each iteration using label_subsets\n",
        "    chain = (\n",
        "        {\"context\": retriever, \"data\": lambda x: label_subsets[i], \"question\": RunnablePassthrough()}\n",
        "        | prompt1\n",
        "        | model\n",
        "        | parser\n",
        "    )\n",
        "\n",
        "    # Get the text for prediction and actual category for the i-th row\n",
        "    input_text = dfs_test1.iloc[i]  # Access the i-th row for prediction input\n",
        "    actual_category = dfs_test.iloc[i]['sub_category']  # Access the category column for actual value\n",
        "\n",
        "    # Run the prediction chain\n",
        "    prediction = chain.invoke(str(input_text))\n",
        "\n",
        "    # Display the results\n",
        "    print(f\"Prediction {i}: {prediction}\")\n",
        "    print(f\"Actual {i}: {actual_category}\")\n"
      ],
      "metadata": {
        "colab": {
          "base_uri": "https://localhost:8080/"
        },
        "id": "JoMMatIm-zoO",
        "outputId": "10061ad1-645e-4555-f073-c4faf3a4cc6f"
      },
      "execution_count": 22,
      "outputs": [
        {
          "output_type": "stream",
          "name": "stdout",
          "text": [
            "Prediction 0: None\n",
            "Actual 0: nan\n",
            "Prediction 1: Internet Banking Related Fraud\n",
            "Actual 1: DebitCredit Card FraudSim Swap Fraud\n",
            "Prediction 2: Internet Banking Related Fraud\n",
            "Actual 2: SQL Injection\n",
            "Prediction 3: Internet Banking Related Fraud\n",
            "Actual 3: Fraud CallVishing\n",
            "Prediction 4: Other\n",
            "Actual 4: Other\n",
            "Prediction 5: Internet Banking Related Fraud\n",
            "Actual 5: Internet Banking Related Fraud\n",
            "Prediction 6: Damage to computer computer systems etc\n",
            "Actual 6: Unauthorised AccessData Breach\n",
            "Prediction 7: Fraud CallVishing\n",
            "Actual 7: UPI Related Frauds\n",
            "Prediction 8: Internet Banking Related Fraud\n",
            "Actual 8: Internet Banking Related Fraud\n",
            "Prediction 9: Internet Banking Related Fraud\n",
            "Actual 9: DebitCredit Card FraudSim Swap Fraud\n"
          ]
        }
      ]
    },
    {
      "cell_type": "code",
      "source": [
        "import pandas as pd\n",
        "from sklearn.metrics import accuracy_score, precision_score, recall_score, f1_score, confusion_matrix, roc_auc_score\n",
        "\n",
        "# Load the CSV file\n",
        "dfs_test = pd.read_csv(\"/content/10test.csv\")  # Replace with your actual CSV file path\n",
        "\n",
        "# List of possible labels (assuming they are in `dfs['sub_category']`)\n",
        "labels = dfs['sub_category'].values\n",
        "\n",
        "# Define the number of incorrect labels for each instance\n",
        "num_incorrect_labels = 3\n",
        "\n",
        "# Initialize lists to store true and predicted labels\n",
        "y_true = []\n",
        "y_pred = []\n",
        "\n",
        "# Loop through each row in the DataFrame\n",
        "for index, row in dfs_test.iterrows():\n",
        "    text = row[\"sub_category\"]  # Replace with the actual text column name\n",
        "    actual_category = row[\"sub_category\"]  # Replace with the actual category column name\n",
        "    y_true.append(actual_category)  # Append the actual category to y_true\n",
        "\n",
        "    # Generate a label subset for this instance\n",
        "    label_subset = generate_label_subsets(labels, 1, num_incorrect_labels)[0]\n",
        "\n",
        "    # Create and run the chain with the correct variable name for \"data\"\n",
        "    single_chain = (\n",
        "        {\"context\": retriever, \"data\": lambda x: label_subset, \"question\": RunnablePassthrough()}\n",
        "        | prompt1\n",
        "        | model\n",
        "        | parser\n",
        "    )\n",
        "\n",
        "    # Get the prediction\n",
        "    try:\n",
        "        prediction = single_chain.invoke(str(text)).strip()\n",
        "    except Exception as e:\n",
        "        print(f\"Error in prediction for row {index+1}: {e}\")\n",
        "        prediction = \"\"\n",
        "\n",
        "    y_pred.append(prediction)  # Append the prediction to y_pred\n",
        "\n",
        "# Calculate evaluation metrics\n",
        "accuracy = accuracy_score(y_true, y_pred)\n",
        "precision = precision_score(y_true, y_pred, average='weighted')  # Adjust `average` if needed\n",
        "recall = recall_score(y_true, y_pred, average='weighted')\n",
        "f1 = f1_score(y_true, y_pred, average='weighted')\n",
        "conf_matrix = confusion_matrix(y_true, y_pred)\n",
        "\n",
        "# Display results\n",
        "print(f\"Accuracy: {accuracy}\")\n",
        "print(f\"Precision: {precision}\")\n",
        "print(f\"Recall: {recall}\")\n",
        "print(f\"F1 Score: {f1}\")\n",
        "print(\"Confusion Matrix:\")\n",
        "print(conf_matrix)\n",
        "\n",
        "# For ROC-AUC (only for binary classification cases)\n",
        "if len(set(y_true)) == 2:\n",
        "    # Ensure `y_pred_proba` exists and represents probability of each class\n",
        "    # Assuming `y_pred_proba` contains probabilities of the positive class\n",
        "    roc_auc = roc_auc_score(y_true, y_pred_proba[:, 1])\n",
        "    print(f\"ROC-AUC Score: {roc_auc}\")\n"
      ],
      "metadata": {
        "colab": {
          "base_uri": "https://localhost:8080/"
        },
        "id": "aT1i6onk_YL9",
        "outputId": "24edbebc-fd36-4dd4-9770-b8662818829d"
      },
      "execution_count": 21,
      "outputs": [
        {
          "output_type": "stream",
          "name": "stdout",
          "text": [
            "Accuracy: 0.4166666666666667\n",
            "Precision: 0.39292328042328045\n",
            "Recall: 0.4166666666666667\n",
            "F1 Score: 0.38170194003527336\n",
            "Confusion Matrix:\n",
            "[[0 0 0 0 0 0 0 0 0 0 0 0 0 0 0 0 0 0 0]\n",
            " [0 0 0 0 0 0 0 0 0 0 0 0 0 0 0 0 0 0 0]\n",
            " [0 0 0 0 0 0 0 0 0 0 0 0 0 0 0 0 1 0 0]\n",
            " [0 0 0 0 0 1 0 0 0 0 0 0 0 0 0 0 0 0 0]\n",
            " [0 0 0 0 2 0 0 1 0 0 0 0 0 0 0 0 1 0 0]\n",
            " [0 0 0 0 0 0 0 0 0 0 0 0 0 0 0 0 0 0 0]\n",
            " [0 0 0 0 0 0 0 0 0 0 0 0 0 0 1 0 0 0 0]\n",
            " [0 0 0 0 0 0 0 1 0 0 0 0 0 0 0 0 0 0 0]\n",
            " [0 0 0 0 0 0 0 0 0 0 0 0 0 0 0 0 0 0 0]\n",
            " [0 0 0 0 0 0 0 0 0 1 0 0 0 1 0 0 0 0 0]\n",
            " [0 0 0 0 0 0 0 0 0 0 1 0 0 1 0 0 0 0 0]\n",
            " [0 0 0 0 0 0 0 0 0 0 0 0 0 2 0 0 0 0 0]\n",
            " [0 0 0 0 0 0 0 0 0 0 0 0 0 0 0 0 0 0 0]\n",
            " [1 0 0 0 0 0 0 0 2 0 0 0 0 1 0 0 0 0 0]\n",
            " [0 1 0 0 0 0 0 0 1 0 0 0 0 0 0 0 0 0 0]\n",
            " [0 0 0 0 0 0 0 0 0 0 0 0 1 0 0 0 0 0 0]\n",
            " [0 0 0 0 0 0 0 1 0 0 0 0 0 0 0 0 9 0 0]\n",
            " [0 0 0 0 0 0 0 0 0 0 0 0 0 0 0 0 1 0 0]\n",
            " [0 0 0 0 1 0 0 1 0 0 0 0 0 0 0 0 2 0 0]]\n"
          ]
        },
        {
          "output_type": "stream",
          "name": "stderr",
          "text": [
            "/usr/local/lib/python3.10/dist-packages/sklearn/metrics/_classification.py:1531: UndefinedMetricWarning: Precision is ill-defined and being set to 0.0 in labels with no predicted samples. Use `zero_division` parameter to control this behavior.\n",
            "  _warn_prf(average, modifier, f\"{metric.capitalize()} is\", len(result))\n",
            "/usr/local/lib/python3.10/dist-packages/sklearn/metrics/_classification.py:1531: UndefinedMetricWarning: Recall is ill-defined and being set to 0.0 in labels with no true samples. Use `zero_division` parameter to control this behavior.\n",
            "  _warn_prf(average, modifier, f\"{metric.capitalize()} is\", len(result))\n"
          ]
        }
      ]
    },
    {
      "cell_type": "code",
      "source": [],
      "metadata": {
        "id": "SyXK9u3hHSgT"
      },
      "execution_count": null,
      "outputs": []
    }
  ]
}