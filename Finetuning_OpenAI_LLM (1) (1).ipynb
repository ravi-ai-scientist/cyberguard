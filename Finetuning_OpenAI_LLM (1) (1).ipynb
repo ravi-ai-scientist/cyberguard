{
  "nbformat": 4,
  "nbformat_minor": 0,
  "metadata": {
    "colab": {
      "provenance": []
    },
    "kernelspec": {
      "name": "python3",
      "display_name": "Python 3"
    },
    "language_info": {
      "name": "python"
    }
  },
  "cells": [
    {
      "cell_type": "code",
      "source": [
        "!pip install openai"
      ],
      "metadata": {
        "colab": {
          "base_uri": "https://localhost:8080/"
        },
        "id": "CmpV_YmBjAaR",
        "outputId": "a1eff959-7aea-4701-c484-baefd8cb658e"
      },
      "execution_count": null,
      "outputs": [
        {
          "output_type": "stream",
          "name": "stdout",
          "text": [
            "Requirement already satisfied: openai in /usr/local/lib/python3.10/dist-packages (1.52.2)\n",
            "Requirement already satisfied: anyio<5,>=3.5.0 in /usr/local/lib/python3.10/dist-packages (from openai) (3.7.1)\n",
            "Requirement already satisfied: distro<2,>=1.7.0 in /usr/local/lib/python3.10/dist-packages (from openai) (1.9.0)\n",
            "Requirement already satisfied: httpx<1,>=0.23.0 in /usr/local/lib/python3.10/dist-packages (from openai) (0.27.2)\n",
            "Requirement already satisfied: jiter<1,>=0.4.0 in /usr/local/lib/python3.10/dist-packages (from openai) (0.6.1)\n",
            "Requirement already satisfied: pydantic<3,>=1.9.0 in /usr/local/lib/python3.10/dist-packages (from openai) (2.9.2)\n",
            "Requirement already satisfied: sniffio in /usr/local/lib/python3.10/dist-packages (from openai) (1.3.1)\n",
            "Requirement already satisfied: tqdm>4 in /usr/local/lib/python3.10/dist-packages (from openai) (4.66.6)\n",
            "Requirement already satisfied: typing-extensions<5,>=4.11 in /usr/local/lib/python3.10/dist-packages (from openai) (4.12.2)\n",
            "Requirement already satisfied: idna>=2.8 in /usr/local/lib/python3.10/dist-packages (from anyio<5,>=3.5.0->openai) (3.10)\n",
            "Requirement already satisfied: exceptiongroup in /usr/local/lib/python3.10/dist-packages (from anyio<5,>=3.5.0->openai) (1.2.2)\n",
            "Requirement already satisfied: certifi in /usr/local/lib/python3.10/dist-packages (from httpx<1,>=0.23.0->openai) (2024.8.30)\n",
            "Requirement already satisfied: httpcore==1.* in /usr/local/lib/python3.10/dist-packages (from httpx<1,>=0.23.0->openai) (1.0.6)\n",
            "Requirement already satisfied: h11<0.15,>=0.13 in /usr/local/lib/python3.10/dist-packages (from httpcore==1.*->httpx<1,>=0.23.0->openai) (0.14.0)\n",
            "Requirement already satisfied: annotated-types>=0.6.0 in /usr/local/lib/python3.10/dist-packages (from pydantic<3,>=1.9.0->openai) (0.7.0)\n",
            "Requirement already satisfied: pydantic-core==2.23.4 in /usr/local/lib/python3.10/dist-packages (from pydantic<3,>=1.9.0->openai) (2.23.4)\n"
          ]
        }
      ]
    },
    {
      "cell_type": "code",
      "source": [
        "pip install openai==0.28"
      ],
      "metadata": {
        "colab": {
          "base_uri": "https://localhost:8080/"
        },
        "id": "5ok4GSAsjQIU",
        "outputId": "fa4ee580-11a2-416e-b074-4191b6540a76"
      },
      "execution_count": null,
      "outputs": [
        {
          "output_type": "stream",
          "name": "stdout",
          "text": [
            "Collecting openai==0.28\n",
            "  Downloading openai-0.28.0-py3-none-any.whl.metadata (13 kB)\n",
            "Requirement already satisfied: requests>=2.20 in /usr/local/lib/python3.10/dist-packages (from openai==0.28) (2.32.3)\n",
            "Requirement already satisfied: tqdm in /usr/local/lib/python3.10/dist-packages (from openai==0.28) (4.66.6)\n",
            "Requirement already satisfied: aiohttp in /usr/local/lib/python3.10/dist-packages (from openai==0.28) (3.10.10)\n",
            "Requirement already satisfied: charset-normalizer<4,>=2 in /usr/local/lib/python3.10/dist-packages (from requests>=2.20->openai==0.28) (3.4.0)\n",
            "Requirement already satisfied: idna<4,>=2.5 in /usr/local/lib/python3.10/dist-packages (from requests>=2.20->openai==0.28) (3.10)\n",
            "Requirement already satisfied: urllib3<3,>=1.21.1 in /usr/local/lib/python3.10/dist-packages (from requests>=2.20->openai==0.28) (2.2.3)\n",
            "Requirement already satisfied: certifi>=2017.4.17 in /usr/local/lib/python3.10/dist-packages (from requests>=2.20->openai==0.28) (2024.8.30)\n",
            "Requirement already satisfied: aiohappyeyeballs>=2.3.0 in /usr/local/lib/python3.10/dist-packages (from aiohttp->openai==0.28) (2.4.3)\n",
            "Requirement already satisfied: aiosignal>=1.1.2 in /usr/local/lib/python3.10/dist-packages (from aiohttp->openai==0.28) (1.3.1)\n",
            "Requirement already satisfied: attrs>=17.3.0 in /usr/local/lib/python3.10/dist-packages (from aiohttp->openai==0.28) (24.2.0)\n",
            "Requirement already satisfied: frozenlist>=1.1.1 in /usr/local/lib/python3.10/dist-packages (from aiohttp->openai==0.28) (1.5.0)\n",
            "Requirement already satisfied: multidict<7.0,>=4.5 in /usr/local/lib/python3.10/dist-packages (from aiohttp->openai==0.28) (6.1.0)\n",
            "Requirement already satisfied: yarl<2.0,>=1.12.0 in /usr/local/lib/python3.10/dist-packages (from aiohttp->openai==0.28) (1.17.1)\n",
            "Requirement already satisfied: async-timeout<5.0,>=4.0 in /usr/local/lib/python3.10/dist-packages (from aiohttp->openai==0.28) (4.0.3)\n",
            "Requirement already satisfied: typing-extensions>=4.1.0 in /usr/local/lib/python3.10/dist-packages (from multidict<7.0,>=4.5->aiohttp->openai==0.28) (4.12.2)\n",
            "Requirement already satisfied: propcache>=0.2.0 in /usr/local/lib/python3.10/dist-packages (from yarl<2.0,>=1.12.0->aiohttp->openai==0.28) (0.2.0)\n",
            "Downloading openai-0.28.0-py3-none-any.whl (76 kB)\n",
            "\u001b[2K   \u001b[90m━━━━━━━━━━━━━━━━━━━━━━━━━━━━━━━━━━━━━━━━\u001b[0m \u001b[32m76.5/76.5 kB\u001b[0m \u001b[31m3.1 MB/s\u001b[0m eta \u001b[36m0:00:00\u001b[0m\n",
            "\u001b[?25hInstalling collected packages: openai\n",
            "  Attempting uninstall: openai\n",
            "    Found existing installation: openai 1.54.3\n",
            "    Uninstalling openai-1.54.3:\n",
            "      Successfully uninstalled openai-1.54.3\n",
            "Successfully installed openai-0.28.0\n"
          ]
        }
      ]
    },
    {
      "cell_type": "markdown",
      "source": [
        "Training the openai Model with 10 epochs"
      ],
      "metadata": {
        "id": "IHN64sZbnmwe"
      }
    },
    {
      "cell_type": "code",
      "source": [
        "import json\n",
        "import openai\n",
        "\n",
        "# Set up your OpenAI API key\n",
        "openai.api_key = \"\"\n",
        "\n",
        "# Define the path to the training JSON file and the output JSONL file\n",
        "training_file_path = \"/content/drive/MyDrive/train1.json\"\n",
        "jsonl_file_path = \"/content/drive/MyDrive/train1.jsonl\"\n",
        "\n",
        "# Convert JSON to JSONL format\n",
        "with open(training_file_path, 'r') as json_file:\n",
        "    data = json.load(json_file)\n",
        "\n",
        "with open(jsonl_file_path, 'w') as jsonl_file:\n",
        "    for entry in data:\n",
        "        jsonl_file.write(json.dumps(entry) + '\\n')\n",
        "\n",
        "# Upload the JSONL training file\n",
        "training_file = openai.File.create(\n",
        "    file=open(jsonl_file_path, \"rb\"),\n",
        "    purpose=\"fine-tune\"\n",
        ")\n",
        "\n",
        "# Fine-tuning job with JSONL file input\n",
        "fine_tune_job = openai.FineTuningJob.create(\n",
        "    training_file=training_file[\"id\"],\n",
        "    model=\"gpt-4o-mini-2024-07-18\",\n",
        "    hyperparameters={\n",
        "        \"n_epochs\":  10\n",
        "\n",
        "    }\n",
        ")\n",
        "\n",
        "print(\"Fine-tuning job created:\", fine_tune_job)\n"
      ],
      "metadata": {
        "colab": {
          "base_uri": "https://localhost:8080/"
        },
        "id": "ZrMNOl0Rk1M5",
        "outputId": "6491c033-a6db-4451-d9e8-adb5a094263c"
      },
      "execution_count": null,
      "outputs": [
        {
          "output_type": "stream",
          "name": "stdout",
          "text": [
            "Fine-tuning job created: {\n",
            "  \"object\": \"fine_tuning.job\",\n",
            "  \"id\": \"ftjob-HW2Xq789ava9nWgArMONN76j\",\n",
            "  \"model\": \"gpt-4o-mini-2024-07-18\",\n",
            "  \"created_at\": 1731319834,\n",
            "  \"finished_at\": null,\n",
            "  \"fine_tuned_model\": null,\n",
            "  \"organization_id\": \"org-DIrIHSX189AR148czuV557NT\",\n",
            "  \"result_files\": [],\n",
            "  \"status\": \"validating_files\",\n",
            "  \"validation_file\": null,\n",
            "  \"training_file\": \"file-ZS2OPfYl3ln3Fzfw3XgXcqaY\",\n",
            "  \"hyperparameters\": {\n",
            "    \"n_epochs\": 10,\n",
            "    \"batch_size\": \"auto\",\n",
            "    \"learning_rate_multiplier\": \"auto\"\n",
            "  },\n",
            "  \"trained_tokens\": null,\n",
            "  \"error\": {},\n",
            "  \"user_provided_suffix\": null,\n",
            "  \"seed\": 1794443158,\n",
            "  \"estimated_finish\": null,\n",
            "  \"integrations\": []\n",
            "}\n"
          ]
        }
      ]
    },
    {
      "cell_type": "markdown",
      "source": [
        "Testing the model"
      ],
      "metadata": {
        "id": "QyZwVPmenuz1"
      }
    },
    {
      "cell_type": "code",
      "source": [
        "import openai\n",
        "\n",
        "# Set up your OpenAI API key\n",
        "openai.api_key = \"\"  # Replace with your actual OpenAI API key\n",
        "\n",
        "# Specify the fine-tuned model ID\n",
        "fine_tuned_model_id = \"ft:gpt-4o-mini-2024-07-18:arthink-ai::ASMGE2fu\"\n",
        "\n",
        "# Define a prompt for testing the fine-tuned model\n",
        "messages = [\n",
        "    {\"role\": \"system\", \"content\": \"You are a helpful assistant.\"},\n",
        "    {\"role\": \"user\", \"content\": \"\"\"\n",
        "    httpswwwfacebookcomprofilephpid ye Facebook php id se Facebook me friend request aaya or fir whatsapp no liya fir usne video call kiya or meri edit kar ke nude video bana li or mujhe harassment kar rahe hai or me bahut bhayvit ho gaya hu\"\"\"}\n",
        "]\n",
        "\n",
        "try:    # Get a response from the fine-tuned model using the chat completion endpoint\n",
        "    response = openai.ChatCompletion.create(\n",
        "        model=fine_tuned_model_id,\n",
        "        messages=messages,\n",
        "        max_tokens=100,  # Adjust max tokens as needed\n",
        "        temperature=0.7  # Adjust temperature for creativity level\n",
        "    )\n",
        "\n",
        "    # Print the generated response\n",
        "    print(\"Response from fine-tuned model:\", response.choices[0].message[\"content\"].strip())\n",
        "\n",
        "except openai.error.OpenAIError as e:\n",
        "    print(\"An error occurred:\", e)\n"
      ],
      "metadata": {
        "colab": {
          "base_uri": "https://localhost:8080/"
        },
        "id": "FP2o9vd12t5J",
        "outputId": "5083878d-31e4-47fb-dd56-c391801cb6f3"
      },
      "execution_count": null,
      "outputs": [
        {
          "output_type": "stream",
          "name": "stdout",
          "text": [
            "Response from fine-tuned model: Online and Social Media Related Crime\n"
          ]
        }
      ]
    },
    {
      "cell_type": "code",
      "source": [
        "import openai\n",
        "\n",
        "# Set up your OpenAI API key\n",
        "openai.api_key = \"\"  # Replace with your actual OpenAI API key\n",
        "\n",
        "# Upload the training file\n",
        "file = openai.File.create(\n",
        "    file=open(\"/content/drive/MyDrive/train1.jsonl\", \"rb\"),\n",
        "    purpose=\"fine-tune\"\n",
        ")\n",
        "\n",
        "# Create a fine-tuning job\n",
        "fine_tune_job = openai.FineTuningJob.create(\n",
        "    training_file=file[\"id\"],\n",
        "    model=\"gpt-4o-mini-2024-07-18\"\n",
        ")\n",
        "\n",
        "print(\"Fine-tuning job created:\", fine_tune_job)\n"
      ],
      "metadata": {
        "colab": {
          "base_uri": "https://localhost:8080/"
        },
        "id": "s-kXy-FLlbqq",
        "outputId": "bdb690a0-42b2-4be8-f185-3e619cd4ceeb"
      },
      "execution_count": null,
      "outputs": [
        {
          "output_type": "stream",
          "name": "stdout",
          "text": [
            "Fine-tuning job created: {\n",
            "  \"object\": \"fine_tuning.job\",\n",
            "  \"id\": \"ftjob-m910u0EeacixDNqFaJuEHnEQ\",\n",
            "  \"model\": \"gpt-4o-mini-2024-07-18\",\n",
            "  \"created_at\": 1731318028,\n",
            "  \"finished_at\": null,\n",
            "  \"fine_tuned_model\": null,\n",
            "  \"organization_id\": \"org-DIrIHSX189AR148czuV557NT\",\n",
            "  \"result_files\": [],\n",
            "  \"status\": \"validating_files\",\n",
            "  \"validation_file\": null,\n",
            "  \"training_file\": \"file-flQlnH6UCJDbEoOh1Oh41vuH\",\n",
            "  \"hyperparameters\": {\n",
            "    \"n_epochs\": \"auto\",\n",
            "    \"batch_size\": \"auto\",\n",
            "    \"learning_rate_multiplier\": \"auto\"\n",
            "  },\n",
            "  \"trained_tokens\": null,\n",
            "  \"error\": {},\n",
            "  \"user_provided_suffix\": null,\n",
            "  \"seed\": 951361276,\n",
            "  \"estimated_finish\": null,\n",
            "  \"integrations\": []\n",
            "}\n"
          ]
        }
      ]
    },
    {
      "cell_type": "markdown",
      "source": [
        "Testing with only one datapoint"
      ],
      "metadata": {
        "id": "WeX755dhGvyS"
      }
    },
    {
      "cell_type": "code",
      "source": [
        "# Set up your OpenAI API key\n",
        "openai.api_key = \"\"  # Replace with your actual OpenAI API key\n",
        "\n",
        "# Fine-tuned model ID\n",
        "fine_tuned_model_id = \"ft:gpt-4o-mini-2024-07-18:arthink-ai::ASMGE2fu\"\n",
        "\n",
        "# Define test cases with prompt and expected answer\n",
        "test_cases = [\n",
        "    {\"prompt\": \"\"\"Respected Sir\n",
        "\n",
        "A very serious matter I want to inform you Few person running or involve in some very shamefull activities by using few women at many places of kolkata gariahat ballygunge RUBY HOSPITAL BEHIND area KASBA ANANDAPUR QUEST MALL metropolis mall area ACROPOLISMALL area park circus FORUM MALL ELGIN RD Parkstreet MAIDAN AREA esplanade Garia jadavpur BEHALASAKHERBAZAR JOKA BANSDRONI  Rabindrasadanexide area  HARIDEVPUR triangular park lake mall area rashbehari area TOLLYGUNGE THAKURPUKUR BBD BAG DALHOUSIE AREA  and SALTLAKE\n",
        "\n",
        "Their name\n",
        "SUBHRO SAHA AMLAN DATTA\n",
        "IZAZ AHMED Anirban\n",
        "\n",
        "\n",
        "They officially work in a insurance office hdfclife Â a hindustanpark ab gariahat shopping mall st floor beside of reliance trend building near gariahat more  but outside at several places  they involve in some shamefull activities last years\n",
        "\n",
        "Sir a person SUBHRO SAHA forcefully involve few women employee ex FEMALE employee in such shamefull doing\n",
        "\n",
        "At afternoon evening or after evening or night time they doing this shamefull activities\n",
        "\n",
        "Many innocent people are TRAPPED and suffering in such dirty issue for long time\n",
        "They are even  to lodge a complain against them because of  threatening and blackmailing ISSUE\n",
        "\n",
        "\n",
        "From above  address PLACES and their mobile whatsapp no  you can easily trace and track their all activities You need to investigate Last years detail\n",
        "\n",
        "\n",
        "Please help\"\"\", \"expected_response\": \"RapeGang Rape RGRSexually Abusive Content\"},\n",
        "\n",
        "    # Add more test cases as needed\n",
        "]\n",
        "\n",
        "# List to hold the model's predictions\n",
        "predictions = []\n",
        "expected_responses = [case[\"expected_response\"] for case in test_cases]\n",
        "\n",
        "# Iterate over the test cases to generate model responses\n",
        "for case in test_cases:\n",
        "    # Get model response\n",
        "    response = openai.ChatCompletion.create(\n",
        "        model=fine_tuned_model_id,\n",
        "        messages=[\n",
        "            {\"role\": \"system\", \"content\": \"You are a helpful assistant.\"},\n",
        "            {\"role\": \"user\", \"content\": case[\"prompt\"]}\n",
        "        ],\n",
        "        max_tokens=100,\n",
        "        temperature=0.7\n",
        "    )\n",
        "\n",
        "    # Get the model's response and strip any extra spaces\n",
        "    generated_text = response.choices[0].message[\"content\"].strip()\n",
        "    predictions.append(generated_text)\n",
        "\n",
        "# Initialize correct predictions counter\n",
        "correct_predictions = 0\n",
        "\n",
        "# Print actual and fine-tuned answers for each test case, and check accuracy\n",
        "for case, predicted in zip(test_cases, predictions):\n",
        "    print(f\"Prompt: {case['prompt']}\")\n",
        "    print(f\"Expected Answer: {case['expected_response']}\")\n",
        "    print(f\"Fine-tuned Answer: {predicted}\")\n",
        "\n",
        "    # Check if the predicted answer matches the expected answer\n",
        "    if predicted.lower() == case['expected_response'].lower():\n",
        "        correct_predictions += 1\n",
        "\n",
        "    print(\"-\" * 50)  # Separator for readability\n",
        "\n",
        "# Calculate and print accuracy\n",
        "accuracy = correct_predictions / len(test_cases)\n",
        "print(f\"Accuracy: {accuracy:.2f}\")\n"
      ],
      "metadata": {
        "colab": {
          "base_uri": "https://localhost:8080/"
        },
        "id": "crZ7ctweONSR",
        "outputId": "a88d567f-3a46-4c7a-e981-4db4cedc6363"
      },
      "execution_count": null,
      "outputs": [
        {
          "output_type": "stream",
          "name": "stdout",
          "text": [
            "Prompt: Respected Sir\n",
            " \n",
            "A very serious matter I want to inform you Few person running or involve in some very shamefull activities by using few women at many places of kolkata gariahat ballygunge RUBY HOSPITAL BEHIND area KASBA ANANDAPUR QUEST MALL metropolis mall area ACROPOLISMALL area park circus FORUM MALL ELGIN RD Parkstreet MAIDAN AREA esplanade Garia jadavpur BEHALASAKHERBAZAR JOKA BANSDRONI  Rabindrasadanexide area  HARIDEVPUR triangular park lake mall area rashbehari area TOLLYGUNGE THAKURPUKUR BBD BAG DALHOUSIE AREA  and SALTLAKE\n",
            " \n",
            "Their name \n",
            "SUBHRO SAHA AMLAN DATTA \n",
            "IZAZ AHMED Anirban\n",
            " \n",
            " \n",
            "They officially work in a insurance office hdfclife Â a hindustanpark ab gariahat shopping mall st floor beside of reliance trend building near gariahat more  but outside at several places  they involve in some shamefull activities last years\n",
            " \n",
            "Sir a person SUBHRO SAHA forcefully involve few women employee ex FEMALE employee in such shamefull doing\n",
            " \n",
            "At afternoon evening or after evening or night time they doing this shamefull activities\n",
            " \n",
            "Many innocent people are TRAPPED and suffering in such dirty issue for long time\n",
            "They are even  to lodge a complain against them because of  threatening and blackmailing ISSUE\n",
            " \n",
            " \n",
            "From above  address PLACES and their mobile whatsapp no  you can easily trace and track their all activities You need to investigate Last years detail\n",
            " \n",
            " \n",
            "Please help\n",
            "Expected Answer: RapeGang Rape RGRSexually Abusive Content\n",
            "Fine-tuned Answer: RapeGang Rape RGRSexually Abusive Content\n",
            "--------------------------------------------------\n",
            "Accuracy: 1.00\n"
          ]
        }
      ]
    },
    {
      "cell_type": "code",
      "source": [],
      "metadata": {
        "id": "RjHprkegOTaA"
      },
      "execution_count": null,
      "outputs": []
    }
  ]
}